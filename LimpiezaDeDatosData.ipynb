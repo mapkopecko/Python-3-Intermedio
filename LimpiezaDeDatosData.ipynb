{
 "cells": [
  {
   "cell_type": "markdown",
   "metadata": {},
   "source": [
    "# Limpieza de datos"
   ]
  },
  {
   "cell_type": "markdown",
   "metadata": {},
   "source": [
    "## Instalacion de Librerias para manipular Datos\n",
    "## Primero Instalamos la libreria Pandas"
   ]
  },
  {
   "cell_type": "code",
   "execution_count": null,
   "metadata": {},
   "outputs": [],
   "source": [
    "pip install pandas"
   ]
  },
  {
   "cell_type": "markdown",
   "metadata": {},
   "source": [
    "## Despues de Instalar Pandas\n",
    "## Mandamos llamar Pandas con la siguiente Instrucción"
   ]
  },
  {
   "cell_type": "code",
   "execution_count": null,
   "metadata": {},
   "outputs": [],
   "source": [
    "import pandas as pd"
   ]
  },
  {
   "cell_type": "markdown",
   "metadata": {},
   "source": [
    "### Mi Base de Datos llamada data"
   ]
  },
  {
   "cell_type": "markdown",
   "metadata": {},
   "source": [
    "# Aquí creamos nuestra Base de Datos con el nombre data"
   ]
  },
  {
   "cell_type": "code",
   "execution_count": null,
   "metadata": {},
   "outputs": [],
   "source": [
    "data = {\n",
    "    'Nombre': ['Juan', 'María', 'Pedro', 'Ana', 'Luis','María', 'Pedro'],\n",
    "    'Edad': [25, 32, None, 42, 28, None 32,],\n",
    "    'Fecha': ['31/01/2020', '31/01/2020', None, '31/01/2020', '01/31/2020', None, '31/01/2020'],\n",
    "    'Género': ['M', 'F', None, 'F', 'M', None, 'F'],\n",
    "    'Ciudad': ['Madrid', None, 'Madrid', 'Valencia', 'Barcelona', 'Madrid', None],\n",
    "    'Altura': [175, 163, 180, 158, 170, 180, 163],\n",
    "    'Peso': [70, None, 80, 60, 75, 80, None],\n",
    "    'Ingresos': [50000, 60000, 40000, None, 55000, 40000, 60000]\n",
    "}"
   ]
  }
 ],
 "metadata": {
  "language_info": {
   "name": "python"
  },
  "orig_nbformat": 4
 },
 "nbformat": 4,
 "nbformat_minor": 2
}
