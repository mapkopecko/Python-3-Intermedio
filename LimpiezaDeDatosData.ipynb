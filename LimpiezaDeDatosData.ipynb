{
 "cells": [
  {
   "cell_type": "markdown",
   "metadata": {},
   "source": [
    "# Limpieza de datos"
   ]
  },
  {
   "cell_type": "markdown",
   "metadata": {},
   "source": [
    "## Instalacion de Librerias para manipular Datos\n",
    "## Primero Instalamos la libreria Pandas"
   ]
  },
  {
   "cell_type": "code",
   "execution_count": 416,
   "metadata": {},
   "outputs": [
    {
     "name": "stdout",
     "output_type": "stream",
     "text": [
      "Requirement already satisfied: pandas in c:\\users\\mapko\\appdata\\local\\packages\\pythonsoftwarefoundation.python.3.10_qbz5n2kfra8p0\\localcache\\local-packages\\python310\\site-packages (2.0.3)\n",
      "Requirement already satisfied: python-dateutil>=2.8.2 in c:\\users\\mapko\\appdata\\local\\packages\\pythonsoftwarefoundation.python.3.10_qbz5n2kfra8p0\\localcache\\local-packages\\python310\\site-packages (from pandas) (2.8.2)\n",
      "Requirement already satisfied: tzdata>=2022.1 in c:\\users\\mapko\\appdata\\local\\packages\\pythonsoftwarefoundation.python.3.10_qbz5n2kfra8p0\\localcache\\local-packages\\python310\\site-packages (from pandas) (2023.3)\n",
      "Requirement already satisfied: pytz>=2020.1 in c:\\users\\mapko\\appdata\\local\\packages\\pythonsoftwarefoundation.python.3.10_qbz5n2kfra8p0\\localcache\\local-packages\\python310\\site-packages (from pandas) (2023.3)\n",
      "Requirement already satisfied: numpy>=1.21.0 in c:\\users\\mapko\\appdata\\local\\packages\\pythonsoftwarefoundation.python.3.10_qbz5n2kfra8p0\\localcache\\local-packages\\python310\\site-packages (from pandas) (1.25.1)\n",
      "Requirement already satisfied: six>=1.5 in c:\\users\\mapko\\appdata\\local\\packages\\pythonsoftwarefoundation.python.3.10_qbz5n2kfra8p0\\localcache\\local-packages\\python310\\site-packages (from python-dateutil>=2.8.2->pandas) (1.16.0)\n",
      "Note: you may need to restart the kernel to use updated packages.\n"
     ]
    },
    {
     "name": "stderr",
     "output_type": "stream",
     "text": [
      "\n",
      "[notice] A new release of pip is available: 23.0.1 -> 23.1.2\n",
      "[notice] To update, run: C:\\Users\\mapko\\AppData\\Local\\Microsoft\\WindowsApps\\PythonSoftwareFoundation.Python.3.10_qbz5n2kfra8p0\\python.exe -m pip install --upgrade pip\n"
     ]
    }
   ],
   "source": [
    "pip install pandas"
   ]
  },
  {
   "cell_type": "markdown",
   "metadata": {},
   "source": [
    "## Despues de Instalar Pandas\n",
    "## Mandamos llamar Pandas con la siguiente Instrucción"
   ]
  },
  {
   "cell_type": "code",
   "execution_count": 417,
   "metadata": {},
   "outputs": [],
   "source": [
    "import pandas as pd"
   ]
  },
  {
   "cell_type": "markdown",
   "metadata": {},
   "source": [
    "### Mi Base de Datos llamada data"
   ]
  },
  {
   "cell_type": "markdown",
   "metadata": {},
   "source": [
    "### Aquí creamos nuestra Base de Datos con el nombre \"data\""
   ]
  },
  {
   "cell_type": "code",
   "execution_count": 418,
   "metadata": {},
   "outputs": [],
   "source": [
    "data = {\n",
    "    'Nombre': ['Juan','María','Pedro','An-a','Luis','María', 'Pe+dro','Tony','Luis','María','Marco','Ana','Agueda','Brenda','Mario'],\n",
    "    'Edad': [25, 32, None, 42, 28, None, 32, 18, 28, 32, 57,42,57,None,60],\n",
    "    'Fecha': ['31/01/2020','31/01/2020',None,'31-01-2020','01/31/2020',None,'31/01/2020','14-06-2015','01/31/2020','31/01/2020',None,'31/01/2020','15//2020',None,'15/03/1957'],\n",
    "    'Género': ['M','F',None,'F','M',None,'F',None,'M','F','M','F','M','M','M'],\n",
    "    'Ciudad': ['Madrid',None,'Madrid','Valencia','Baracelona','Madrid',None,'México','Baracelona',None,None,'Valeencia',None,None,'Perú'],\n",
    "    'Altura': [175,163,180,158,170,180,163,168,170,163,179,158,190,155,170],\n",
    "    'Peso': [70,None,80,60,75,80,None,None,75,None,None,60,55,00,80],\n",
    "    'Ingresos': [50000,60000,40000,None,55000,40000,60000,75000,55000,60000,None,None,None,None,150000]\n",
    "}"
   ]
  },
  {
   "cell_type": "markdown",
   "metadata": {},
   "source": [
    "### Ahora vamos a crear nuestro DataFrame con nuestra Base de Datos llama \"data\""
   ]
  },
  {
   "cell_type": "code",
   "execution_count": 419,
   "metadata": {},
   "outputs": [
    {
     "name": "stdout",
     "output_type": "stream",
     "text": [
      "    Nombre  Edad       Fecha Género      Ciudad  Altura  Peso  Ingresos\n",
      "0     Juan  25.0  31/01/2020      M      Madrid     175  70.0   50000.0\n",
      "1    María  32.0  31/01/2020      F        None     163   NaN   60000.0\n",
      "2    Pedro   NaN        None   None      Madrid     180  80.0   40000.0\n",
      "3     An-a  42.0  31-01-2020      F    Valencia     158  60.0       NaN\n",
      "4     Luis  28.0  01/31/2020      M  Baracelona     170  75.0   55000.0\n",
      "5    María   NaN        None   None      Madrid     180  80.0   40000.0\n",
      "6   Pe+dro  32.0  31/01/2020      F        None     163   NaN   60000.0\n",
      "7     Tony  18.0  14-06-2015   None      México     168   NaN   75000.0\n",
      "8     Luis  28.0  01/31/2020      M  Baracelona     170  75.0   55000.0\n",
      "9    María  32.0  31/01/2020      F        None     163   NaN   60000.0\n",
      "10   Marco  57.0        None      M        None     179   NaN       NaN\n",
      "11     Ana  42.0  31/01/2020      F   Valeencia     158  60.0       NaN\n",
      "12  Agueda  57.0    15//2020      M        None     190  55.0       NaN\n",
      "13  Brenda   NaN        None      M        None     155   0.0       NaN\n",
      "14   Mario  60.0  15/03/1957      M        Perú     170  80.0  150000.0\n"
     ]
    }
   ],
   "source": [
    "df = pd.DataFrame(data)\n",
    "\n",
    "print(df)"
   ]
  },
  {
   "cell_type": "markdown",
   "metadata": {},
   "source": [
    "### Ahora vamos mostrar nuestro DataFrame"
   ]
  },
  {
   "cell_type": "code",
   "execution_count": 420,
   "metadata": {},
   "outputs": [
    {
     "data": {
      "text/html": [
       "<div>\n",
       "<style scoped>\n",
       "    .dataframe tbody tr th:only-of-type {\n",
       "        vertical-align: middle;\n",
       "    }\n",
       "\n",
       "    .dataframe tbody tr th {\n",
       "        vertical-align: top;\n",
       "    }\n",
       "\n",
       "    .dataframe thead th {\n",
       "        text-align: right;\n",
       "    }\n",
       "</style>\n",
       "<table border=\"1\" class=\"dataframe\">\n",
       "  <thead>\n",
       "    <tr style=\"text-align: right;\">\n",
       "      <th></th>\n",
       "      <th>Nombre</th>\n",
       "      <th>Edad</th>\n",
       "      <th>Fecha</th>\n",
       "      <th>Género</th>\n",
       "      <th>Ciudad</th>\n",
       "      <th>Altura</th>\n",
       "      <th>Peso</th>\n",
       "      <th>Ingresos</th>\n",
       "    </tr>\n",
       "  </thead>\n",
       "  <tbody>\n",
       "    <tr>\n",
       "      <th>0</th>\n",
       "      <td>Juan</td>\n",
       "      <td>25.0</td>\n",
       "      <td>31/01/2020</td>\n",
       "      <td>M</td>\n",
       "      <td>Madrid</td>\n",
       "      <td>175</td>\n",
       "      <td>70.0</td>\n",
       "      <td>50000.0</td>\n",
       "    </tr>\n",
       "    <tr>\n",
       "      <th>1</th>\n",
       "      <td>María</td>\n",
       "      <td>32.0</td>\n",
       "      <td>31/01/2020</td>\n",
       "      <td>F</td>\n",
       "      <td>None</td>\n",
       "      <td>163</td>\n",
       "      <td>NaN</td>\n",
       "      <td>60000.0</td>\n",
       "    </tr>\n",
       "    <tr>\n",
       "      <th>2</th>\n",
       "      <td>Pedro</td>\n",
       "      <td>NaN</td>\n",
       "      <td>None</td>\n",
       "      <td>None</td>\n",
       "      <td>Madrid</td>\n",
       "      <td>180</td>\n",
       "      <td>80.0</td>\n",
       "      <td>40000.0</td>\n",
       "    </tr>\n",
       "    <tr>\n",
       "      <th>3</th>\n",
       "      <td>An-a</td>\n",
       "      <td>42.0</td>\n",
       "      <td>31-01-2020</td>\n",
       "      <td>F</td>\n",
       "      <td>Valencia</td>\n",
       "      <td>158</td>\n",
       "      <td>60.0</td>\n",
       "      <td>NaN</td>\n",
       "    </tr>\n",
       "    <tr>\n",
       "      <th>4</th>\n",
       "      <td>Luis</td>\n",
       "      <td>28.0</td>\n",
       "      <td>01/31/2020</td>\n",
       "      <td>M</td>\n",
       "      <td>Baracelona</td>\n",
       "      <td>170</td>\n",
       "      <td>75.0</td>\n",
       "      <td>55000.0</td>\n",
       "    </tr>\n",
       "    <tr>\n",
       "      <th>5</th>\n",
       "      <td>María</td>\n",
       "      <td>NaN</td>\n",
       "      <td>None</td>\n",
       "      <td>None</td>\n",
       "      <td>Madrid</td>\n",
       "      <td>180</td>\n",
       "      <td>80.0</td>\n",
       "      <td>40000.0</td>\n",
       "    </tr>\n",
       "    <tr>\n",
       "      <th>6</th>\n",
       "      <td>Pe+dro</td>\n",
       "      <td>32.0</td>\n",
       "      <td>31/01/2020</td>\n",
       "      <td>F</td>\n",
       "      <td>None</td>\n",
       "      <td>163</td>\n",
       "      <td>NaN</td>\n",
       "      <td>60000.0</td>\n",
       "    </tr>\n",
       "    <tr>\n",
       "      <th>7</th>\n",
       "      <td>Tony</td>\n",
       "      <td>18.0</td>\n",
       "      <td>14-06-2015</td>\n",
       "      <td>None</td>\n",
       "      <td>México</td>\n",
       "      <td>168</td>\n",
       "      <td>NaN</td>\n",
       "      <td>75000.0</td>\n",
       "    </tr>\n",
       "    <tr>\n",
       "      <th>8</th>\n",
       "      <td>Luis</td>\n",
       "      <td>28.0</td>\n",
       "      <td>01/31/2020</td>\n",
       "      <td>M</td>\n",
       "      <td>Baracelona</td>\n",
       "      <td>170</td>\n",
       "      <td>75.0</td>\n",
       "      <td>55000.0</td>\n",
       "    </tr>\n",
       "    <tr>\n",
       "      <th>9</th>\n",
       "      <td>María</td>\n",
       "      <td>32.0</td>\n",
       "      <td>31/01/2020</td>\n",
       "      <td>F</td>\n",
       "      <td>None</td>\n",
       "      <td>163</td>\n",
       "      <td>NaN</td>\n",
       "      <td>60000.0</td>\n",
       "    </tr>\n",
       "    <tr>\n",
       "      <th>10</th>\n",
       "      <td>Marco</td>\n",
       "      <td>57.0</td>\n",
       "      <td>None</td>\n",
       "      <td>M</td>\n",
       "      <td>None</td>\n",
       "      <td>179</td>\n",
       "      <td>NaN</td>\n",
       "      <td>NaN</td>\n",
       "    </tr>\n",
       "    <tr>\n",
       "      <th>11</th>\n",
       "      <td>Ana</td>\n",
       "      <td>42.0</td>\n",
       "      <td>31/01/2020</td>\n",
       "      <td>F</td>\n",
       "      <td>Valeencia</td>\n",
       "      <td>158</td>\n",
       "      <td>60.0</td>\n",
       "      <td>NaN</td>\n",
       "    </tr>\n",
       "    <tr>\n",
       "      <th>12</th>\n",
       "      <td>Agueda</td>\n",
       "      <td>57.0</td>\n",
       "      <td>15//2020</td>\n",
       "      <td>M</td>\n",
       "      <td>None</td>\n",
       "      <td>190</td>\n",
       "      <td>55.0</td>\n",
       "      <td>NaN</td>\n",
       "    </tr>\n",
       "    <tr>\n",
       "      <th>13</th>\n",
       "      <td>Brenda</td>\n",
       "      <td>NaN</td>\n",
       "      <td>None</td>\n",
       "      <td>M</td>\n",
       "      <td>None</td>\n",
       "      <td>155</td>\n",
       "      <td>0.0</td>\n",
       "      <td>NaN</td>\n",
       "    </tr>\n",
       "    <tr>\n",
       "      <th>14</th>\n",
       "      <td>Mario</td>\n",
       "      <td>60.0</td>\n",
       "      <td>15/03/1957</td>\n",
       "      <td>M</td>\n",
       "      <td>Perú</td>\n",
       "      <td>170</td>\n",
       "      <td>80.0</td>\n",
       "      <td>150000.0</td>\n",
       "    </tr>\n",
       "  </tbody>\n",
       "</table>\n",
       "</div>"
      ],
      "text/plain": [
       "    Nombre  Edad       Fecha Género      Ciudad  Altura  Peso  Ingresos\n",
       "0     Juan  25.0  31/01/2020      M      Madrid     175  70.0   50000.0\n",
       "1    María  32.0  31/01/2020      F        None     163   NaN   60000.0\n",
       "2    Pedro   NaN        None   None      Madrid     180  80.0   40000.0\n",
       "3     An-a  42.0  31-01-2020      F    Valencia     158  60.0       NaN\n",
       "4     Luis  28.0  01/31/2020      M  Baracelona     170  75.0   55000.0\n",
       "5    María   NaN        None   None      Madrid     180  80.0   40000.0\n",
       "6   Pe+dro  32.0  31/01/2020      F        None     163   NaN   60000.0\n",
       "7     Tony  18.0  14-06-2015   None      México     168   NaN   75000.0\n",
       "8     Luis  28.0  01/31/2020      M  Baracelona     170  75.0   55000.0\n",
       "9    María  32.0  31/01/2020      F        None     163   NaN   60000.0\n",
       "10   Marco  57.0        None      M        None     179   NaN       NaN\n",
       "11     Ana  42.0  31/01/2020      F   Valeencia     158  60.0       NaN\n",
       "12  Agueda  57.0    15//2020      M        None     190  55.0       NaN\n",
       "13  Brenda   NaN        None      M        None     155   0.0       NaN\n",
       "14   Mario  60.0  15/03/1957      M        Perú     170  80.0  150000.0"
      ]
     },
     "execution_count": 420,
     "metadata": {},
     "output_type": "execute_result"
    }
   ],
   "source": [
    "df"
   ]
  },
  {
   "cell_type": "markdown",
   "metadata": {},
   "source": [
    "### Ahora vamos mostrar nuestro primeros 5 regsitros de nuestro DataFrame"
   ]
  },
  {
   "cell_type": "code",
   "execution_count": 421,
   "metadata": {},
   "outputs": [
    {
     "data": {
      "text/html": [
       "<div>\n",
       "<style scoped>\n",
       "    .dataframe tbody tr th:only-of-type {\n",
       "        vertical-align: middle;\n",
       "    }\n",
       "\n",
       "    .dataframe tbody tr th {\n",
       "        vertical-align: top;\n",
       "    }\n",
       "\n",
       "    .dataframe thead th {\n",
       "        text-align: right;\n",
       "    }\n",
       "</style>\n",
       "<table border=\"1\" class=\"dataframe\">\n",
       "  <thead>\n",
       "    <tr style=\"text-align: right;\">\n",
       "      <th></th>\n",
       "      <th>Nombre</th>\n",
       "      <th>Edad</th>\n",
       "      <th>Fecha</th>\n",
       "      <th>Género</th>\n",
       "      <th>Ciudad</th>\n",
       "      <th>Altura</th>\n",
       "      <th>Peso</th>\n",
       "      <th>Ingresos</th>\n",
       "    </tr>\n",
       "  </thead>\n",
       "  <tbody>\n",
       "    <tr>\n",
       "      <th>0</th>\n",
       "      <td>Juan</td>\n",
       "      <td>25.0</td>\n",
       "      <td>31/01/2020</td>\n",
       "      <td>M</td>\n",
       "      <td>Madrid</td>\n",
       "      <td>175</td>\n",
       "      <td>70.0</td>\n",
       "      <td>50000.0</td>\n",
       "    </tr>\n",
       "    <tr>\n",
       "      <th>1</th>\n",
       "      <td>María</td>\n",
       "      <td>32.0</td>\n",
       "      <td>31/01/2020</td>\n",
       "      <td>F</td>\n",
       "      <td>None</td>\n",
       "      <td>163</td>\n",
       "      <td>NaN</td>\n",
       "      <td>60000.0</td>\n",
       "    </tr>\n",
       "    <tr>\n",
       "      <th>2</th>\n",
       "      <td>Pedro</td>\n",
       "      <td>NaN</td>\n",
       "      <td>None</td>\n",
       "      <td>None</td>\n",
       "      <td>Madrid</td>\n",
       "      <td>180</td>\n",
       "      <td>80.0</td>\n",
       "      <td>40000.0</td>\n",
       "    </tr>\n",
       "    <tr>\n",
       "      <th>3</th>\n",
       "      <td>An-a</td>\n",
       "      <td>42.0</td>\n",
       "      <td>31-01-2020</td>\n",
       "      <td>F</td>\n",
       "      <td>Valencia</td>\n",
       "      <td>158</td>\n",
       "      <td>60.0</td>\n",
       "      <td>NaN</td>\n",
       "    </tr>\n",
       "    <tr>\n",
       "      <th>4</th>\n",
       "      <td>Luis</td>\n",
       "      <td>28.0</td>\n",
       "      <td>01/31/2020</td>\n",
       "      <td>M</td>\n",
       "      <td>Baracelona</td>\n",
       "      <td>170</td>\n",
       "      <td>75.0</td>\n",
       "      <td>55000.0</td>\n",
       "    </tr>\n",
       "  </tbody>\n",
       "</table>\n",
       "</div>"
      ],
      "text/plain": [
       "  Nombre  Edad       Fecha Género      Ciudad  Altura  Peso  Ingresos\n",
       "0   Juan  25.0  31/01/2020      M      Madrid     175  70.0   50000.0\n",
       "1  María  32.0  31/01/2020      F        None     163   NaN   60000.0\n",
       "2  Pedro   NaN        None   None      Madrid     180  80.0   40000.0\n",
       "3   An-a  42.0  31-01-2020      F    Valencia     158  60.0       NaN\n",
       "4   Luis  28.0  01/31/2020      M  Baracelona     170  75.0   55000.0"
      ]
     },
     "execution_count": 421,
     "metadata": {},
     "output_type": "execute_result"
    }
   ],
   "source": [
    "df.head()"
   ]
  },
  {
   "cell_type": "markdown",
   "metadata": {},
   "source": [
    "### Ahora vamos mostrar nuestro ultimos 5 regsitros de nuestro DataFrame"
   ]
  },
  {
   "cell_type": "code",
   "execution_count": 422,
   "metadata": {},
   "outputs": [
    {
     "data": {
      "text/html": [
       "<div>\n",
       "<style scoped>\n",
       "    .dataframe tbody tr th:only-of-type {\n",
       "        vertical-align: middle;\n",
       "    }\n",
       "\n",
       "    .dataframe tbody tr th {\n",
       "        vertical-align: top;\n",
       "    }\n",
       "\n",
       "    .dataframe thead th {\n",
       "        text-align: right;\n",
       "    }\n",
       "</style>\n",
       "<table border=\"1\" class=\"dataframe\">\n",
       "  <thead>\n",
       "    <tr style=\"text-align: right;\">\n",
       "      <th></th>\n",
       "      <th>Nombre</th>\n",
       "      <th>Edad</th>\n",
       "      <th>Fecha</th>\n",
       "      <th>Género</th>\n",
       "      <th>Ciudad</th>\n",
       "      <th>Altura</th>\n",
       "      <th>Peso</th>\n",
       "      <th>Ingresos</th>\n",
       "    </tr>\n",
       "  </thead>\n",
       "  <tbody>\n",
       "    <tr>\n",
       "      <th>10</th>\n",
       "      <td>Marco</td>\n",
       "      <td>57.0</td>\n",
       "      <td>None</td>\n",
       "      <td>M</td>\n",
       "      <td>None</td>\n",
       "      <td>179</td>\n",
       "      <td>NaN</td>\n",
       "      <td>NaN</td>\n",
       "    </tr>\n",
       "    <tr>\n",
       "      <th>11</th>\n",
       "      <td>Ana</td>\n",
       "      <td>42.0</td>\n",
       "      <td>31/01/2020</td>\n",
       "      <td>F</td>\n",
       "      <td>Valeencia</td>\n",
       "      <td>158</td>\n",
       "      <td>60.0</td>\n",
       "      <td>NaN</td>\n",
       "    </tr>\n",
       "    <tr>\n",
       "      <th>12</th>\n",
       "      <td>Agueda</td>\n",
       "      <td>57.0</td>\n",
       "      <td>15//2020</td>\n",
       "      <td>M</td>\n",
       "      <td>None</td>\n",
       "      <td>190</td>\n",
       "      <td>55.0</td>\n",
       "      <td>NaN</td>\n",
       "    </tr>\n",
       "    <tr>\n",
       "      <th>13</th>\n",
       "      <td>Brenda</td>\n",
       "      <td>NaN</td>\n",
       "      <td>None</td>\n",
       "      <td>M</td>\n",
       "      <td>None</td>\n",
       "      <td>155</td>\n",
       "      <td>0.0</td>\n",
       "      <td>NaN</td>\n",
       "    </tr>\n",
       "    <tr>\n",
       "      <th>14</th>\n",
       "      <td>Mario</td>\n",
       "      <td>60.0</td>\n",
       "      <td>15/03/1957</td>\n",
       "      <td>M</td>\n",
       "      <td>Perú</td>\n",
       "      <td>170</td>\n",
       "      <td>80.0</td>\n",
       "      <td>150000.0</td>\n",
       "    </tr>\n",
       "  </tbody>\n",
       "</table>\n",
       "</div>"
      ],
      "text/plain": [
       "    Nombre  Edad       Fecha Género     Ciudad  Altura  Peso  Ingresos\n",
       "10   Marco  57.0        None      M       None     179   NaN       NaN\n",
       "11     Ana  42.0  31/01/2020      F  Valeencia     158  60.0       NaN\n",
       "12  Agueda  57.0    15//2020      M       None     190  55.0       NaN\n",
       "13  Brenda   NaN        None      M       None     155   0.0       NaN\n",
       "14   Mario  60.0  15/03/1957      M       Perú     170  80.0  150000.0"
      ]
     },
     "execution_count": 422,
     "metadata": {},
     "output_type": "execute_result"
    }
   ],
   "source": [
    "df.tail()"
   ]
  },
  {
   "cell_type": "markdown",
   "metadata": {},
   "source": [
    "### Ahora vamos mostrar la Información de DataFrame"
   ]
  },
  {
   "cell_type": "code",
   "execution_count": 423,
   "metadata": {},
   "outputs": [
    {
     "name": "stdout",
     "output_type": "stream",
     "text": [
      "<class 'pandas.core.frame.DataFrame'>\n",
      "RangeIndex: 15 entries, 0 to 14\n",
      "Data columns (total 8 columns):\n",
      " #   Column    Non-Null Count  Dtype  \n",
      "---  ------    --------------  -----  \n",
      " 0   Nombre    15 non-null     object \n",
      " 1   Edad      12 non-null     float64\n",
      " 2   Fecha     11 non-null     object \n",
      " 3   Género    12 non-null     object \n",
      " 4   Ciudad    9 non-null      object \n",
      " 5   Altura    15 non-null     int64  \n",
      " 6   Peso      10 non-null     float64\n",
      " 7   Ingresos  10 non-null     float64\n",
      "dtypes: float64(3), int64(1), object(4)\n",
      "memory usage: 1.1+ KB\n"
     ]
    }
   ],
   "source": [
    "df.info()"
   ]
  },
  {
   "cell_type": "markdown",
   "metadata": {},
   "source": [
    "### Ahora vamos desplegar los registros que tienen sus datos completos en nuestro DataFrame\n",
    "### Creamos un nuevo DataFrame llamado df_sin_vacios y lo desplegamos para verificar los registros completos.\n",
    "### Primero desplegamos nuestro DataFrame"
   ]
  },
  {
   "cell_type": "code",
   "execution_count": 424,
   "metadata": {},
   "outputs": [
    {
     "data": {
      "text/html": [
       "<div>\n",
       "<style scoped>\n",
       "    .dataframe tbody tr th:only-of-type {\n",
       "        vertical-align: middle;\n",
       "    }\n",
       "\n",
       "    .dataframe tbody tr th {\n",
       "        vertical-align: top;\n",
       "    }\n",
       "\n",
       "    .dataframe thead th {\n",
       "        text-align: right;\n",
       "    }\n",
       "</style>\n",
       "<table border=\"1\" class=\"dataframe\">\n",
       "  <thead>\n",
       "    <tr style=\"text-align: right;\">\n",
       "      <th></th>\n",
       "      <th>Nombre</th>\n",
       "      <th>Edad</th>\n",
       "      <th>Fecha</th>\n",
       "      <th>Género</th>\n",
       "      <th>Ciudad</th>\n",
       "      <th>Altura</th>\n",
       "      <th>Peso</th>\n",
       "      <th>Ingresos</th>\n",
       "    </tr>\n",
       "  </thead>\n",
       "  <tbody>\n",
       "    <tr>\n",
       "      <th>0</th>\n",
       "      <td>Juan</td>\n",
       "      <td>25.0</td>\n",
       "      <td>31/01/2020</td>\n",
       "      <td>M</td>\n",
       "      <td>Madrid</td>\n",
       "      <td>175</td>\n",
       "      <td>70.0</td>\n",
       "      <td>50000.0</td>\n",
       "    </tr>\n",
       "    <tr>\n",
       "      <th>1</th>\n",
       "      <td>María</td>\n",
       "      <td>32.0</td>\n",
       "      <td>31/01/2020</td>\n",
       "      <td>F</td>\n",
       "      <td>None</td>\n",
       "      <td>163</td>\n",
       "      <td>NaN</td>\n",
       "      <td>60000.0</td>\n",
       "    </tr>\n",
       "    <tr>\n",
       "      <th>2</th>\n",
       "      <td>Pedro</td>\n",
       "      <td>NaN</td>\n",
       "      <td>None</td>\n",
       "      <td>None</td>\n",
       "      <td>Madrid</td>\n",
       "      <td>180</td>\n",
       "      <td>80.0</td>\n",
       "      <td>40000.0</td>\n",
       "    </tr>\n",
       "    <tr>\n",
       "      <th>3</th>\n",
       "      <td>An-a</td>\n",
       "      <td>42.0</td>\n",
       "      <td>31-01-2020</td>\n",
       "      <td>F</td>\n",
       "      <td>Valencia</td>\n",
       "      <td>158</td>\n",
       "      <td>60.0</td>\n",
       "      <td>NaN</td>\n",
       "    </tr>\n",
       "    <tr>\n",
       "      <th>4</th>\n",
       "      <td>Luis</td>\n",
       "      <td>28.0</td>\n",
       "      <td>01/31/2020</td>\n",
       "      <td>M</td>\n",
       "      <td>Baracelona</td>\n",
       "      <td>170</td>\n",
       "      <td>75.0</td>\n",
       "      <td>55000.0</td>\n",
       "    </tr>\n",
       "    <tr>\n",
       "      <th>5</th>\n",
       "      <td>María</td>\n",
       "      <td>NaN</td>\n",
       "      <td>None</td>\n",
       "      <td>None</td>\n",
       "      <td>Madrid</td>\n",
       "      <td>180</td>\n",
       "      <td>80.0</td>\n",
       "      <td>40000.0</td>\n",
       "    </tr>\n",
       "    <tr>\n",
       "      <th>6</th>\n",
       "      <td>Pe+dro</td>\n",
       "      <td>32.0</td>\n",
       "      <td>31/01/2020</td>\n",
       "      <td>F</td>\n",
       "      <td>None</td>\n",
       "      <td>163</td>\n",
       "      <td>NaN</td>\n",
       "      <td>60000.0</td>\n",
       "    </tr>\n",
       "    <tr>\n",
       "      <th>7</th>\n",
       "      <td>Tony</td>\n",
       "      <td>18.0</td>\n",
       "      <td>14-06-2015</td>\n",
       "      <td>None</td>\n",
       "      <td>México</td>\n",
       "      <td>168</td>\n",
       "      <td>NaN</td>\n",
       "      <td>75000.0</td>\n",
       "    </tr>\n",
       "    <tr>\n",
       "      <th>8</th>\n",
       "      <td>Luis</td>\n",
       "      <td>28.0</td>\n",
       "      <td>01/31/2020</td>\n",
       "      <td>M</td>\n",
       "      <td>Baracelona</td>\n",
       "      <td>170</td>\n",
       "      <td>75.0</td>\n",
       "      <td>55000.0</td>\n",
       "    </tr>\n",
       "    <tr>\n",
       "      <th>9</th>\n",
       "      <td>María</td>\n",
       "      <td>32.0</td>\n",
       "      <td>31/01/2020</td>\n",
       "      <td>F</td>\n",
       "      <td>None</td>\n",
       "      <td>163</td>\n",
       "      <td>NaN</td>\n",
       "      <td>60000.0</td>\n",
       "    </tr>\n",
       "    <tr>\n",
       "      <th>10</th>\n",
       "      <td>Marco</td>\n",
       "      <td>57.0</td>\n",
       "      <td>None</td>\n",
       "      <td>M</td>\n",
       "      <td>None</td>\n",
       "      <td>179</td>\n",
       "      <td>NaN</td>\n",
       "      <td>NaN</td>\n",
       "    </tr>\n",
       "    <tr>\n",
       "      <th>11</th>\n",
       "      <td>Ana</td>\n",
       "      <td>42.0</td>\n",
       "      <td>31/01/2020</td>\n",
       "      <td>F</td>\n",
       "      <td>Valeencia</td>\n",
       "      <td>158</td>\n",
       "      <td>60.0</td>\n",
       "      <td>NaN</td>\n",
       "    </tr>\n",
       "    <tr>\n",
       "      <th>12</th>\n",
       "      <td>Agueda</td>\n",
       "      <td>57.0</td>\n",
       "      <td>15//2020</td>\n",
       "      <td>M</td>\n",
       "      <td>None</td>\n",
       "      <td>190</td>\n",
       "      <td>55.0</td>\n",
       "      <td>NaN</td>\n",
       "    </tr>\n",
       "    <tr>\n",
       "      <th>13</th>\n",
       "      <td>Brenda</td>\n",
       "      <td>NaN</td>\n",
       "      <td>None</td>\n",
       "      <td>M</td>\n",
       "      <td>None</td>\n",
       "      <td>155</td>\n",
       "      <td>0.0</td>\n",
       "      <td>NaN</td>\n",
       "    </tr>\n",
       "    <tr>\n",
       "      <th>14</th>\n",
       "      <td>Mario</td>\n",
       "      <td>60.0</td>\n",
       "      <td>15/03/1957</td>\n",
       "      <td>M</td>\n",
       "      <td>Perú</td>\n",
       "      <td>170</td>\n",
       "      <td>80.0</td>\n",
       "      <td>150000.0</td>\n",
       "    </tr>\n",
       "  </tbody>\n",
       "</table>\n",
       "</div>"
      ],
      "text/plain": [
       "    Nombre  Edad       Fecha Género      Ciudad  Altura  Peso  Ingresos\n",
       "0     Juan  25.0  31/01/2020      M      Madrid     175  70.0   50000.0\n",
       "1    María  32.0  31/01/2020      F        None     163   NaN   60000.0\n",
       "2    Pedro   NaN        None   None      Madrid     180  80.0   40000.0\n",
       "3     An-a  42.0  31-01-2020      F    Valencia     158  60.0       NaN\n",
       "4     Luis  28.0  01/31/2020      M  Baracelona     170  75.0   55000.0\n",
       "5    María   NaN        None   None      Madrid     180  80.0   40000.0\n",
       "6   Pe+dro  32.0  31/01/2020      F        None     163   NaN   60000.0\n",
       "7     Tony  18.0  14-06-2015   None      México     168   NaN   75000.0\n",
       "8     Luis  28.0  01/31/2020      M  Baracelona     170  75.0   55000.0\n",
       "9    María  32.0  31/01/2020      F        None     163   NaN   60000.0\n",
       "10   Marco  57.0        None      M        None     179   NaN       NaN\n",
       "11     Ana  42.0  31/01/2020      F   Valeencia     158  60.0       NaN\n",
       "12  Agueda  57.0    15//2020      M        None     190  55.0       NaN\n",
       "13  Brenda   NaN        None      M        None     155   0.0       NaN\n",
       "14   Mario  60.0  15/03/1957      M        Perú     170  80.0  150000.0"
      ]
     },
     "execution_count": 424,
     "metadata": {},
     "output_type": "execute_result"
    }
   ],
   "source": [
    "df"
   ]
  },
  {
   "cell_type": "markdown",
   "metadata": {},
   "source": [
    "### Desplegamos los registros que estan completos en nuestro DataFrame\n",
    "### Crearemos un nuevo DatFrame con el nombre de df_sin_vacios"
   ]
  },
  {
   "cell_type": "code",
   "execution_count": 425,
   "metadata": {},
   "outputs": [
    {
     "name": "stdout",
     "output_type": "stream",
     "text": [
      "   Nombre  Edad       Fecha Género      Ciudad  Altura  Peso  Ingresos\n",
      "0    Juan  25.0  31/01/2020      M      Madrid     175  70.0   50000.0\n",
      "4    Luis  28.0  01/31/2020      M  Baracelona     170  75.0   55000.0\n",
      "8    Luis  28.0  01/31/2020      M  Baracelona     170  75.0   55000.0\n",
      "14  Mario  60.0  15/03/1957      M        Perú     170  80.0  150000.0\n"
     ]
    }
   ],
   "source": [
    "df_sin_vacios = df.dropna()\n",
    "\n",
    "print(df_sin_vacios.to_string())"
   ]
  },
  {
   "cell_type": "markdown",
   "metadata": {},
   "source": [
    "### Desplegamos los registros que estan completos o que no están vacios en nuestro DataFrame"
   ]
  },
  {
   "cell_type": "code",
   "execution_count": 426,
   "metadata": {},
   "outputs": [
    {
     "name": "stdout",
     "output_type": "stream",
     "text": [
      "   Nombre  Edad       Fecha Género      Ciudad  Altura  Peso  Ingresos\n",
      "0    Juan  25.0  31/01/2020      M      Madrid     175  70.0   50000.0\n",
      "4    Luis  28.0  01/31/2020      M  Baracelona     170  75.0   55000.0\n",
      "8    Luis  28.0  01/31/2020      M  Baracelona     170  75.0   55000.0\n",
      "14  Mario  60.0  15/03/1957      M        Perú     170  80.0  150000.0\n"
     ]
    }
   ],
   "source": [
    "df.dropna(inplace= True)\n",
    "\n",
    "print(df.to_string())"
   ]
  },
  {
   "cell_type": "markdown",
   "metadata": {},
   "source": [
    "### Desplegamos nuevamente nuestro DataFrame"
   ]
  },
  {
   "cell_type": "code",
   "execution_count": 427,
   "metadata": {},
   "outputs": [
    {
     "name": "stdout",
     "output_type": "stream",
     "text": [
      "    Nombre  Edad       Fecha Género      Ciudad  Altura  Peso  Ingresos\n",
      "0     Juan  25.0  31/01/2020      M      Madrid     175  70.0   50000.0\n",
      "1    María  32.0  31/01/2020      F        None     163   NaN   60000.0\n",
      "2    Pedro   NaN        None   None      Madrid     180  80.0   40000.0\n",
      "3     An-a  42.0  31-01-2020      F    Valencia     158  60.0       NaN\n",
      "4     Luis  28.0  01/31/2020      M  Baracelona     170  75.0   55000.0\n",
      "5    María   NaN        None   None      Madrid     180  80.0   40000.0\n",
      "6   Pe+dro  32.0  31/01/2020      F        None     163   NaN   60000.0\n",
      "7     Tony  18.0  14-06-2015   None      México     168   NaN   75000.0\n",
      "8     Luis  28.0  01/31/2020      M  Baracelona     170  75.0   55000.0\n",
      "9    María  32.0  31/01/2020      F        None     163   NaN   60000.0\n",
      "10   Marco  57.0        None      M        None     179   NaN       NaN\n",
      "11     Ana  42.0  31/01/2020      F   Valeencia     158  60.0       NaN\n",
      "12  Agueda  57.0    15//2020      M        None     190  55.0       NaN\n",
      "13  Brenda   NaN        None      M        None     155   0.0       NaN\n",
      "14   Mario  60.0  15/03/1957      M        Perú     170  80.0  150000.0\n"
     ]
    }
   ],
   "source": [
    "df = pd.DataFrame(data)\n",
    "\n",
    "print(df)"
   ]
  },
  {
   "cell_type": "markdown",
   "metadata": {},
   "source": [
    "### Despues de verificar los registros con lugares vacios en nuestro DataFrame\n",
    "### Vamos a COMPLETAR esos lugares sin datos con la etiqueta Sin_Dato en nuestro DataFrame\n",
    "### Creamos un nuevo DataFrame llamado df_completar y lo desplegamos."
   ]
  },
  {
   "cell_type": "code",
   "execution_count": 428,
   "metadata": {},
   "outputs": [
    {
     "name": "stdout",
     "output_type": "stream",
     "text": [
      "    Nombre      Edad       Fecha    Género      Ciudad  Altura      Peso  Ingresos\n",
      "0     Juan      25.0  31/01/2020         M      Madrid     175      70.0   50000.0\n",
      "1    María      32.0  31/01/2020         F    Sin_Dato     163  Sin_Dato   60000.0\n",
      "2    Pedro  Sin_Dato    Sin_Dato  Sin_Dato      Madrid     180      80.0   40000.0\n",
      "3     An-a      42.0  31-01-2020         F    Valencia     158      60.0  Sin_Dato\n",
      "4     Luis      28.0  01/31/2020         M  Baracelona     170      75.0   55000.0\n",
      "5    María  Sin_Dato    Sin_Dato  Sin_Dato      Madrid     180      80.0   40000.0\n",
      "6   Pe+dro      32.0  31/01/2020         F    Sin_Dato     163  Sin_Dato   60000.0\n",
      "7     Tony      18.0  14-06-2015  Sin_Dato      México     168  Sin_Dato   75000.0\n",
      "8     Luis      28.0  01/31/2020         M  Baracelona     170      75.0   55000.0\n",
      "9    María      32.0  31/01/2020         F    Sin_Dato     163  Sin_Dato   60000.0\n",
      "10   Marco      57.0    Sin_Dato         M    Sin_Dato     179  Sin_Dato  Sin_Dato\n",
      "11     Ana      42.0  31/01/2020         F   Valeencia     158      60.0  Sin_Dato\n",
      "12  Agueda      57.0    15//2020         M    Sin_Dato     190      55.0  Sin_Dato\n",
      "13  Brenda  Sin_Dato    Sin_Dato         M    Sin_Dato     155       0.0  Sin_Dato\n",
      "14   Mario      60.0  15/03/1957         M        Perú     170      80.0  150000.0\n"
     ]
    }
   ],
   "source": [
    "df_completar = df.fillna(\"Sin_Dato\")\n",
    "\n",
    "print(df_completar.to_string())"
   ]
  },
  {
   "cell_type": "markdown",
   "metadata": {},
   "source": [
    "### Creamos un nuevo DataFrame con la columna Ingresos para modificarla\n",
    "### Vamos a rellenar con un cero (0) el campo que no tenga dato numerico"
   ]
  },
  {
   "cell_type": "code",
   "execution_count": 429,
   "metadata": {},
   "outputs": [
    {
     "name": "stdout",
     "output_type": "stream",
     "text": [
      "0      50000.0\n",
      "1      60000.0\n",
      "2      40000.0\n",
      "3          0.0\n",
      "4      55000.0\n",
      "5      40000.0\n",
      "6      60000.0\n",
      "7      75000.0\n",
      "8      55000.0\n",
      "9      60000.0\n",
      "10         0.0\n",
      "11         0.0\n",
      "12         0.0\n",
      "13         0.0\n",
      "14    150000.0\n",
      "Name: Ingresos, dtype: float64\n"
     ]
    }
   ],
   "source": [
    "df_con_un_cero = df[\"Ingresos\"].fillna(0)\n",
    "\n",
    "print(df_con_un_cero)"
   ]
  },
  {
   "cell_type": "markdown",
   "metadata": {},
   "source": [
    "### Desplegarermos nuestra DataFrame"
   ]
  },
  {
   "cell_type": "code",
   "execution_count": 430,
   "metadata": {},
   "outputs": [
    {
     "data": {
      "text/html": [
       "<div>\n",
       "<style scoped>\n",
       "    .dataframe tbody tr th:only-of-type {\n",
       "        vertical-align: middle;\n",
       "    }\n",
       "\n",
       "    .dataframe tbody tr th {\n",
       "        vertical-align: top;\n",
       "    }\n",
       "\n",
       "    .dataframe thead th {\n",
       "        text-align: right;\n",
       "    }\n",
       "</style>\n",
       "<table border=\"1\" class=\"dataframe\">\n",
       "  <thead>\n",
       "    <tr style=\"text-align: right;\">\n",
       "      <th></th>\n",
       "      <th>Nombre</th>\n",
       "      <th>Edad</th>\n",
       "      <th>Fecha</th>\n",
       "      <th>Género</th>\n",
       "      <th>Ciudad</th>\n",
       "      <th>Altura</th>\n",
       "      <th>Peso</th>\n",
       "      <th>Ingresos</th>\n",
       "    </tr>\n",
       "  </thead>\n",
       "  <tbody>\n",
       "    <tr>\n",
       "      <th>0</th>\n",
       "      <td>Juan</td>\n",
       "      <td>25.0</td>\n",
       "      <td>31/01/2020</td>\n",
       "      <td>M</td>\n",
       "      <td>Madrid</td>\n",
       "      <td>175</td>\n",
       "      <td>70.0</td>\n",
       "      <td>50000.0</td>\n",
       "    </tr>\n",
       "    <tr>\n",
       "      <th>1</th>\n",
       "      <td>María</td>\n",
       "      <td>32.0</td>\n",
       "      <td>31/01/2020</td>\n",
       "      <td>F</td>\n",
       "      <td>None</td>\n",
       "      <td>163</td>\n",
       "      <td>NaN</td>\n",
       "      <td>60000.0</td>\n",
       "    </tr>\n",
       "    <tr>\n",
       "      <th>2</th>\n",
       "      <td>Pedro</td>\n",
       "      <td>NaN</td>\n",
       "      <td>None</td>\n",
       "      <td>None</td>\n",
       "      <td>Madrid</td>\n",
       "      <td>180</td>\n",
       "      <td>80.0</td>\n",
       "      <td>40000.0</td>\n",
       "    </tr>\n",
       "    <tr>\n",
       "      <th>3</th>\n",
       "      <td>An-a</td>\n",
       "      <td>42.0</td>\n",
       "      <td>31-01-2020</td>\n",
       "      <td>F</td>\n",
       "      <td>Valencia</td>\n",
       "      <td>158</td>\n",
       "      <td>60.0</td>\n",
       "      <td>NaN</td>\n",
       "    </tr>\n",
       "    <tr>\n",
       "      <th>4</th>\n",
       "      <td>Luis</td>\n",
       "      <td>28.0</td>\n",
       "      <td>01/31/2020</td>\n",
       "      <td>M</td>\n",
       "      <td>Baracelona</td>\n",
       "      <td>170</td>\n",
       "      <td>75.0</td>\n",
       "      <td>55000.0</td>\n",
       "    </tr>\n",
       "    <tr>\n",
       "      <th>5</th>\n",
       "      <td>María</td>\n",
       "      <td>NaN</td>\n",
       "      <td>None</td>\n",
       "      <td>None</td>\n",
       "      <td>Madrid</td>\n",
       "      <td>180</td>\n",
       "      <td>80.0</td>\n",
       "      <td>40000.0</td>\n",
       "    </tr>\n",
       "    <tr>\n",
       "      <th>6</th>\n",
       "      <td>Pe+dro</td>\n",
       "      <td>32.0</td>\n",
       "      <td>31/01/2020</td>\n",
       "      <td>F</td>\n",
       "      <td>None</td>\n",
       "      <td>163</td>\n",
       "      <td>NaN</td>\n",
       "      <td>60000.0</td>\n",
       "    </tr>\n",
       "    <tr>\n",
       "      <th>7</th>\n",
       "      <td>Tony</td>\n",
       "      <td>18.0</td>\n",
       "      <td>14-06-2015</td>\n",
       "      <td>None</td>\n",
       "      <td>México</td>\n",
       "      <td>168</td>\n",
       "      <td>NaN</td>\n",
       "      <td>75000.0</td>\n",
       "    </tr>\n",
       "    <tr>\n",
       "      <th>8</th>\n",
       "      <td>Luis</td>\n",
       "      <td>28.0</td>\n",
       "      <td>01/31/2020</td>\n",
       "      <td>M</td>\n",
       "      <td>Baracelona</td>\n",
       "      <td>170</td>\n",
       "      <td>75.0</td>\n",
       "      <td>55000.0</td>\n",
       "    </tr>\n",
       "    <tr>\n",
       "      <th>9</th>\n",
       "      <td>María</td>\n",
       "      <td>32.0</td>\n",
       "      <td>31/01/2020</td>\n",
       "      <td>F</td>\n",
       "      <td>None</td>\n",
       "      <td>163</td>\n",
       "      <td>NaN</td>\n",
       "      <td>60000.0</td>\n",
       "    </tr>\n",
       "    <tr>\n",
       "      <th>10</th>\n",
       "      <td>Marco</td>\n",
       "      <td>57.0</td>\n",
       "      <td>None</td>\n",
       "      <td>M</td>\n",
       "      <td>None</td>\n",
       "      <td>179</td>\n",
       "      <td>NaN</td>\n",
       "      <td>NaN</td>\n",
       "    </tr>\n",
       "    <tr>\n",
       "      <th>11</th>\n",
       "      <td>Ana</td>\n",
       "      <td>42.0</td>\n",
       "      <td>31/01/2020</td>\n",
       "      <td>F</td>\n",
       "      <td>Valeencia</td>\n",
       "      <td>158</td>\n",
       "      <td>60.0</td>\n",
       "      <td>NaN</td>\n",
       "    </tr>\n",
       "    <tr>\n",
       "      <th>12</th>\n",
       "      <td>Agueda</td>\n",
       "      <td>57.0</td>\n",
       "      <td>15//2020</td>\n",
       "      <td>M</td>\n",
       "      <td>None</td>\n",
       "      <td>190</td>\n",
       "      <td>55.0</td>\n",
       "      <td>NaN</td>\n",
       "    </tr>\n",
       "    <tr>\n",
       "      <th>13</th>\n",
       "      <td>Brenda</td>\n",
       "      <td>NaN</td>\n",
       "      <td>None</td>\n",
       "      <td>M</td>\n",
       "      <td>None</td>\n",
       "      <td>155</td>\n",
       "      <td>0.0</td>\n",
       "      <td>NaN</td>\n",
       "    </tr>\n",
       "    <tr>\n",
       "      <th>14</th>\n",
       "      <td>Mario</td>\n",
       "      <td>60.0</td>\n",
       "      <td>15/03/1957</td>\n",
       "      <td>M</td>\n",
       "      <td>Perú</td>\n",
       "      <td>170</td>\n",
       "      <td>80.0</td>\n",
       "      <td>150000.0</td>\n",
       "    </tr>\n",
       "  </tbody>\n",
       "</table>\n",
       "</div>"
      ],
      "text/plain": [
       "    Nombre  Edad       Fecha Género      Ciudad  Altura  Peso  Ingresos\n",
       "0     Juan  25.0  31/01/2020      M      Madrid     175  70.0   50000.0\n",
       "1    María  32.0  31/01/2020      F        None     163   NaN   60000.0\n",
       "2    Pedro   NaN        None   None      Madrid     180  80.0   40000.0\n",
       "3     An-a  42.0  31-01-2020      F    Valencia     158  60.0       NaN\n",
       "4     Luis  28.0  01/31/2020      M  Baracelona     170  75.0   55000.0\n",
       "5    María   NaN        None   None      Madrid     180  80.0   40000.0\n",
       "6   Pe+dro  32.0  31/01/2020      F        None     163   NaN   60000.0\n",
       "7     Tony  18.0  14-06-2015   None      México     168   NaN   75000.0\n",
       "8     Luis  28.0  01/31/2020      M  Baracelona     170  75.0   55000.0\n",
       "9    María  32.0  31/01/2020      F        None     163   NaN   60000.0\n",
       "10   Marco  57.0        None      M        None     179   NaN       NaN\n",
       "11     Ana  42.0  31/01/2020      F   Valeencia     158  60.0       NaN\n",
       "12  Agueda  57.0    15//2020      M        None     190  55.0       NaN\n",
       "13  Brenda   NaN        None      M        None     155   0.0       NaN\n",
       "14   Mario  60.0  15/03/1957      M        Perú     170  80.0  150000.0"
      ]
     },
     "execution_count": 430,
     "metadata": {},
     "output_type": "execute_result"
    }
   ],
   "source": [
    "df"
   ]
  },
  {
   "cell_type": "markdown",
   "metadata": {},
   "source": [
    "### Ahora vamos a realizar un cálculo estadístico en nuestro DataFrame\n",
    "### Vamos a sacar estadisticamente la media, moda y la mediana en nuestras columnas"
   ]
  },
  {
   "cell_type": "markdown",
   "metadata": {},
   "source": [
    "### Primero empezaremos por la media nuestra columna Ingresos"
   ]
  },
  {
   "cell_type": "code",
   "execution_count": 431,
   "metadata": {},
   "outputs": [
    {
     "name": "stdout",
     "output_type": "stream",
     "text": [
      "64500.0\n"
     ]
    }
   ],
   "source": [
    "nuestra_media = df[\"Ingresos\"].mean()\n",
    "\n",
    "print(nuestra_media)"
   ]
  },
  {
   "cell_type": "markdown",
   "metadata": {},
   "source": [
    "### Ahora vamos a rellenar con esta (media) llamada (nuestra_media)\n",
    "### en la columna Ingresos los lugares que no tengan dato numerico\n",
    "### Y la desplegamos para ver la modificación."
   ]
  },
  {
   "cell_type": "code",
   "execution_count": 432,
   "metadata": {},
   "outputs": [
    {
     "name": "stdout",
     "output_type": "stream",
     "text": [
      "    Nombre  Edad       Fecha Género      Ciudad  Altura  Peso  Ingresos\n",
      "0     Juan  25.0  31/01/2020      M      Madrid     175  70.0   50000.0\n",
      "1    María  32.0  31/01/2020      F        None     163   NaN   60000.0\n",
      "2    Pedro   NaN        None   None      Madrid     180  80.0   40000.0\n",
      "3     An-a  42.0  31-01-2020      F    Valencia     158  60.0   64500.0\n",
      "4     Luis  28.0  01/31/2020      M  Baracelona     170  75.0   55000.0\n",
      "5    María   NaN        None   None      Madrid     180  80.0   40000.0\n",
      "6   Pe+dro  32.0  31/01/2020      F        None     163   NaN   60000.0\n",
      "7     Tony  18.0  14-06-2015   None      México     168   NaN   75000.0\n",
      "8     Luis  28.0  01/31/2020      M  Baracelona     170  75.0   55000.0\n",
      "9    María  32.0  31/01/2020      F        None     163   NaN   60000.0\n",
      "10   Marco  57.0        None      M        None     179   NaN   64500.0\n",
      "11     Ana  42.0  31/01/2020      F   Valeencia     158  60.0   64500.0\n",
      "12  Agueda  57.0    15//2020      M        None     190  55.0   64500.0\n",
      "13  Brenda   NaN        None      M        None     155   0.0   64500.0\n",
      "14   Mario  60.0  15/03/1957      M        Perú     170  80.0  150000.0\n"
     ]
    }
   ],
   "source": [
    "df[\"Ingresos\"].fillna(nuestra_media, inplace=True)\n",
    "\n",
    "print(df)"
   ]
  },
  {
   "cell_type": "markdown",
   "metadata": {},
   "source": [
    "### Segundo vamos a sacar la moda en nuestra columna Ciudad de nuestro DataFrame\n",
    "### para despues reemplazar los campos que no tienen dato en nuestra DataFrame"
   ]
  },
  {
   "cell_type": "code",
   "execution_count": 433,
   "metadata": {},
   "outputs": [
    {
     "name": "stdout",
     "output_type": "stream",
     "text": [
      "0    Madrid\n",
      "Name: Ciudad, dtype: object\n"
     ]
    }
   ],
   "source": [
    "nuestra_moda = df[\"Ciudad\"].mode()\n",
    "\n",
    "print(nuestra_moda)"
   ]
  },
  {
   "cell_type": "markdown",
   "metadata": {},
   "source": [
    "### Ahora vamos a rellenar con esta (moda) llamada (nuestra_moda)\n",
    "### en la columna Ciudad los lugares que no tengan dato de la ciudad\n",
    "### con la instrución loc\n",
    "### Y la desplegamos para ver la modificación."
   ]
  },
  {
   "cell_type": "code",
   "execution_count": 434,
   "metadata": {},
   "outputs": [
    {
     "name": "stdout",
     "output_type": "stream",
     "text": [
      "    Nombre  Edad       Fecha Género      Ciudad  Altura  Peso  Ingresos\n",
      "0     Juan  25.0  31/01/2020      M      Madrid     175  70.0   50000.0\n",
      "1    María  32.0  31/01/2020      F        None     163   NaN   60000.0\n",
      "2    Pedro   NaN        None   None      Madrid     180  80.0   40000.0\n",
      "3     An-a  42.0  31-01-2020      F    Valencia     158  60.0   64500.0\n",
      "4     Luis  28.0  01/31/2020      M  Baracelona     170  75.0   55000.0\n",
      "5    María   NaN        None   None      Madrid     180  80.0   40000.0\n",
      "6   Pe+dro  32.0  31/01/2020      F        None     163   NaN   60000.0\n",
      "7     Tony  18.0  14-06-2015   None      México     168   NaN   75000.0\n",
      "8     Luis  28.0  01/31/2020      M  Baracelona     170  75.0   55000.0\n",
      "9    María  32.0  31/01/2020      F        None     163   NaN   60000.0\n",
      "10   Marco  57.0        None      M        None     179   NaN   64500.0\n",
      "11     Ana  42.0  31/01/2020      F   Valeencia     158  60.0   64500.0\n",
      "12  Agueda  57.0    15//2020      M        None     190  55.0   64500.0\n",
      "13  Brenda   NaN        None      M        None     155   0.0   64500.0\n",
      "14   Mario  60.0  15/03/1957      M        Perú     170  80.0  150000.0\n"
     ]
    }
   ],
   "source": [
    "print(df)"
   ]
  },
  {
   "cell_type": "markdown",
   "metadata": {},
   "source": [
    "### Y la desplegamos para ver la modificación."
   ]
  },
  {
   "cell_type": "code",
   "execution_count": 435,
   "metadata": {},
   "outputs": [
    {
     "name": "stdout",
     "output_type": "stream",
     "text": [
      "    Nombre  Edad       Fecha Género      Ciudad  Altura  Peso  Ingresos\n",
      "0     Juan  25.0  31/01/2020      M      Madrid     175  70.0   50000.0\n",
      "1    María  32.0  31/01/2020      F      Madrid     163   NaN   60000.0\n",
      "2    Pedro   NaN        None   None      Madrid     180  80.0   40000.0\n",
      "3     An-a  42.0  31-01-2020      F    Valencia     158  60.0   64500.0\n",
      "4     Luis  28.0  01/31/2020      M  Baracelona     170  75.0   55000.0\n",
      "5    María   NaN        None   None      Madrid     180  80.0   40000.0\n",
      "6   Pe+dro  32.0  31/01/2020      F      Madrid     163   NaN   60000.0\n",
      "7     Tony  18.0  14-06-2015   None      México     168   NaN   75000.0\n",
      "8     Luis  28.0  01/31/2020      M  Baracelona     170  75.0   55000.0\n",
      "9    María  32.0  31/01/2020      F      Madrid     163   NaN   60000.0\n",
      "10   Marco  57.0        None      M      Madrid     179   NaN   64500.0\n",
      "11     Ana  42.0  31/01/2020      F   Valeencia     158  60.0   64500.0\n",
      "12  Agueda  57.0    15//2020      M      Madrid     190  55.0   64500.0\n",
      "13  Brenda   NaN        None      M      Madrid     155   0.0   64500.0\n",
      "14   Mario  60.0  15/03/1957      M        Perú     170  80.0  150000.0\n"
     ]
    }
   ],
   "source": [
    "df.loc[1,\"Ciudad\"] = \"Madrid\"\n",
    "df.loc[6,\"Ciudad\"] = \"Madrid\"\n",
    "df.loc[9,\"Ciudad\"] = \"Madrid\"\n",
    "df.loc[10,\"Ciudad\"] = \"Madrid\"\n",
    "df.loc[12,\"Ciudad\"] = \"Madrid\"\n",
    "df.loc[13,\"Ciudad\"] = \"Madrid\"\n",
    "\n",
    "print(df)"
   ]
  },
  {
   "cell_type": "markdown",
   "metadata": {},
   "source": [
    "### Con la misma instrucción loc vamos a corregir\n",
    "### los nombres mal escritos en la columna Nombre (An-a y Pe+dro)\n",
    "### Y lo vamos a desplegar"
   ]
  },
  {
   "cell_type": "code",
   "execution_count": 436,
   "metadata": {},
   "outputs": [
    {
     "name": "stdout",
     "output_type": "stream",
     "text": [
      "    Nombre  Edad       Fecha Género      Ciudad  Altura  Peso  Ingresos\n",
      "0     Juan  25.0  31/01/2020      M      Madrid     175  70.0   50000.0\n",
      "1    María  32.0  31/01/2020      F      Madrid     163   NaN   60000.0\n",
      "2    Pedro   NaN        None   None      Madrid     180  80.0   40000.0\n",
      "3      Ana  42.0  31-01-2020      F    Valencia     158  60.0   64500.0\n",
      "4     Luis  28.0  01/31/2020      M  Baracelona     170  75.0   55000.0\n",
      "5    María   NaN        None   None      Madrid     180  80.0   40000.0\n",
      "6    Pedro  32.0  31/01/2020      F      Madrid     163   NaN   60000.0\n",
      "7     Tony  18.0  14-06-2015   None      México     168   NaN   75000.0\n",
      "8     Luis  28.0  01/31/2020      M  Baracelona     170  75.0   55000.0\n",
      "9    María  32.0  31/01/2020      F      Madrid     163   NaN   60000.0\n",
      "10   Marco  57.0        None      M      Madrid     179   NaN   64500.0\n",
      "11     Ana  42.0  31/01/2020      F   Valeencia     158  60.0   64500.0\n",
      "12  Agueda  57.0    15//2020      M      Madrid     190  55.0   64500.0\n",
      "13  Brenda   NaN        None      M      Madrid     155   0.0   64500.0\n",
      "14   Mario  60.0  15/03/1957      M        Perú     170  80.0  150000.0\n"
     ]
    }
   ],
   "source": [
    "df.loc[3,\"Nombre\"] = \"Ana\"\n",
    "df.loc[6,\"Nombre\"] = \"Pedro\"\n",
    "\n",
    "\n",
    "print(df)"
   ]
  },
  {
   "cell_type": "markdown",
   "metadata": {},
   "source": [
    "### Con la misma instrucción loc vamos a competar las fechas\n",
    "### faltantes y corregir las fechas mal escritas en la columna Fecha\n",
    "### Y lo vamos a desplegar"
   ]
  },
  {
   "cell_type": "code",
   "execution_count": 437,
   "metadata": {},
   "outputs": [
    {
     "name": "stdout",
     "output_type": "stream",
     "text": [
      "    Nombre  Edad       Fecha Género      Ciudad  Altura  Peso  Ingresos\n",
      "0     Juan  25.0  31/01/2020      M      Madrid     175  70.0   50000.0\n",
      "1    María  32.0  31/01/2020      F      Madrid     163   NaN   60000.0\n",
      "2    Pedro   NaN        None   None      Madrid     180  80.0   40000.0\n",
      "3      Ana  42.0  31-01-2020      F    Valencia     158  60.0   64500.0\n",
      "4     Luis  28.0  01/31/2020      M  Baracelona     170  75.0   55000.0\n",
      "5    María   NaN        None   None      Madrid     180  80.0   40000.0\n",
      "6    Pedro  32.0  31/01/2020      F      Madrid     163   NaN   60000.0\n",
      "7     Tony  18.0  14-06-2015   None      México     168   NaN   75000.0\n",
      "8     Luis  28.0  01/31/2020      M  Baracelona     170  75.0   55000.0\n",
      "9    María  32.0  31/01/2020      F      Madrid     163   NaN   60000.0\n",
      "10   Marco  57.0        None      M      Madrid     179   NaN   64500.0\n",
      "11     Ana  42.0  31/01/2020      F   Valeencia     158  60.0   64500.0\n",
      "12  Agueda  57.0    15//2020      M      Madrid     190  55.0   64500.0\n",
      "13  Brenda   NaN        None      M      Madrid     155   0.0   64500.0\n",
      "14   Mario  60.0  15/03/1957      M        Perú     170  80.0  150000.0\n"
     ]
    }
   ],
   "source": [
    "print(df)"
   ]
  },
  {
   "cell_type": "code",
   "execution_count": 438,
   "metadata": {},
   "outputs": [
    {
     "name": "stdout",
     "output_type": "stream",
     "text": [
      "    Nombre  Edad       Fecha Género      Ciudad  Altura  Peso  Ingresos\n",
      "0     Juan  25.0  31/01/2020      M      Madrid     175  70.0   50000.0\n",
      "1    María  32.0  31/01/2020      F      Madrid     163   NaN   60000.0\n",
      "2    Pedro   NaN  28/03/1970   None      Madrid     180  80.0   40000.0\n",
      "3      Ana  42.0  31/01/2020      F    Valencia     158  60.0   64500.0\n",
      "4     Luis  28.0  01/31/2020      M  Baracelona     170  75.0   55000.0\n",
      "5    María   NaN  14/11/2000   None      Madrid     180  80.0   40000.0\n",
      "6    Pedro  32.0  31/01/2020      F      Madrid     163   NaN   60000.0\n",
      "7     Tony  18.0  14/06/2015   None      México     168   NaN   75000.0\n",
      "8     Luis  28.0  01/31/2020      M  Baracelona     170  75.0   55000.0\n",
      "9    María  32.0  31/01/2020      F      Madrid     163   NaN   60000.0\n",
      "10   Marco  57.0  19/07/2008      M      Madrid     179   NaN   64500.0\n",
      "11     Ana  42.0  31/01/2020      F   Valeencia     158  60.0   64500.0\n",
      "12  Agueda  57.0  15/04/2020      M      Madrid     190  55.0   64500.0\n",
      "13  Brenda   NaN  26/11/1990      M      Madrid     155   0.0   64500.0\n",
      "14   Mario  60.0  15/03/1957      M        Perú     170  80.0  150000.0\n"
     ]
    }
   ],
   "source": [
    "df.loc[2,\"Fecha\"] = \"28/03/1970\"\n",
    "df.loc[3,\"Fecha\"] = \"31/01/2020\"\n",
    "df.loc[5,\"Fecha\"] = \"14/11/2000\"\n",
    "df.loc[7,\"Fecha\"] = \"14/06/2015\"\n",
    "df.loc[10,\"Fecha\"] = \"19/07/2008\"\n",
    "df.loc[12,\"Fecha\"] = \"15/04/2020\"\n",
    "df.loc[13,\"Fecha\"] = \"26/11/1990\"\n",
    "\n",
    "\n",
    "print(df)"
   ]
  },
  {
   "cell_type": "markdown",
   "metadata": {},
   "source": [
    "### Con la misma instrucción loc vamos a competar las edades en la columna Edad\n",
    "### Y lo vamos a desplegar"
   ]
  },
  {
   "cell_type": "code",
   "execution_count": 439,
   "metadata": {},
   "outputs": [
    {
     "name": "stdout",
     "output_type": "stream",
     "text": [
      "    Nombre  Edad       Fecha Género      Ciudad  Altura  Peso  Ingresos\n",
      "0     Juan  25.0  31/01/2020      M      Madrid     175  70.0   50000.0\n",
      "1    María  32.0  31/01/2020      F      Madrid     163   NaN   60000.0\n",
      "2    Pedro  26.0  28/03/1970   None      Madrid     180  80.0   40000.0\n",
      "3      Ana  42.0  31/01/2020      F    Valencia     158  60.0   64500.0\n",
      "4     Luis  28.0  01/31/2020      M  Baracelona     170  75.0   55000.0\n",
      "5    María  44.0  14/11/2000   None      Madrid     180  80.0   40000.0\n",
      "6    Pedro  32.0  31/01/2020      F      Madrid     163   NaN   60000.0\n",
      "7     Tony  18.0  14/06/2015   None      México     168   NaN   75000.0\n",
      "8     Luis  28.0  01/31/2020      M  Baracelona     170  75.0   55000.0\n",
      "9    María  32.0  31/01/2020      F      Madrid     163   NaN   60000.0\n",
      "10   Marco  57.0  19/07/2008      M      Madrid     179   NaN   64500.0\n",
      "11     Ana  42.0  31/01/2020      F   Valeencia     158  60.0   64500.0\n",
      "12  Agueda  57.0  15/04/2020      M      Madrid     190  55.0   64500.0\n",
      "13  Brenda  55.0  26/11/1990      M      Madrid     155   0.0   64500.0\n",
      "14   Mario  60.0  15/03/1957      M        Perú     170  80.0  150000.0\n"
     ]
    }
   ],
   "source": [
    "df.loc[2,\"Edad\"] = 26\n",
    "df.loc[5,\"Edad\"] = 44\n",
    "df.loc[13,\"Edad\"] = 55\n",
    "\n",
    "print(df)"
   ]
  },
  {
   "cell_type": "markdown",
   "metadata": {},
   "source": [
    "### Con la misma instrucción loc vamos a competar el sexos en la columna Género\n",
    "### Por que algunos le faltan y otros estas incorrrectos\n",
    "### Y lo vamos a desplegar"
   ]
  },
  {
   "cell_type": "code",
   "execution_count": 440,
   "metadata": {},
   "outputs": [
    {
     "name": "stdout",
     "output_type": "stream",
     "text": [
      "    Nombre  Edad       Fecha Género      Ciudad  Altura  Peso  Ingresos\n",
      "0     Juan  25.0  31/01/2020      M      Madrid     175  70.0   50000.0\n",
      "1    María  32.0  31/01/2020      F      Madrid     163   NaN   60000.0\n",
      "2    Pedro  26.0  28/03/1970      M      Madrid     180  80.0   40000.0\n",
      "3      Ana  42.0  31/01/2020      F    Valencia     158  60.0   64500.0\n",
      "4     Luis  28.0  01/31/2020      M  Baracelona     170  75.0   55000.0\n",
      "5    María  44.0  14/11/2000      F      Madrid     180  80.0   40000.0\n",
      "6    Pedro  32.0  31/01/2020      M      Madrid     163   NaN   60000.0\n",
      "7     Tony  18.0  14/06/2015      M      México     168   NaN   75000.0\n",
      "8     Luis  28.0  01/31/2020      M  Baracelona     170  75.0   55000.0\n",
      "9    María  32.0  31/01/2020      F      Madrid     163   NaN   60000.0\n",
      "10   Marco  57.0  19/07/2008      M      Madrid     179   NaN   64500.0\n",
      "11     Ana  42.0  31/01/2020      F   Valeencia     158  60.0   64500.0\n",
      "12  Agueda  57.0  15/04/2020      F      Madrid     190  55.0   64500.0\n",
      "13  Brenda  55.0  26/11/1990      F      Madrid     155   0.0   64500.0\n",
      "14   Mario  60.0  15/03/1957      M        Perú     170  80.0  150000.0\n"
     ]
    }
   ],
   "source": [
    "df.loc[2,\"Género\"] = \"M\"\n",
    "df.loc[5,\"Género\"] = \"F\"\n",
    "df.loc[6,\"Género\"] = \"M\"\n",
    "df.loc[7,\"Género\"] = \"M\"\n",
    "df.loc[12,\"Género\"] = \"F\"\n",
    "df.loc[13,\"Género\"] = \"F\"\n",
    "\n",
    "\n",
    "print(df)"
   ]
  },
  {
   "cell_type": "markdown",
   "metadata": {},
   "source": [
    "### Con la misma instrucción loc vamos a competar el peso en la columna Peso\n",
    "### Por que algunos le faltan\n",
    "### Y lo vamos a desplegar"
   ]
  },
  {
   "cell_type": "code",
   "execution_count": 441,
   "metadata": {},
   "outputs": [
    {
     "name": "stdout",
     "output_type": "stream",
     "text": [
      "    Nombre  Edad       Fecha Género      Ciudad  Altura   Peso  Ingresos\n",
      "0     Juan  25.0  31/01/2020      M      Madrid     175   70.0   50000.0\n",
      "1    María  32.0  31/01/2020      F      Madrid     163   55.0   60000.0\n",
      "2    Pedro  26.0  28/03/1970      M      Madrid     180   80.0   40000.0\n",
      "3      Ana  42.0  31/01/2020      F    Valencia     158   60.0   64500.0\n",
      "4     Luis  28.0  01/31/2020      M  Baracelona     170   75.0   55000.0\n",
      "5    María  44.0  14/11/2000      F      Madrid     180   80.0   40000.0\n",
      "6    Pedro  32.0  31/01/2020      M      Madrid     163  100.0   60000.0\n",
      "7     Tony  18.0  14/06/2015      M      México     168  120.0   75000.0\n",
      "8     Luis  28.0  01/31/2020      M  Baracelona     170   75.0   55000.0\n",
      "9    María  32.0  31/01/2020      F      Madrid     163   75.0   60000.0\n",
      "10   Marco  57.0  19/07/2008      M      Madrid     179   80.0   64500.0\n",
      "11     Ana  42.0  31/01/2020      F   Valeencia     158   60.0   64500.0\n",
      "12  Agueda  57.0  15/04/2020      F      Madrid     190   55.0   64500.0\n",
      "13  Brenda  55.0  26/11/1990      F      Madrid     155   66.0   64500.0\n",
      "14   Mario  60.0  15/03/1957      M        Perú     170   80.0  150000.0\n"
     ]
    }
   ],
   "source": [
    "df.loc[1,\"Peso\"] = 55\n",
    "df.loc[6,\"Peso\"] = 100\n",
    "df.loc[7,\"Peso\"] = 120\n",
    "df.loc[9,\"Peso\"] = 75\n",
    "df.loc[10,\"Peso\"] = 80\n",
    "df.loc[13,\"Peso\"] = 66\n",
    "\n",
    "print(df)"
   ]
  },
  {
   "cell_type": "code",
   "execution_count": 442,
   "metadata": {},
   "outputs": [
    {
     "name": "stdout",
     "output_type": "stream",
     "text": [
      "<class 'pandas.core.frame.DataFrame'>\n",
      "RangeIndex: 15 entries, 0 to 14\n",
      "Data columns (total 8 columns):\n",
      " #   Column    Non-Null Count  Dtype  \n",
      "---  ------    --------------  -----  \n",
      " 0   Nombre    15 non-null     object \n",
      " 1   Edad      15 non-null     float64\n",
      " 2   Fecha     15 non-null     object \n",
      " 3   Género    15 non-null     object \n",
      " 4   Ciudad    15 non-null     object \n",
      " 5   Altura    15 non-null     int64  \n",
      " 6   Peso      15 non-null     float64\n",
      " 7   Ingresos  15 non-null     float64\n",
      "dtypes: float64(3), int64(1), object(4)\n",
      "memory usage: 1.1+ KB\n"
     ]
    }
   ],
   "source": [
    "df.info()"
   ]
  }
 ],
 "metadata": {
  "kernelspec": {
   "display_name": "Python 3",
   "language": "python",
   "name": "python3"
  },
  "language_info": {
   "codemirror_mode": {
    "name": "ipython",
    "version": 3
   },
   "file_extension": ".py",
   "mimetype": "text/x-python",
   "name": "python",
   "nbconvert_exporter": "python",
   "pygments_lexer": "ipython3",
   "version": "3.10.11"
  },
  "orig_nbformat": 4
 },
 "nbformat": 4,
 "nbformat_minor": 2
}
