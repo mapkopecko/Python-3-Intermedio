{
 "cells": [
  {
   "cell_type": "markdown",
   "metadata": {},
   "source": [
    "<h1 style=\"color:red\">Proyecto Analisis de Datos</h1>"
   ]
  },
  {
   "cell_type": "markdown",
   "metadata": {},
   "source": [
    "### <span style=\"color:yellow\">Utilizando la Base de Datos Salary_Data.csv</span>"
   ]
  },
  {
   "cell_type": "markdown",
   "metadata": {},
   "source": [
    "#### <span style=\"color:#800080\">Vamos a comenzar primero cargando al sistema las Librerias que vamos a utilizar tales como:</span>\n",
    "\n",
    "#### <span style=\"color:#800080\">**Numpy** , **Pandas** y  **Matplotlib**.</span>"
   ]
  },
  {
   "cell_type": "markdown",
   "metadata": {},
   "source": [
    "<h1 style=\"color:green\">NumPy</h1>\n",
    "\n",
    "##### <span style=\"color:blue\">Es una biblioteca  **\"NumPy\"** es una abreviatura de **\"Numerical Python\"** en Python utilizada para el procesamiento numérico y científico de datos. Proporciona herramientas eficientes para trabajar con matrices y arreglos multidimensionales, lo que la hace indispensable para el análisis y la manipulación de datos. **NumPy** ofrece funciones matemáticas, operaciones de matriz y se integra con otras bibliotecas científicas. En resumen, es una poderosa herramienta para el manejo de datos numéricos en Python.</span>"
   ]
  },
  {
   "cell_type": "markdown",
   "metadata": {},
   "source": [
    "<h1 style=\"color:green\">Pandas</h1>\n",
    "\n",
    "##### <span style=\"color:blue\">Pandas  **\"Panel Data\"** (datos en panel) es una biblioteca en Python que se utiliza para el análisis y manipulación de datos. Proporciona una estructura de datos tabular llamada **DataFrame**, que permite organizar y manipular datos de manera flexible. Pandas ofrece una amplia gama de funciones para limpiar, transformar y manipular datos, así como leer y escribir datos en diferentes formatos. También se integra con otras bibliotecas de Python utilizadas en el análisis de datos. En resumen, Pandas es una herramienta poderosa para el análisis y manipulación eficiente de datos en Python.</span>."
   ]
  },
  {
   "cell_type": "markdown",
   "metadata": {},
   "source": [
    "<h1 style=\"color:green\">Matplotlib</h1>\n",
    "\n",
    "\n",
    "##### <span style=\"color:blue\">**Matplotlib** es una biblioteca en Python utilizada para la visualización de datos. Permite crear gráficos en 2D y 3D, como gráficos de línea, barras, dispersión y más. **Matplotlib** ofrece amplias opciones de personalización para adaptar la apariencia de los gráficos. También permite crear subtramas y figuras, y exportar los gráficos en diferentes formatos. En resumen, **Matplotlib** es una herramienta esencial para representar datos visualmente de manera efectiva y comunicar resultados.</span>."
   ]
  },
  {
   "cell_type": "markdown",
   "metadata": {},
   "source": [
    "<h1 style=\"color:green\">Seaborn</h1>\n",
    "\n",
    "\n",
    "##### <span style=\"color:blue\">**Seaborn**  es una biblioteca de visualización de datos que se basa en la biblioteca Matplotlib. Proporciona una interfaz de alto nivel para crear gráficos atractivos y informativos con menos código en comparación con Matplotlib. **Seaborn** se utiliza comúnmente en el análisis exploratorio de datos y la visualización de resultados en proyectos de **Ciencia de Datos*. Ofrece una amplia gama de gráficos estadísticos y opciones de personalización, lo que facilita la creación de visualizaciones elegantes y efectivas. Algunas de las características y funcionalidades clave de Seaborn incluyen:                                                                                  Paletas de colores atractivas: Seaborn proporciona paletas de colores predefinidas y personalizables que permiten resaltar y distinguir diferentes categorías en los gráficos.      Gráficos estadísticos: Seaborn ofrece una variedad de gráficos estadísticos, como diagramas de dispersión, gráficos de barras, diagramas de caja, gráficos de violín y diagramas de calor, que son útiles para visualizar distribuciones, relaciones y patrones en los datos. Visualizaciones de relaciones: Seaborn permite explorar y visualizar relaciones entre variables utilizando gráficos de dispersión, diagramas de regresión y mapas de calor. Personalización y estilo: Seaborn ofrece opciones para personalizar y ajustar la apariencia de los gráficos, incluyendo títulos, etiquetas de ejes, leyendas y estilos visuales. En resumen, Seaborn es una biblioteca de visualización de datos en Python que simplifica la creación de gráficos atractivos y estadísticamente informativos. Es ampliamente utilizada en proyectos de ciencia de datos para explorar y comunicar de manera efectiva los patrones y relaciones en los datos.\n",
    "</span>"
   ]
  },
  {
   "cell_type": "markdown",
   "metadata": {},
   "source": [
    "<h3 style=\"color:#800080\">Primero llamamos mediante el sistema la instalación de las librerias Numpy, Pandas, Matplotlib y Seaborn</h3>"
   ]
  },
  {
   "cell_type": "markdown",
   "metadata": {},
   "source": [
    "<h3 style=\"color:#800080\">Instalando la librerias</h3>"
   ]
  },
  {
   "cell_type": "code",
   "execution_count": 1,
   "metadata": {},
   "outputs": [
    {
     "name": "stdout",
     "output_type": "stream",
     "text": [
      "Requirement already satisfied: pip in c:\\program files\\windowsapps\\pythonsoftwarefoundation.python.3.10_3.10.3056.0_x64__qbz5n2kfra8p0\\lib\\site-packages (23.0.1)\n",
      "Note: you may need to restart the kernel to use updated packages.\n"
     ]
    },
    {
     "name": "stderr",
     "output_type": "stream",
     "text": [
      "\n",
      "[notice] A new release of pip is available: 23.0.1 -> 23.1.2\n",
      "[notice] To update, run: C:\\Users\\mapko\\AppData\\Local\\Microsoft\\WindowsApps\\PythonSoftwareFoundation.Python.3.10_qbz5n2kfra8p0\\python.exe -m pip install --upgrade pip\n"
     ]
    }
   ],
   "source": [
    "pip install pip"
   ]
  },
  {
   "cell_type": "code",
   "execution_count": 2,
   "metadata": {},
   "outputs": [
    {
     "name": "stdout",
     "output_type": "stream",
     "text": [
      "Requirement already satisfied: numpy in c:\\users\\mapko\\appdata\\local\\packages\\pythonsoftwarefoundation.python.3.10_qbz5n2kfra8p0\\localcache\\local-packages\\python310\\site-packages (1.25.1)\n",
      "Note: you may need to restart the kernel to use updated packages.\n"
     ]
    },
    {
     "name": "stderr",
     "output_type": "stream",
     "text": [
      "\n",
      "[notice] A new release of pip is available: 23.0.1 -> 23.1.2\n",
      "[notice] To update, run: C:\\Users\\mapko\\AppData\\Local\\Microsoft\\WindowsApps\\PythonSoftwareFoundation.Python.3.10_qbz5n2kfra8p0\\python.exe -m pip install --upgrade pip\n"
     ]
    }
   ],
   "source": [
    "pip install numpy"
   ]
  },
  {
   "cell_type": "code",
   "execution_count": 3,
   "metadata": {},
   "outputs": [],
   "source": [
    "pip install pandas"
   ]
  },
  {
   "cell_type": "code",
   "execution_count": null,
   "metadata": {},
   "outputs": [],
   "source": [
    "pip install Matplotlib"
   ]
  },
  {
   "cell_type": "code",
   "execution_count": null,
   "metadata": {},
   "outputs": [],
   "source": [
    "pip install Seaborn"
   ]
  },
  {
   "cell_type": "code",
   "execution_count": null,
   "metadata": {},
   "outputs": [],
   "source": []
  },
  {
   "cell_type": "markdown",
   "metadata": {},
   "source": [
    "<h3 style=\"color:#800080\">Una vez instalados en el Sistema las librerias Numpy, Pandas, Matplotlib y Seaborn</h3>\n",
    "<h3 style=\"color:#800080\">Procedemos hacer el llamado de las librerias para ser utilizadas.</h3>"
   ]
  },
  {
   "cell_type": "code",
   "execution_count": null,
   "metadata": {},
   "outputs": [],
   "source": [
    "import numpy as np\n",
    "import pandas as pd\n",
    "import matplotlib as plt\n",
    "import matplotlib.pyplot as plt\n",
    "import seaborn as sns"
   ]
  },
  {
   "cell_type": "markdown",
   "metadata": {},
   "source": [
    "<h3 style=\"color:#800080\">Procedemos al llamada de nuestro archivo con extensión CSV con sus siglas en ingles es (\"Comma Separated Values\")</h3>\n",
    "<h3 style=\"color:#800080\">que en español es (Valores Separados por Comas) el cual lleva por nombre <<<<< **Salary_Data.csv** >>>>></h3>\n",
    "<h3 style=\"color:#800080\">y cargar al sistema nuestra Base de Datos mediante la siguiente dos instrucciones</h3>\n",
    "<h3 style=\"color:#800080\">Las cuales convierten nuestro archivo CSV en un DataFrame</h3>"
   ]
  },
  {
   "cell_type": "code",
   "execution_count": null,
   "metadata": {},
   "outputs": [],
   "source": [
    "df_Original = pd.read_csv('../Python 3 Intermedio/Salary_Data.csv')\n",
    "\n",
    "print(df_Original.to_string)"
   ]
  },
  {
   "cell_type": "markdown",
   "metadata": {},
   "source": [
    "#### <span style=\"color:yellow\">Con la siguiente instrucción visualizamos si nuestras COLUMNAS en nuestra (Estructura de Datos) ó DataFrame df_Original sufrieron algún tipo de cambio cambio en las COLUMNAS:</span>\n",
    "##### Column\n",
    "##### Non-Null\n",
    "##### Count\n",
    "##### Dtype"
   ]
  },
  {
   "cell_type": "code",
   "execution_count": null,
   "metadata": {},
   "outputs": [],
   "source": [
    "df_Original.info()"
   ]
  },
  {
   "cell_type": "markdown",
   "metadata": {},
   "source": [
    "<h3 style=\"color:#800080\">De otra forma un poco mas visual.</h3>\n",
    "\n",
    "<span style=\"color:#00FFFF\">La función print(df.to_string()) se utiliza para imprimir una representación legible de un objeto DataFrame en la consola. Cuando se utiliza\n",
    "df.to_string(), se genera una cadena de texto que muestra el contenido completo del DataFrame, incluyendo todas las filas y columnas.\n",
    "Esta cadena se pasa a la función print() para que se muestre en la consola. La ventaja de usar to_string() en lugar de simplemente imprimir el DataFrame directamente es que to_string() permite personalizar la forma en que se muestra el DataFrame. Puedes ajustar los parámetros para controlar aspectos como la cantidad de filas y columnas que se muestran, la precisión decimal, el ancho de las columnas, entre otros.   \n",
    "En resumen, print(df.to_string()) es una forma conveniente de imprimir un DataFrame en la consola, ofreciendo una representación completa y personalizable del mismo.\n",
    "</span>"
   ]
  },
  {
   "cell_type": "code",
   "execution_count": null,
   "metadata": {},
   "outputs": [],
   "source": [
    "print(df_Original.to_string())"
   ]
  },
  {
   "cell_type": "markdown",
   "metadata": {},
   "source": [
    "#### <span style=\"color:yellow\">Con la siguiente instrucción visualizamos si nuestras COLUMNAS en nuestra (Estructura de Datos) ó DataFrame df_Original sufrieron algún tipo de cambio cambio en las COLUMNAS:</span>\n",
    "##### Column\n",
    "##### Non-Null\n",
    "##### Count\n",
    "##### Dtype"
   ]
  },
  {
   "cell_type": "code",
   "execution_count": null,
   "metadata": {},
   "outputs": [],
   "source": [
    "df_Original.info()"
   ]
  },
  {
   "cell_type": "markdown",
   "metadata": {},
   "source": [
    "<h2 style=\"color:#800080\">Explorando el archivo Salary_Data.csv el cual se convirtió</h2>\n",
    "<h2 style=\"color:#800080\">en un DataFrame llamado df_Original</h2>"
   ]
  },
  {
   "cell_type": "markdown",
   "metadata": {},
   "source": [
    "<h3 style=\"color:#800080\">Vamos a visualizar los primero 5 registros de nuestro (Estructura de Datos) ó DataFrame df_Original</h3>"
   ]
  },
  {
   "cell_type": "code",
   "execution_count": null,
   "metadata": {},
   "outputs": [],
   "source": [
    "df_Original.head()"
   ]
  },
  {
   "cell_type": "markdown",
   "metadata": {},
   "source": [
    "<h3 style=\"color:#800080\">Vamos a visualizar los últimos 5 registros de nuestro (Estructura de Datos) ó DataFrame df_Original</h3>"
   ]
  },
  {
   "cell_type": "code",
   "execution_count": null,
   "metadata": {},
   "outputs": [],
   "source": [
    "df_Original.tail()"
   ]
  },
  {
   "cell_type": "markdown",
   "metadata": {},
   "source": [
    "<h3 style=\"color:#800080\">Desplegamos el número de renglones y columnas en ese orden de nuestra</h3>\n",
    "\n",
    "<h3 style=\"color:#800080\">(Estructura de Datos) ó DataFrame llamada df_Original</h3>"
   ]
  },
  {
   "cell_type": "code",
   "execution_count": null,
   "metadata": {},
   "outputs": [],
   "source": [
    "df_Original.shape"
   ]
  },
  {
   "cell_type": "markdown",
   "metadata": {},
   "source": [
    "<h3 style=\"color:#800080\">Despleguemos los nombres de los encabezados o títulos de nuestras columnas</h3>\n",
    "<h3 style=\"color:#800080\">de nuestra (Estructura de Datos) ó DataFrame llamada df_Original</h3>"
   ]
  },
  {
   "cell_type": "code",
   "execution_count": null,
   "metadata": {},
   "outputs": [],
   "source": [
    "df_Original.columns"
   ]
  },
  {
   "cell_type": "markdown",
   "metadata": {},
   "source": [
    "<h3 style=\"color:#800080\">Tambien podemos desplegar los 3 primeros encabezados que necesitemos</h3>\n",
    "<h3 style=\"color:#800080\">de nuestra (Estructura de Datos) ó DataFrame llamada df_Original</h3>"
   ]
  },
  {
   "cell_type": "code",
   "execution_count": null,
   "metadata": {},
   "outputs": [],
   "source": [
    "df_Original[['Age','Gender','Education Level']]"
   ]
  },
  {
   "cell_type": "markdown",
   "metadata": {},
   "source": [
    "<h3 style=\"color:#800080\">Tambien podemos desplegar los 3 ultimo encabezados que necesitemos</h3>\n",
    "<h3 style=\"color:#800080\">de nuestra (Estructura de Datos) ó DataFrame llamada df_Original</h3>"
   ]
  },
  {
   "cell_type": "code",
   "execution_count": null,
   "metadata": {},
   "outputs": [],
   "source": [
    "df_Original[['Job Title','Years of Experience','Salary']]"
   ]
  },
  {
   "cell_type": "markdown",
   "metadata": {},
   "source": [
    "<h3 style=\"color:#800080\">Vemos que el archivo Salary_Data.csv se convirtió</h3>\n",
    "<h3 style=\"color:#800080\">en una (Estructura de Datos) ó DataFrame llamada df_Original</h3>"
   ]
  },
  {
   "cell_type": "code",
   "execution_count": null,
   "metadata": {},
   "outputs": [],
   "source": [
    "type(df_Original)"
   ]
  },
  {
   "cell_type": "markdown",
   "metadata": {},
   "source": [
    "<h3 style=\"color:#800080\">Desplegemos la información de todas las columnas de </h3>\n",
    "<h3 style=\"color:#800080\">nuestra (Estructura de Datos) ó DataFrame llamada df_Original</h3>"
   ]
  },
  {
   "cell_type": "markdown",
   "metadata": {},
   "source": [
    "<h3 style=\"color:#800080\">Despleguemos los estadísticos descriptivos de nuetra (Estructura de Datos) ó DataFrame llamada df_Original</h3>\n",
    "\n",
    "<h5 style=\"color:#00FFFF\">En el Análisis de Datos, la función df.describe() se utiliza para obtener estadísticas descriptivas de un DataFrame. Da un resumen de las principales medidas estadísticas de las columnas Numéricas del DataFrame, como la MEDIA, la MEDIANA, la DESVIACIÓN ESTÁNDART, los valores MÍNIMO y MÁXIMO, y los PERCENTILES. \n",
    "Aplicando df.describe() a un DataFrame, se genera un nuevo DataFrame que muestra las estadísticas descriptivas de cada columna numérica. Estas estadísticas son útiles para comprender la distribución de los datos, identificar valores atípicos y tener una visión general de las características numéricas del conjunto de datos.\n",
    "\n",
    "El resultado de df.describe() incluye las siguientes estadísticas para cada columna numérica:\n",
    "\n",
    "- Recuento (count): el número de valores no nulos en la columna.\n",
    "- Media (mean): el promedio de los valores en la columna.\n",
    "- Desviación estándar (std): la medida de dispersión de los valores en la columna.\n",
    "- Valor mínimo (min): el valor mínimo en la columna.\n",
    "- Percentiles (25%, 50%, 75%): los valores que dividen los datos en cuatro partes iguales.\n",
    "- Valor máximo (max): el valor máximo en la columna.\n",
    "\n",
    "* Estas estadísticas proporcionan una visión general de la distribución y dispersión de los datos en cada columna numérica del DataFrame. Son útiles para el análisis exploratorio de datos y la identificación de patrones o anomalías en los datos.</h5>"
   ]
  },
  {
   "cell_type": "code",
   "execution_count": null,
   "metadata": {},
   "outputs": [],
   "source": [
    "df_Original.describe()"
   ]
  },
  {
   "cell_type": "markdown",
   "metadata": {},
   "source": [
    "#### <span style=\"color:yellow\">Con la siguiente instrucción visualizamos si nuestras COLUMNAS en nuestra (Estructura de Datos) ó DataFrame df_Original sufrieron algún tipo de cambio cambio en las COLUMNAS:</span>\n",
    "##### Column\n",
    "##### Non-Null\n",
    "##### Count\n",
    "##### Dtype"
   ]
  },
  {
   "cell_type": "code",
   "execution_count": null,
   "metadata": {},
   "outputs": [],
   "source": [
    "df_Original.info()"
   ]
  },
  {
   "cell_type": "markdown",
   "metadata": {},
   "source": [
    "<h3 style=\"color:#800080\">Vamos a despleguemos los registros vacíos, nulos completo o incompletos de nuetra (Estructura de Datos) ó DataFrame llamada df_Original</h3>\n",
    "\n",
    "<h5 style=\"color:#00FFFF\">Desplegemos uno por uno cada uno de los registros individualmente...</h5>"
   ]
  },
  {
   "cell_type": "code",
   "execution_count": null,
   "metadata": {},
   "outputs": [],
   "source": [
    "indice_registro_vacio = 172\n",
    "df_Original_registros_nulos = df_Original.loc[indice_registro_vacio,:]\n",
    "print(df_Original_registros_nulos)\n"
   ]
  },
  {
   "cell_type": "code",
   "execution_count": null,
   "metadata": {},
   "outputs": [],
   "source": [
    "indice_registro_vacio = 260\n",
    "df_Original_registros_nulos = df_Original.loc[indice_registro_vacio,:]\n",
    "print(df_Original_registros_nulos)"
   ]
  },
  {
   "cell_type": "code",
   "execution_count": null,
   "metadata": {},
   "outputs": [],
   "source": [
    "indice_registro_vacio = 2011\n",
    "df_Original_registros_nulos = df_Original.loc[indice_registro_vacio,:]\n",
    "print(df_Original_registros_nulos)"
   ]
  },
  {
   "cell_type": "code",
   "execution_count": null,
   "metadata": {},
   "outputs": [],
   "source": [
    "indice_registro_vacio = 3136\n",
    "df_Original_registros_nulos = df_Original.loc[indice_registro_vacio,:]\n",
    "print(df_Original_registros_nulos)"
   ]
  },
  {
   "cell_type": "code",
   "execution_count": null,
   "metadata": {},
   "outputs": [],
   "source": [
    "indice_registro_vacio = 5247\n",
    "df_Original_registros_nulos = df_Original.loc[indice_registro_vacio,:]\n",
    "print(df_Original_registros_nulos)"
   ]
  },
  {
   "cell_type": "code",
   "execution_count": null,
   "metadata": {},
   "outputs": [],
   "source": [
    "indice_registro_vacio = 6455\n",
    "df_Original_registros_nulos = df_Original.loc[indice_registro_vacio,:]\n",
    "print(df_Original_registros_nulos)"
   ]
  },
  {
   "cell_type": "markdown",
   "metadata": {},
   "source": [
    "<h3 style=\"color:#800080\">Despues de verificar los registros con lugares vacios, nulos he incompletos de nuetra (Estructura de Datos) ó DataFrame llamada df_Original</h3>\n",
    "\n",
    "<h5 style=\"color:#00FFFF\">Vamos a COMPLETAR esos lugares sin datos con la etiqueta \"NaN\" en nuetra (Estructura de Datos) ó DataFrame llamada df_Original</h5>\n",
    "\n",
    "<h5 style=\"color:#00FFFF\">Creamos un nuevo DataFrame llamado df_Original_completar. Vamos a COMPLETAR esos lugares sin datos con la etiqueta \"NaN\" en nuetra (Estructura de Datos) ó DataFrame llamada df_Original. Y lo vamos a Desplegar</h5>"
   ]
  },
  {
   "cell_type": "markdown",
   "metadata": {},
   "source": [
    "<h5 style=\"color:#00FFFF\">Vamos a realizar nuestro analisis estadístico en nuestro DataFrame llamado df_Original. Para COMPLETAR esos lugares sin datos con la etiqueta \"NaN\" en nuetra (Estructura de Datos) ó DataFrame llamada df_Original. Y lo vamos a Desplegar</h5>"
   ]
  },
  {
   "cell_type": "markdown",
   "metadata": {},
   "source": [
    "<h5 style=\"color:#00FFFF\">Como observamos en en nuestro DataFrame llamado df_Original. en la Columna \"Age\" existen algunos datos \"NaN\" en esos lugares vamos a calcular la \"MADIANA\" para poder rellenar los valores \"NaN\" con esos valores ENTEROS en nuetra (Estructura de Datos) ó DataFrame llamada df_Original. Y lo vamos a Desplegar</h5>\n",
    "\n",
    "<span style=\"color:#00FFFF\">Lo primero que vamos hacer es llamar de nuetra (Estructura de Datos) ó DataFrame llamada df_Original es la columna que queremos rellenar con la \"MADIANA\" de la edad o columna \"Age\" .\n",
    "</span>"
   ]
  },
  {
   "cell_type": "code",
   "execution_count": null,
   "metadata": {},
   "outputs": [],
   "source": [
    "df_Original[\"Age\"]"
   ]
  },
  {
   "cell_type": "markdown",
   "metadata": {},
   "source": [
    "<span style=\"color:#00FFFF\">Sacamos la \"MADIANA\" de nuetra COLUMNA \"Age\" de nuestra (Estructura de Datos) ó DataFrame llamada df_Original. Con la siguiente instrucción</span>"
   ]
  },
  {
   "cell_type": "code",
   "execution_count": null,
   "metadata": {},
   "outputs": [],
   "source": [
    "mediana_Age = df_Original[\"Age\"].median()\n",
    "\n",
    "print('LA mediana de la Edad es : ',mediana_Age)"
   ]
  },
  {
   "cell_type": "markdown",
   "metadata": {},
   "source": [
    "<span style=\"color:#00FFFF\">Para rellenar nuestros datos nulo o \"NaN\" en nuestra columna \"Age\" de nuetra (Estructura de Datos) ó DataFrame llamada df_Original Vamos a utilizar la siguiente instrucción. Primero llamamos a nuetra (Estructura de Datos) ó DataFrame llamada df_Original con el nombre de nuestra columna [\"Age\"] entre corchetes cuadrados Y despues llamamos a nuestra función \"fillna\" y despues el primer argumento en este caso \"mediana_Age\" ya calculado con anterioridad y le pedimos que rellene nuetra (Estructura de Datos) ó DataFrame llamada df_Original.</span>"
   ]
  },
  {
   "cell_type": "code",
   "execution_count": null,
   "metadata": {},
   "outputs": [],
   "source": [
    "df_Original[\"Age\"].fillna(mediana_Age, inplace=True)\n",
    "\n",
    "print(df_Original.to_string())"
   ]
  },
  {
   "cell_type": "markdown",
   "metadata": {},
   "source": [
    "<h3 style=\"color:#800080\">Vamos a despleguemos los registros ya modificados de nuetra (Estructura de Datos) ó DataFrame llamada df_Original</h3>\n",
    "\n",
    "<h5 style=\"color:#00FFFF\">Desplegemos uno por uno cada uno de los registros individualmente para ver si se modificaron por la columna \"Age\"...</h5>"
   ]
  },
  {
   "cell_type": "code",
   "execution_count": null,
   "metadata": {},
   "outputs": [],
   "source": [
    "indice_registro_vacio = 172\n",
    "df_Original_registros_nulos = df_Original.loc[indice_registro_vacio,:]\n",
    "print(df_Original_registros_nulos)"
   ]
  },
  {
   "cell_type": "code",
   "execution_count": null,
   "metadata": {},
   "outputs": [],
   "source": [
    "indice_registro_vacio = 260\n",
    "df_Original_registros_nulos = df_Original.loc[indice_registro_vacio,:]\n",
    "print(df_Original_registros_nulos)"
   ]
  },
  {
   "cell_type": "code",
   "execution_count": null,
   "metadata": {},
   "outputs": [],
   "source": [
    "indice_registro_vacio = 2011\n",
    "df_Original_registros_nulos = df_Original.loc[indice_registro_vacio,:]\n",
    "print(df_Original_registros_nulos)"
   ]
  },
  {
   "cell_type": "code",
   "execution_count": null,
   "metadata": {},
   "outputs": [],
   "source": [
    "indice_registro_vacio = 3136\n",
    "df_Original_registros_nulos = df_Original.loc[indice_registro_vacio,:]\n",
    "print(df_Original_registros_nulos)"
   ]
  },
  {
   "cell_type": "code",
   "execution_count": null,
   "metadata": {},
   "outputs": [],
   "source": [
    "indice_registro_vacio = 5247\n",
    "df_Original_registros_nulos = df_Original.loc[indice_registro_vacio,:]\n",
    "print(df_Original_registros_nulos)"
   ]
  },
  {
   "cell_type": "code",
   "execution_count": null,
   "metadata": {},
   "outputs": [],
   "source": [
    "indice_registro_vacio = 6455\n",
    "df_Original_registros_nulos = df_Original.loc[indice_registro_vacio,:]\n",
    "print(df_Original_registros_nulos)"
   ]
  },
  {
   "cell_type": "markdown",
   "metadata": {},
   "source": [
    "#### <span style=\"color:yellow\">Con la siguiente instrucción visualizamos si nuestras COLUMNAS en nuestra (Estructura de Datos) ó DataFrame df_Original sufrieron algún tipo de cambio cambio en las COLUMNAS:</span>\n",
    "##### Column\n",
    "##### Non-Null\n",
    "##### Count\n",
    "##### Dtype\n",
    "\n",
    "#### <span style=\"color:red\">Podemos visualizar que si hay un cambio en la cantidad de la COLUMNAS de \"Age\" por haber agregado en 2 resgistros (172 y 260) dos datos de las edados en nuestro (Estructura de Datos) ó DataFrame df_Original.</span>"
   ]
  },
  {
   "cell_type": "code",
   "execution_count": null,
   "metadata": {},
   "outputs": [],
   "source": [
    "print(df_Original.info())"
   ]
  },
  {
   "cell_type": "markdown",
   "metadata": {},
   "source": [
    "<h3 style=\"color:#800080\">Desplegemos los registros uno por uno para verificar si se rellenaron la columna \"Age\" de nuetra (Estructura de Datos) ó DataFrame llamada df_Original</h3>"
   ]
  },
  {
   "cell_type": "code",
   "execution_count": null,
   "metadata": {},
   "outputs": [],
   "source": [
    "indice_registro_vacio = 172\n",
    "df_Original_registros_nulos = df_Original.loc[indice_registro_vacio,:]\n",
    "print(df_Original_registros_nulos)"
   ]
  },
  {
   "cell_type": "code",
   "execution_count": null,
   "metadata": {},
   "outputs": [],
   "source": [
    "indice_registro_vacio = 260\n",
    "df_Original_registros_nulos = df_Original.loc[indice_registro_vacio,:]\n",
    "print(df_Original_registros_nulos)"
   ]
  },
  {
   "cell_type": "code",
   "execution_count": null,
   "metadata": {},
   "outputs": [],
   "source": [
    "indice_registro_vacio = 2011\n",
    "df_Original_registros_nulos = df_Original.loc[indice_registro_vacio,:]\n",
    "print(df_Original_registros_nulos)"
   ]
  },
  {
   "cell_type": "code",
   "execution_count": null,
   "metadata": {},
   "outputs": [],
   "source": [
    "indice_registro_vacio = 3136\n",
    "df_Original_registros_nulos = df_Original.loc[indice_registro_vacio,:]\n",
    "print(df_Original_registros_nulos)"
   ]
  },
  {
   "cell_type": "code",
   "execution_count": null,
   "metadata": {},
   "outputs": [],
   "source": [
    "indice_registro_vacio = 5247\n",
    "df_Original_registros_nulos = df_Original.loc[indice_registro_vacio,:]\n",
    "print(df_Original_registros_nulos)"
   ]
  },
  {
   "cell_type": "code",
   "execution_count": null,
   "metadata": {},
   "outputs": [],
   "source": [
    "indice_registro_vacio = 6455\n",
    "df_Original_registros_nulos = df_Original.loc[indice_registro_vacio,:]\n",
    "print(df_Original_registros_nulos)"
   ]
  },
  {
   "cell_type": "markdown",
   "metadata": {},
   "source": [
    "<h5 style=\"color:#00FFFF\">Como observamos en en nuestro DataFrame llamado df_Original. en la Columna \"Salary\" existen algunos datos \"NaN\" en esos lugares vamos a calcular la \"MADIANA\" para poder rellenar los valores \"NaN\" con esos valores ENTEROS en nuetra (Estructura de Datos) ó DataFrame llamada df_Original. Y lo vamos a Desplegar</h5>\n",
    "\n",
    "<span style=\"color:#00FFFF\">Lo primero que vamos hacer es llamar de nuetra (Estructura de Datos) ó DataFrame llamada df_Original es la columna que queremos rellenar con la \"MADIANA\" de la edad o columna \"Salary\" .\n",
    "</span>"
   ]
  },
  {
   "cell_type": "code",
   "execution_count": null,
   "metadata": {},
   "outputs": [],
   "source": [
    "df_Original[\"Salary\"]"
   ]
  },
  {
   "cell_type": "markdown",
   "metadata": {},
   "source": [
    "<span style=\"color:#00FFFF\">Sacamos la \"MADIANA\" de nuetra COLUMNA \"Salary\" de nuestra (Estructura de Datos) ó DataFrame llamada df_Original. Con la siguiente instrucción</span>"
   ]
  },
  {
   "cell_type": "code",
   "execution_count": null,
   "metadata": {},
   "outputs": [],
   "source": [
    "mediana_Salary = df_Original[\"Salary\"].median()\n",
    "\n",
    "print('LA mediana del Salario es : ',mediana_Salary)"
   ]
  },
  {
   "cell_type": "markdown",
   "metadata": {},
   "source": [
    "<span style=\"color:#00FFFF\">Para rellenar nuestros datos nulo o \"NaN\" en nuestra columna \"Salary\" de nuetra (Estructura de Datos) ó DataFrame llamada df_Original Vamos a utilizar la siguiente instrucción. Primero llamamos a nuetra (Estructura de Datos) ó DataFrame llamada df_Original con el nombre de nuestra columna [\"Salary\"] entre corchetes cuadrados Y despues llamamos a nuestra función \"fillna\" y despues el primer argumento en este caso \"mediana_Salary\" ya calculado con anterioridad y le pedimos que rellene nuetra (Estructura de Datos) ó DataFrame llamada df_Original.</span>"
   ]
  },
  {
   "cell_type": "code",
   "execution_count": null,
   "metadata": {},
   "outputs": [],
   "source": [
    "df_Original[\"Salary\"].fillna(mediana_Salary, inplace=True)\n",
    "\n",
    "print(df_Original.to_string())"
   ]
  },
  {
   "cell_type": "markdown",
   "metadata": {},
   "source": [
    "#### <span style=\"color:yellow\">Con la siguiente instrucción visualizamos si nuestras COLUMNAS en nuestra (Estructura de Datos) ó DataFrame df_Original sufrieron algún tipo de cambio cambio en las COLUMNAS:</span>\n",
    "##### Column\n",
    "##### Non-Null\n",
    "##### Count\n",
    "##### Dtype\n",
    "\n",
    "#### <span style=\"color:red\">Podemos visualizar que si hay un cambio en la cantidad de la COLUMNAS de \"Salary\" por haber agregado en 3 resgistros (172,260,) los datos de los salarios en nuestro (Estructura de Datos) ó DataFrame df_Original.</span>"
   ]
  },
  {
   "cell_type": "code",
   "execution_count": null,
   "metadata": {},
   "outputs": [],
   "source": [
    "print(df_Original.info())"
   ]
  },
  {
   "cell_type": "markdown",
   "metadata": {},
   "source": [
    "<h3 style=\"color:#800080\">Desplegemos los registros uno por uno para verificar si se rellenaron la columna \"Salary\" de nuetra (Estructura de Datos) ó DataFrame llamada df_Original</h3>"
   ]
  },
  {
   "cell_type": "code",
   "execution_count": null,
   "metadata": {},
   "outputs": [],
   "source": [
    "indice_registro_vacio = 172\n",
    "df_Original_registros_nulos = df_Original.loc[indice_registro_vacio,:]\n",
    "print(df_Original_registros_nulos)"
   ]
  },
  {
   "cell_type": "code",
   "execution_count": null,
   "metadata": {},
   "outputs": [],
   "source": [
    "indice_registro_vacio = 260\n",
    "df_Original_registros_nulos = df_Original.loc[indice_registro_vacio,:]\n",
    "print(df_Original_registros_nulos)"
   ]
  },
  {
   "cell_type": "code",
   "execution_count": null,
   "metadata": {},
   "outputs": [],
   "source": [
    "indice_registro_vacio = 2011\n",
    "df_Original_registros_nulos = df_Original.loc[indice_registro_vacio,:]\n",
    "print(df_Original_registros_nulos)"
   ]
  },
  {
   "cell_type": "code",
   "execution_count": null,
   "metadata": {},
   "outputs": [],
   "source": [
    "indice_registro_vacio = 3136\n",
    "df_Original_registros_nulos = df_Original.loc[indice_registro_vacio,:]\n",
    "print(df_Original_registros_nulos)"
   ]
  },
  {
   "cell_type": "code",
   "execution_count": null,
   "metadata": {},
   "outputs": [],
   "source": [
    "indice_registro_vacio = 5247\n",
    "df_Original_registros_nulos = df_Original.loc[indice_registro_vacio,:]\n",
    "print(df_Original_registros_nulos)"
   ]
  },
  {
   "cell_type": "code",
   "execution_count": null,
   "metadata": {},
   "outputs": [],
   "source": [
    "indice_registro_vacio = 6455\n",
    "df_Original_registros_nulos = df_Original.loc[indice_registro_vacio,:]\n",
    "print(df_Original_registros_nulos)"
   ]
  },
  {
   "cell_type": "markdown",
   "metadata": {},
   "source": [
    "<h5 style=\"color:#00FFFF\">Como observamos en en nuestro DataFrame llamado df_Original. en la Columna \"Years of Experience\" existen algunos datos \"NaN\" en esos lugares vamos a calcular la \"MADIANA\" para poder rellenar los valores \"NaN\" con esos valores ENTEROS en nuetra (Estructura de Datos) ó DataFrame llamada df_Original. Y lo vamos a Desplegar</h5>\n",
    "\n",
    "<span style=\"color:#00FFFF\">Lo primero que vamos hacer es llamar de nuetra (Estructura de Datos) ó DataFrame llamada df_Original es la columna que queremos rellenar con la \"MADIANA\" de la edad o columna \"Years of Experience\" .\n",
    "</span>"
   ]
  },
  {
   "cell_type": "code",
   "execution_count": null,
   "metadata": {},
   "outputs": [],
   "source": [
    "df_Original[\"Years of Experience\"]"
   ]
  },
  {
   "cell_type": "markdown",
   "metadata": {},
   "source": [
    "<span style=\"color:#00FFFF\">Sacamos la \"MADIANA\" de nuetra COLUMNA \"Years of Experience\" de nuestra (Estructura de Datos) ó DataFrame llamada df_Original. Con la siguiente instrucción</span>"
   ]
  },
  {
   "cell_type": "code",
   "execution_count": null,
   "metadata": {},
   "outputs": [],
   "source": [
    "mediana_Years_of_Experience = df_Original[\"Years of Experience\"].median()\n",
    "\n",
    "print('LA mediana del Years of Experience es : ',mediana_Years_of_Experience)"
   ]
  },
  {
   "cell_type": "markdown",
   "metadata": {},
   "source": [
    "<span style=\"color:#00FFFF\">Para rellenar nuestros datos nulo o \"NaN\" en nuestra columna \"Years of Experience\" de nuetra (Estructura de Datos) ó DataFrame llamada df_Original Vamos a utilizar la siguiente instrucción. Primero llamamos a nuetra (Estructura de Datos) ó DataFrame llamada df_Original con el nombre de nuestra columna [\"Years of Experience\"] entre corchetes cuadrados Y despues llamamos a nuestra función \"fillna\" y despues el primer argumento en este caso \"mediana_Years of Experience\" ya calculado con anterioridad y le pedimos que rellene nuetra (Estructura de Datos) ó DataFrame llamada df_Original.</span>"
   ]
  },
  {
   "cell_type": "code",
   "execution_count": null,
   "metadata": {},
   "outputs": [],
   "source": [
    "df_Original[\"Years of Experience\"].fillna(mediana_Years_of_Experience, inplace=True)\n",
    "\n",
    "print(df_Original.to_string())"
   ]
  },
  {
   "cell_type": "markdown",
   "metadata": {},
   "source": [
    "#### <span style=\"color:yellow\">Con la siguiente instrucción visualizamos si nuestras COLUMNAS en nuestra (Estructura de Datos) ó DataFrame df_Original sufrieron algún tipo de cambio en las COLUMNAS:</span>\n",
    "##### Column\n",
    "##### Non-Null\n",
    "##### Count\n",
    "##### Dtype\n",
    "\n",
    "#### <span style=\"color:red\">Podemos visualizar que si hay un cambio en la cantidad de la COLUMNAS de \"Years of Experience\" por haber agregado en 5 resgistros (172,260,5247) los datos de los salarios en nuestro (Estructura de Datos) ó DataFrame df_Original.</span>"
   ]
  },
  {
   "cell_type": "code",
   "execution_count": null,
   "metadata": {},
   "outputs": [],
   "source": [
    "print(df_Original.info())"
   ]
  },
  {
   "cell_type": "markdown",
   "metadata": {},
   "source": [
    "<h5 style=\"color:#00FFFF\">Como observamos en en nuestro DataFrame llamado df_Original. en la Columna \"Education Level\" existen algunos datos \"NaN\" en esos lugares vamos a calcular la \"MODA\" para poder rellenar los valores \"NaN\" con esos valores de TEXT en nuetra (Estructura de Datos) ó DataFrame llamada df_Original. Y lo vamos a Desplegar</h5>\n",
    "\n",
    "<span style=\"color:#00FFFF\">Lo primero que vamos hacer es llamar de nuetra (Estructura de Datos) ó DataFrame llamada df_Original es la columna que queremos rellenar con la \"MODA\" de la edad o columna \"Education Level\" .\n",
    "</span>"
   ]
  },
  {
   "cell_type": "code",
   "execution_count": null,
   "metadata": {},
   "outputs": [],
   "source": [
    "df_Original[\"Job Title\"]"
   ]
  },
  {
   "cell_type": "markdown",
   "metadata": {},
   "source": [
    "<span style=\"color:#00FFFF\">Sacamos la \"MEDIANA\" de nuetra COLUMNA \"Years of Experience\" de nuestra (Estructura de Datos) ó DataFrame llamada df_Original. Con la siguiente instrucción</span>"
   ]
  },
  {
   "cell_type": "code",
   "execution_count": null,
   "metadata": {},
   "outputs": [],
   "source": [
    "mediana_Education_Level = df_Original[\"Years of Experience\"].median()\n",
    "\n",
    "print(mediana_Education_Level)"
   ]
  },
  {
   "cell_type": "markdown",
   "metadata": {},
   "source": [
    "<span style=\"color:#00FFFF\">Sacamos la \"MODA\" de nuetra COLUMNA \"Education Level\" de nuestra (Estructura de Datos) ó DataFrame llamada df_Original. Con la siguiente instrucción</span>"
   ]
  },
  {
   "cell_type": "code",
   "execution_count": null,
   "metadata": {},
   "outputs": [],
   "source": [
    "moda_Education_Level = df_Original[\"Education Level\"].mode()\n",
    "\n",
    "print(moda_Education_Level)"
   ]
  },
  {
   "cell_type": "markdown",
   "metadata": {},
   "source": [
    "<span style=\"color:#00FFFF\">Sacamos la \"MODA\" de nuetra COLUMNA \"Job Title\" de nuestra (Estructura de Datos) ó DataFrame llamada df_Original. Con la siguiente instrucción</span>"
   ]
  },
  {
   "cell_type": "code",
   "execution_count": null,
   "metadata": {},
   "outputs": [],
   "source": [
    "moda_Job_Title = df_Original[\"Job Title\"].mode()\n",
    "\n",
    "print(moda_Job_Title)"
   ]
  },
  {
   "cell_type": "markdown",
   "metadata": {},
   "source": [
    "<h3 style=\"color:#800080\">Vamos a sustitur el \"Years of Experience\" individualmente en nuetra (Estructura de Datos) ó DataFrame llamada df_Original</h3>"
   ]
  },
  {
   "cell_type": "markdown",
   "metadata": {},
   "source": [
    "<h3 style=\"color:#800080\">Vamos a sustitur el \"Education Level\" individualmente en nuetra (Estructura de Datos) ó DataFrame llamada df_Original</h3>"
   ]
  },
  {
   "cell_type": "code",
   "execution_count": null,
   "metadata": {},
   "outputs": [],
   "source": [
    "df_Original.loc[172,\"Education Level\"] = \"Bachelor's Degreer\"\n",
    "df_Original.loc[260,\"Education Level\"] = \"Bachelor's Degreer\"\n",
    "df_Original.loc[2011,\"Education Level\"] = \"Bachelor's Degreer\""
   ]
  },
  {
   "cell_type": "markdown",
   "metadata": {},
   "source": [
    "<h3 style=\"color:#800080\">Vamos a sustitur el \"Job Title\" individualmente en nuetra (Estructura de Datos) ó DataFrame llamada df_Original</h3>"
   ]
  },
  {
   "cell_type": "code",
   "execution_count": null,
   "metadata": {},
   "outputs": [],
   "source": [
    "df_Original.loc[172,\"Job Title\"] = \"Software Engineer\"\n",
    "df_Original.loc[260,\"Job Title\"] = \"Software Engineer\""
   ]
  },
  {
   "cell_type": "markdown",
   "metadata": {},
   "source": [
    "<h3 style=\"color:#800080\">Vamos a sustitur el \"Education Level\" individualmente en nuetra (Estructura de Datos) ó DataFrame llamada df_Original</h3>"
   ]
  },
  {
   "cell_type": "code",
   "execution_count": null,
   "metadata": {},
   "outputs": [],
   "source": [
    "df_Original.loc[172,\"Education Level\"] = \"Software Engineer\"\n",
    "df_Original.loc[260,\"Education Level\"] = \"Software Engineer\"\n",
    "df_Original.loc[2011,\"Education Level\"] = \"Software Engineer\"\n",
    "df_Original.loc[2011,\"Education Level\"] = \"Software Engineer\""
   ]
  },
  {
   "cell_type": "markdown",
   "metadata": {},
   "source": [
    "<h3 style=\"color:#800080\">Vamos a sustitur el \"Gender\" individualmente en nuetra (Estructura de Datos) ó DataFrame llamada df_Original</h3>"
   ]
  },
  {
   "cell_type": "code",
   "execution_count": null,
   "metadata": {},
   "outputs": [],
   "source": [
    "df_Original.loc[172,\"Gender\"] = \"Female\"\n",
    "df_Original.loc[260,\"Gender\"] = \"Male\"\n"
   ]
  },
  {
   "cell_type": "markdown",
   "metadata": {},
   "source": [
    "<h3 style=\"color:#800080\">Desplegemos los registros uno por uno para verificar si se rellenaron la columna \"Education Level\" de nuetra (Estructura de Datos) ó DataFrame llamada df_Original</h3>"
   ]
  },
  {
   "cell_type": "code",
   "execution_count": null,
   "metadata": {},
   "outputs": [],
   "source": [
    "indice_registro_vacio = 172\n",
    "df_Original_registros_nulos = df_Original.loc[indice_registro_vacio,:]\n",
    "print(df_Original_registros_nulos)"
   ]
  },
  {
   "cell_type": "code",
   "execution_count": null,
   "metadata": {},
   "outputs": [],
   "source": [
    "indice_registro_vacio = 260\n",
    "df_Original_registros_nulos = df_Original.loc[indice_registro_vacio,:]\n",
    "print(df_Original_registros_nulos)"
   ]
  },
  {
   "cell_type": "code",
   "execution_count": null,
   "metadata": {},
   "outputs": [],
   "source": [
    "indice_registro_vacio = 2011\n",
    "df_Original_registros_nulos = df_Original.loc[indice_registro_vacio,:]\n",
    "print(df_Original_registros_nulos)"
   ]
  },
  {
   "cell_type": "code",
   "execution_count": null,
   "metadata": {},
   "outputs": [],
   "source": [
    "indice_registro_vacio = 3136\n",
    "df_Original_registros_nulos = df_Original.loc[indice_registro_vacio,:]\n",
    "print(df_Original_registros_nulos)"
   ]
  },
  {
   "cell_type": "code",
   "execution_count": null,
   "metadata": {},
   "outputs": [],
   "source": [
    "indice_registro_vacio = 5247\n",
    "df_Original_registros_nulos = df_Original.loc[indice_registro_vacio,:]\n",
    "print(df_Original_registros_nulos)"
   ]
  },
  {
   "cell_type": "code",
   "execution_count": null,
   "metadata": {},
   "outputs": [],
   "source": [
    "indice_registro_vacio = 6455\n",
    "df_Original_registros_nulos = df_Original.loc[indice_registro_vacio,:]\n",
    "print(df_Original_registros_nulos)"
   ]
  },
  {
   "cell_type": "markdown",
   "metadata": {},
   "source": [
    "#### <span style=\"color:yellow\">Aquí comprobamos que ya no hay ninguna COLUMNA con datos vacios o incompletos en nuestra (Estructura de Datos) ó DataFrame df_Original:</span>"
   ]
  },
  {
   "cell_type": "code",
   "execution_count": null,
   "metadata": {},
   "outputs": [],
   "source": [
    "print(df_Original.info())"
   ]
  },
  {
   "cell_type": "code",
   "execution_count": null,
   "metadata": {},
   "outputs": [],
   "source": [
    "print(df_Original.to_string())"
   ]
  },
  {
   "cell_type": "markdown",
   "metadata": {},
   "source": [
    "# <span style=\"color:#800080\">Ahora que ya tenemos todos las COLUMNA y los registros completos de nuestra (Estructura de Datos) ó DataFrame df_Original: vamos a graficar</span>"
   ]
  },
  {
   "cell_type": "markdown",
   "metadata": {},
   "source": []
  },
  {
   "cell_type": "code",
   "execution_count": null,
   "metadata": {},
   "outputs": [],
   "source": []
  }
 ],
 "metadata": {
  "kernelspec": {
   "display_name": "Python 3",
   "language": "python",
   "name": "python3"
  },
  "language_info": {
   "codemirror_mode": {
    "name": "ipython",
    "version": 3
   },
   "file_extension": ".py",
   "mimetype": "text/x-python",
   "name": "python",
   "nbconvert_exporter": "python",
   "pygments_lexer": "ipython3",
   "version": "3.10.11"
  },
  "orig_nbformat": 4
 },
 "nbformat": 4,
 "nbformat_minor": 2
}
