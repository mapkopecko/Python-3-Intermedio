{
 "cells": [
  {
   "cell_type": "markdown",
   "metadata": {},
   "source": [
    "# Aprendiendo Phython 3\n",
    "## Basico"
   ]
  },
  {
   "cell_type": "markdown",
   "metadata": {},
   "source": [
    "# Bibliotecas en Python\n",
    "## Bibliotecas en Python\n",
    "### Bibliotecas en Python\n",
    "#### Bibliotecas en Python\n",
    "##### Bibliotecas en Python"
   ]
  },
  {
   "cell_type": "markdown",
   "metadata": {},
   "source": [
    "# Programación \n",
    "\n",
    "### Desarrolla habilidades\n",
    "\n",
    "#### * Resolución de Problemas\n",
    "#### * Pensamientos algorítmicos\n",
    "#### * Creatividad\n",
    "#### * Analisis\n",
    "#### * Pensamiento crítico\n",
    "\n",
    "### Una vez que adquieras las habilidades necesarias, descubrirás el infinto potencial de tus conocimientos."
   ]
  },
  {
   "cell_type": "markdown",
   "metadata": {},
   "source": [
    "# ¿Nuevo en Python?\n",
    "\n",
    "Python\n",
    "\n",
    "Lenguaje de programación de alto nivel que se destaca por su legibilidad y facilidad de escritura tanto para humanos como para computadoras.\n",
    "\n",
    "\n",
    "Funciones como un interprete\n",
    "\n",
    "1. Lee el código\n",
    "2. Analiza\n",
    "3. Interpreta en tiempo real como una secuencia ordenada de instrucciones.\n"
   ]
  },
  {
   "cell_type": "markdown",
   "metadata": {},
   "source": [
    "# Python for Everybody"
   ]
  },
  {
   "cell_type": "markdown",
   "metadata": {},
   "source": [
    "# La Gramática\n",
    "\n",
    "\n",
    "### Tipos de errores\n",
    "1. Sintaxis\n",
    "2. Lógica\n",
    "3. Semántica\n",
    "\n",
    "\n",
    "### La *depuracion* es el proceso de encontrar la causa de error en tu código.\n",
    "\n",
    "1. Leer\n",
    "2. Ejecutar\n",
    "3. Refrexionar\n",
    "4. Retroceder"
   ]
  },
  {
   "cell_type": "markdown",
   "metadata": {},
   "source": [
    "## Variables, declaraciones y expresiones\n",
    "\n",
    "### Un valor es una de las cosas básicas con las que trabaja un programa, como una letra o un número.\n",
    "\n",
    "### Tipos de datos.\n",
    "\n",
    "1. Cadena\n",
    "2. Entero\n",
    "3. Flotante"
   ]
  },
  {
   "cell_type": "code",
   "execution_count": 127,
   "metadata": {},
   "outputs": [],
   "source": [
    "mensaje = \"!Hola, Mundo¡\"\n",
    "\n",
    "x = 1\n",
    "\n",
    "pi = 3.141516"
   ]
  },
  {
   "cell_type": "markdown",
   "metadata": {},
   "source": [
    "# Variables, declaraciones y expresiones\n",
    "\n",
    "### Python utiliza palabras reservadas para reconocer la estructura del programa\n",
    "\n",
    "#### and--------continue--------finally----------is-------------raise\n",
    "#### def--------for--------------lambda---------return--------assert\n",
    "#### del--------from------------None-----------True----------asyncr\n",
    "#### elif--------global----------nonlocL---------try------------await\n",
    "#### else-------if----------------not-------------while---------break\n",
    "#### as---------except----------import----------or-------------whith \n",
    "#### in---------class------------False----------pass-------------yield \n",
    "\n"
   ]
  },
  {
   "cell_type": "code",
   "execution_count": 128,
   "metadata": {},
   "outputs": [
    {
     "name": "stdout",
     "output_type": "stream",
     "text": [
      "!Hola Bienvenido al Mundo del Python 3¡\n"
     ]
    }
   ],
   "source": [
    "# Mi primer código en Python 3\n",
    "mensaje = \"!Hola Bienvenido al Mundo del Python 3¡\"\n",
    "print(mensaje)"
   ]
  },
  {
   "cell_type": "markdown",
   "metadata": {},
   "source": [
    "# Variables, declaraciones y expresiones\n",
    "\n",
    "### Una **declaración** es una unidad de código que el interprete de Python puede ejecutar."
   ]
  },
  {
   "cell_type": "code",
   "execution_count": 129,
   "metadata": {},
   "outputs": [
    {
     "name": "stdout",
     "output_type": "stream",
     "text": [
      "Un script es una secuencia de declaraciones.\n",
      "1\n",
      "2\n"
     ]
    }
   ],
   "source": [
    "print(\"Un script es una secuencia de declaraciones.\")\n",
    "\n",
    "print(1)\n",
    "x=2\n",
    "print(x)\n",
    "\n"
   ]
  },
  {
   "cell_type": "markdown",
   "metadata": {},
   "source": [
    "### Los **operadores** son símbolos especiales que representan operaciones:\n",
    "\n",
    "### Los valores a los que se aplica el operador se le llama **operandos**"
   ]
  },
  {
   "cell_type": "code",
   "execution_count": 130,
   "metadata": {},
   "outputs": [
    {
     "data": {
      "text/plain": [
       "6"
      ]
     },
     "execution_count": 130,
     "metadata": {},
     "output_type": "execute_result"
    }
   ],
   "source": [
    "a = 1\n",
    "b = 2\n",
    "c = 3\n",
    "z = 2 \n",
    "a + b + c"
   ]
  },
  {
   "cell_type": "code",
   "execution_count": 131,
   "metadata": {},
   "outputs": [
    {
     "data": {
      "text/plain": [
       "6"
      ]
     },
     "execution_count": 131,
     "metadata": {},
     "output_type": "execute_result"
    }
   ],
   "source": [
    "x = 10\n",
    "x - 4"
   ]
  },
  {
   "cell_type": "code",
   "execution_count": 132,
   "metadata": {},
   "outputs": [
    {
     "data": {
      "text/plain": [
       "12"
      ]
     },
     "execution_count": 132,
     "metadata": {},
     "output_type": "execute_result"
    }
   ],
   "source": [
    "y = 2\n",
    "6 * y"
   ]
  },
  {
   "cell_type": "code",
   "execution_count": 133,
   "metadata": {},
   "outputs": [
    {
     "data": {
      "text/plain": [
       "100"
      ]
     },
     "execution_count": 133,
     "metadata": {},
     "output_type": "execute_result"
    }
   ],
   "source": [
    "x ** 2"
   ]
  },
  {
   "cell_type": "code",
   "execution_count": 134,
   "metadata": {},
   "outputs": [
    {
     "data": {
      "text/plain": [
       "16.0"
      ]
     },
     "execution_count": 134,
     "metadata": {},
     "output_type": "execute_result"
    }
   ],
   "source": [
    "32 / z"
   ]
  },
  {
   "cell_type": "code",
   "execution_count": 135,
   "metadata": {},
   "outputs": [
    {
     "data": {
      "text/plain": [
       "21"
      ]
     },
     "execution_count": 135,
     "metadata": {},
     "output_type": "execute_result"
    }
   ],
   "source": [
    "64 // 3"
   ]
  },
  {
   "cell_type": "markdown",
   "metadata": {},
   "source": [
    "### Una **expresión** es una combinación de valores, variables y operadores."
   ]
  },
  {
   "cell_type": "code",
   "execution_count": 136,
   "metadata": {},
   "outputs": [
    {
     "data": {
      "text/plain": [
       "8"
      ]
     },
     "execution_count": 136,
     "metadata": {},
     "output_type": "execute_result"
    }
   ],
   "source": [
    "x = 5\n",
    "x + 3"
   ]
  },
  {
   "cell_type": "markdown",
   "metadata": {},
   "source": [
    "### Cuando aparece más de un **operador** en una **expresión**, el orden de la evaluación depende de la reglas de precedencia **PEMDAS**:\n",
    "\n",
    "1. **P**aréntesis.\n",
    "2. **E**xponentes.\n",
    "3. **M**ultiplicación y **D**ivisión.\n",
    "4. **A**dición y **S**ustracciión.\n"
   ]
  },
  {
   "cell_type": "markdown",
   "metadata": {},
   "source": [
    "### El **módulo** funciona con números enteros y devuelve el valor restante de una división."
   ]
  },
  {
   "cell_type": "code",
   "execution_count": 137,
   "metadata": {},
   "outputs": [
    {
     "data": {
      "text/plain": [
       "1"
      ]
     },
     "execution_count": 137,
     "metadata": {},
     "output_type": "execute_result"
    }
   ],
   "source": [
    "7 % 3"
   ]
  },
  {
   "cell_type": "markdown",
   "metadata": {},
   "source": [
    "### Python proporciona una función incorporada llamada **input** que obtiene la entrada del teclado."
   ]
  },
  {
   "cell_type": "code",
   "execution_count": 138,
   "metadata": {},
   "outputs": [
    {
     "name": "stdout",
     "output_type": "stream",
     "text": [
      "8\n"
     ]
    }
   ],
   "source": [
    "numero = input(\"Ingresa un número : \")\n",
    "print(numero)"
   ]
  },
  {
   "cell_type": "markdown",
   "metadata": {},
   "source": [
    "#### Una **cadenba** es una secuencia de caracteres. En Python, el índice es un \n",
    "#### desplazamiento desde el principio de la cadena y el desplazamiento de la primera letra es cero 0."
   ]
  },
  {
   "cell_type": "code",
   "execution_count": 139,
   "metadata": {},
   "outputs": [
    {
     "name": "stdout",
     "output_type": "stream",
     "text": [
      "a\n"
     ]
    }
   ],
   "source": [
    "fruta = \"banana\"\n",
    "letra = fruta[1]\n",
    "print(letra)"
   ]
  },
  {
   "cell_type": "markdown",
   "metadata": {},
   "source": [
    "#### Un segmento de una cadena se llama **slice**."
   ]
  },
  {
   "cell_type": "code",
   "execution_count": 140,
   "metadata": {},
   "outputs": [
    {
     "name": "stdout",
     "output_type": "stream",
     "text": [
      "Py\n",
      "thon\n"
     ]
    }
   ],
   "source": [
    "cadena = \"Python\"\n",
    "print(cadena[0:2])\n",
    "print(cadena[2:6])"
   ]
  },
  {
   "cell_type": "markdown",
   "metadata": {},
   "source": [
    "#### Los **métodos**, son funciones integradas en el objeto y \n",
    "#### están disponibles para cualquiera de sus instancias."
   ]
  },
  {
   "cell_type": "code",
   "execution_count": 141,
   "metadata": {},
   "outputs": [
    {
     "name": "stdout",
     "output_type": "stream",
     "text": [
      "BANANA\n"
     ]
    }
   ],
   "source": [
    "cadena = \"banana\"\n",
    "palabra = cadena.upper()\n",
    "print(palabra)"
   ]
  },
  {
   "cell_type": "code",
   "execution_count": 142,
   "metadata": {},
   "outputs": [
    {
     "name": "stdout",
     "output_type": "stream",
     "text": [
      "banana\n"
     ]
    }
   ],
   "source": [
    "cadena = \"BANANA\"\n",
    "palabra = cadena.lower()\n",
    "print(palabra)"
   ]
  },
  {
   "cell_type": "markdown",
   "metadata": {},
   "source": [
    "#### Los **métodos**, son funciones integradas en el objeto y \n",
    "#### están disponibles para cualquiera de sus instancias."
   ]
  },
  {
   "cell_type": "code",
   "execution_count": 143,
   "metadata": {},
   "outputs": [
    {
     "name": "stdout",
     "output_type": "stream",
     "text": [
      "1\n"
     ]
    }
   ],
   "source": [
    "cadena = \"banana\"\n",
    "indice = cadena.find(\"a\")\n",
    "print(indice)"
   ]
  },
  {
   "cell_type": "markdown",
   "metadata": {},
   "source": [
    "#### La palabra **in** es un operador booleano que \n",
    "#### tomo dos caracteres y devuelve True si la \n",
    "#### primera aparece como una subcadena en la segunda."
   ]
  },
  {
   "cell_type": "code",
   "execution_count": 144,
   "metadata": {},
   "outputs": [
    {
     "data": {
      "text/plain": [
       "True"
      ]
     },
     "execution_count": 144,
     "metadata": {},
     "output_type": "execute_result"
    }
   ],
   "source": [
    "\"a\" in \"banana\""
   ]
  },
  {
   "cell_type": "code",
   "execution_count": 145,
   "metadata": {},
   "outputs": [
    {
     "data": {
      "text/plain": [
       "False"
      ]
     },
     "execution_count": 145,
     "metadata": {},
     "output_type": "execute_result"
    }
   ],
   "source": [
    "\"seed\" in \"banana\""
   ]
  },
  {
   "cell_type": "markdown",
   "metadata": {},
   "source": [
    "# Etructuras de Control\n",
    "#### Una expresión **booleana** es una expresión que es verdadero o falsa.\n",
    "\n",
    "#### Para evaluar las expresiones utilizamos los operadores de comparación.\n",
    "\n",
    "* \"!=\"\n",
    "* \">\"\n",
    "* \"<\"\n",
    "* \">=\"\n",
    "* \"<=\"\n",
    "\n",
    "\n"
   ]
  },
  {
   "cell_type": "markdown",
   "metadata": {},
   "source": [
    "# Estructuras de Control\n",
    "## Existen tres operadores **lógicos:**\n",
    "\n",
    "1. and\n",
    "2. or\n",
    "3. not"
   ]
  },
  {
   "cell_type": "code",
   "execution_count": 146,
   "metadata": {},
   "outputs": [
    {
     "name": "stdout",
     "output_type": "stream",
     "text": [
      "Esta espresión es True por que x es mayor que cero (0) Y x es menor que (10)\n"
     ]
    },
    {
     "data": {
      "text/plain": [
       "True"
      ]
     },
     "execution_count": 146,
     "metadata": {},
     "output_type": "execute_result"
    }
   ],
   "source": [
    "print(\"Esta espresión es True por que x es mayor que cero (0) Y x es menor que (10)\")\n",
    "x = 5\n",
    "x > 0 and x < 10\n"
   ]
  },
  {
   "cell_type": "code",
   "execution_count": 147,
   "metadata": {},
   "outputs": [
    {
     "name": "stdout",
     "output_type": "stream",
     "text": [
      "Esta espresión es False por que x es menor que cero (0) Y x es menor que (10)\n"
     ]
    },
    {
     "data": {
      "text/plain": [
       "False"
      ]
     },
     "execution_count": 147,
     "metadata": {},
     "output_type": "execute_result"
    }
   ],
   "source": [
    "print(\"Esta espresión es False por que x es menor que cero (0) Y x es menor que (10)\")\n",
    "x = -5\n",
    "x > 0 and x < 10"
   ]
  },
  {
   "cell_type": "code",
   "execution_count": 148,
   "metadata": {},
   "outputs": [
    {
     "name": "stdout",
     "output_type": "stream",
     "text": [
      "Esta espresión es False por que una de las dos expresiones es verdadero\n"
     ]
    },
    {
     "data": {
      "text/plain": [
       "False"
      ]
     },
     "execution_count": 148,
     "metadata": {},
     "output_type": "execute_result"
    }
   ],
   "source": [
    "print(\"Esta espresión es False por que una de las dos expresiones es verdadero\")\n",
    "x = 7\n",
    "x > 9 or x == 10"
   ]
  },
  {
   "cell_type": "code",
   "execution_count": 149,
   "metadata": {},
   "outputs": [
    {
     "name": "stdout",
     "output_type": "stream",
     "text": [
      "Esta espresión es False por que una de las dos expresiones es verdadero\n"
     ]
    },
    {
     "data": {
      "text/plain": [
       "True"
      ]
     },
     "execution_count": 149,
     "metadata": {},
     "output_type": "execute_result"
    }
   ],
   "source": [
    "print(\"Esta espresión es False por que una de las dos expresiones es verdadero\")\n",
    "x = 7\n",
    "x > 6 or x == 10"
   ]
  },
  {
   "cell_type": "code",
   "execution_count": 150,
   "metadata": {},
   "outputs": [
    {
     "data": {
      "text/plain": [
       "False"
      ]
     },
     "execution_count": 150,
     "metadata": {},
     "output_type": "execute_result"
    }
   ],
   "source": [
    "not ( x > y ) "
   ]
  },
  {
   "cell_type": "markdown",
   "metadata": {},
   "source": [
    "# Biblioteca NumPy de Python"
   ]
  },
  {
   "cell_type": "markdown",
   "metadata": {},
   "source": [
    "# CSV"
   ]
  },
  {
   "cell_type": "code",
   "execution_count": 1,
   "metadata": {},
   "outputs": [
    {
     "name": "stdout",
     "output_type": "stream",
     "text": [
      "Collecting pandas\n",
      "  Downloading pandas-2.0.3-cp310-cp310-win_amd64.whl (10.7 MB)\n",
      "     --------------------------------------- 10.7/10.7 MB 22.6 MB/s eta 0:00:00\n",
      "Collecting tzdata>=2022.1\n",
      "  Downloading tzdata-2023.3-py2.py3-none-any.whl (341 kB)\n",
      "     ------------------------------------- 341.8/341.8 kB 20.7 MB/s eta 0:00:00\n",
      "Collecting pytz>=2020.1\n",
      "  Downloading pytz-2023.3-py2.py3-none-any.whl (502 kB)\n",
      "     ------------------------------------- 502.3/502.3 kB 32.8 MB/s eta 0:00:00\n",
      "Requirement already satisfied: python-dateutil>=2.8.2 in c:\\users\\mapko\\appdata\\local\\packages\\pythonsoftwarefoundation.python.3.10_qbz5n2kfra8p0\\localcache\\local-packages\\python310\\site-packages (from pandas) (2.8.2)\n",
      "Collecting numpy>=1.21.0\n",
      "  Downloading numpy-1.25.1-cp310-cp310-win_amd64.whl (15.0 MB)\n",
      "     --------------------------------------- 15.0/15.0 MB 22.6 MB/s eta 0:00:00\n",
      "Requirement already satisfied: six>=1.5 in c:\\users\\mapko\\appdata\\local\\packages\\pythonsoftwarefoundation.python.3.10_qbz5n2kfra8p0\\localcache\\local-packages\\python310\\site-packages (from python-dateutil>=2.8.2->pandas) (1.16.0)\n",
      "Installing collected packages: pytz, tzdata, numpy, pandas\n",
      "Successfully installed numpy-1.25.1 pandas-2.0.3 pytz-2023.3 tzdata-2023.3\n",
      "Note: you may need to restart the kernel to use updated packages.\n"
     ]
    },
    {
     "name": "stderr",
     "output_type": "stream",
     "text": [
      "\n",
      "[notice] A new release of pip is available: 23.0.1 -> 23.1.2\n",
      "[notice] To update, run: C:\\Users\\mapko\\AppData\\Local\\Microsoft\\WindowsApps\\PythonSoftwareFoundation.Python.3.10_qbz5n2kfra8p0\\python.exe -m pip install --upgrade pip\n"
     ]
    }
   ],
   "source": [
    "pip install pandas"
   ]
  },
  {
   "cell_type": "code",
   "execution_count": 3,
   "metadata": {},
   "outputs": [],
   "source": [
    "import pandas as pd"
   ]
  },
  {
   "cell_type": "code",
   "execution_count": 12,
   "metadata": {},
   "outputs": [
    {
     "data": {
      "text/html": [
       "<div>\n",
       "<style scoped>\n",
       "    .dataframe tbody tr th:only-of-type {\n",
       "        vertical-align: middle;\n",
       "    }\n",
       "\n",
       "    .dataframe tbody tr th {\n",
       "        vertical-align: top;\n",
       "    }\n",
       "\n",
       "    .dataframe thead th {\n",
       "        text-align: right;\n",
       "    }\n",
       "</style>\n",
       "<table border=\"1\" class=\"dataframe\">\n",
       "  <thead>\n",
       "    <tr style=\"text-align: right;\">\n",
       "      <th></th>\n",
       "      <th>Marca temporal</th>\n",
       "      <th>1.- ¿De dónde eres?</th>\n",
       "      <th>2.- ¿Cuántos años tienes?</th>\n",
       "      <th>3.- ¿Estudias?</th>\n",
       "      <th>4.- ¿Trabajas?</th>\n",
       "      <th>5.- ¿Cuál es tu nivel de conocimiento en Python?</th>\n",
       "      <th>6.- ¿Qué tema relacionado con Python te gustaría aprender?</th>\n",
       "      <th>7.- ¿Has participado en algún curso anteriormente en el IA Center?</th>\n",
       "      <th>8.- ¿Cuál es tu canción favorita?</th>\n",
       "    </tr>\n",
       "  </thead>\n",
       "  <tbody>\n",
       "    <tr>\n",
       "      <th>0</th>\n",
       "      <td>2023/06/27 7:42:12 p. m. GMT-6</td>\n",
       "      <td>Cd. Juárez</td>\n",
       "      <td>Entre 21 y 24</td>\n",
       "      <td>Sí</td>\n",
       "      <td>No</td>\n",
       "      <td>Básico</td>\n",
       "      <td>Manejar bases de datos</td>\n",
       "      <td>No</td>\n",
       "      <td>The Wolf</td>\n",
       "    </tr>\n",
       "    <tr>\n",
       "      <th>1</th>\n",
       "      <td>2023/06/27 7:42:28 p. m. GMT-6</td>\n",
       "      <td>chihuahua, chihuahua</td>\n",
       "      <td>Entre 21 y 24</td>\n",
       "      <td>Sí</td>\n",
       "      <td>Sí</td>\n",
       "      <td>Básico</td>\n",
       "      <td>machine lerning</td>\n",
       "      <td>Sí</td>\n",
       "      <td>eternity, anyma</td>\n",
       "    </tr>\n",
       "    <tr>\n",
       "      <th>2</th>\n",
       "      <td>2023/06/27 7:42:44 p. m. GMT-6</td>\n",
       "      <td>Chihuahua Chihuahua</td>\n",
       "      <td>Entre 18 y 20</td>\n",
       "      <td>Sí</td>\n",
       "      <td>Sí</td>\n",
       "      <td>Básico</td>\n",
       "      <td>Automatización y creación de apps/páginas web</td>\n",
       "      <td>No</td>\n",
       "      <td>Cornerstone- Arctic Monkeys :)</td>\n",
       "    </tr>\n",
       "    <tr>\n",
       "      <th>3</th>\n",
       "      <td>2023/06/27 7:42:52 p. m. GMT-6</td>\n",
       "      <td>Chihuahua Chihuahua</td>\n",
       "      <td>Entre 21 y 24</td>\n",
       "      <td>Sí</td>\n",
       "      <td>Sí</td>\n",
       "      <td>Básico</td>\n",
       "      <td>Análisis de datos</td>\n",
       "      <td>Sí</td>\n",
       "      <td>Sea Gets Hotter</td>\n",
       "    </tr>\n",
       "    <tr>\n",
       "      <th>4</th>\n",
       "      <td>2023/06/27 7:42:56 p. m. GMT-6</td>\n",
       "      <td>Chihuahua, Chih.</td>\n",
       "      <td>Más de 30</td>\n",
       "      <td>No</td>\n",
       "      <td>Sí</td>\n",
       "      <td>Básico</td>\n",
       "      <td>Conocer más librerias</td>\n",
       "      <td>Sí</td>\n",
       "      <td>Love Me More, de Sam Smith</td>\n",
       "    </tr>\n",
       "    <tr>\n",
       "      <th>5</th>\n",
       "      <td>2023/06/27 7:42:57 p. m. GMT-6</td>\n",
       "      <td>Puebla</td>\n",
       "      <td>Entre 21 y 24</td>\n",
       "      <td>Sí</td>\n",
       "      <td>Sí</td>\n",
       "      <td>Básico</td>\n",
       "      <td>APIS y data science</td>\n",
       "      <td>No</td>\n",
       "      <td>Fireflight - Unbreakable</td>\n",
       "    </tr>\n",
       "    <tr>\n",
       "      <th>6</th>\n",
       "      <td>2023/06/27 7:42:57 p. m. GMT-6</td>\n",
       "      <td>Cd. Juarez Chih</td>\n",
       "      <td>Más de 30</td>\n",
       "      <td>No</td>\n",
       "      <td>Sí</td>\n",
       "      <td>Intermedio</td>\n",
       "      <td>Analisis de Datos</td>\n",
       "      <td>Sí</td>\n",
       "      <td>Instrumental General</td>\n",
       "    </tr>\n",
       "    <tr>\n",
       "      <th>7</th>\n",
       "      <td>2023/06/27 7:43:04 p. m. GMT-6</td>\n",
       "      <td>Ciudad Juarez</td>\n",
       "      <td>Entre 21 y 24</td>\n",
       "      <td>Sí</td>\n",
       "      <td>Sí</td>\n",
       "      <td>Básico</td>\n",
       "      <td>Ciencia de datos</td>\n",
       "      <td>Sí</td>\n",
       "      <td>La bruja de Marco Flores</td>\n",
       "    </tr>\n",
       "    <tr>\n",
       "      <th>8</th>\n",
       "      <td>2023/06/27 7:43:10 p. m. GMT-6</td>\n",
       "      <td>Aguascalientes</td>\n",
       "      <td>Entre 18 y 20</td>\n",
       "      <td>Sí</td>\n",
       "      <td>No</td>\n",
       "      <td>Básico</td>\n",
       "      <td>Me gustaria aprender un poco de todo, pero mas...</td>\n",
       "      <td>No</td>\n",
       "      <td>Canela-Nanpa Basico</td>\n",
       "    </tr>\n",
       "    <tr>\n",
       "      <th>9</th>\n",
       "      <td>2023/06/27 7:43:12 p. m. GMT-6</td>\n",
       "      <td>Cd Juarez, Chih.</td>\n",
       "      <td>Entre 21 y 24</td>\n",
       "      <td>Sí</td>\n",
       "      <td>No</td>\n",
       "      <td>Básico</td>\n",
       "      <td>No tengo un tema en especifico, solo deseo rep...</td>\n",
       "      <td>Sí</td>\n",
       "      <td>Depende del momento hy del día, ahora es Hielo...</td>\n",
       "    </tr>\n",
       "    <tr>\n",
       "      <th>10</th>\n",
       "      <td>2023/06/27 7:43:12 p. m. GMT-6</td>\n",
       "      <td>Juárez</td>\n",
       "      <td>Entre 21 y 24</td>\n",
       "      <td>Sí</td>\n",
       "      <td>Sí</td>\n",
       "      <td>Básico</td>\n",
       "      <td>Análisis de datos</td>\n",
       "      <td>No</td>\n",
       "      <td>No tengo:(</td>\n",
       "    </tr>\n",
       "    <tr>\n",
       "      <th>11</th>\n",
       "      <td>2023/06/27 7:43:16 p. m. GMT-6</td>\n",
       "      <td>El Paso TX</td>\n",
       "      <td>Entre 18 y 20</td>\n",
       "      <td>Sí</td>\n",
       "      <td>No</td>\n",
       "      <td>Básico</td>\n",
       "      <td>POO</td>\n",
       "      <td>No</td>\n",
       "      <td>The Words I Never Said / Mage</td>\n",
       "    </tr>\n",
       "    <tr>\n",
       "      <th>12</th>\n",
       "      <td>2023/06/27 7:43:16 p. m. GMT-6</td>\n",
       "      <td>Cuauhtemoc Chihuahua</td>\n",
       "      <td>Más de 30</td>\n",
       "      <td>No</td>\n",
       "      <td>Sí</td>\n",
       "      <td>Intermedio</td>\n",
       "      <td>Web y análisis de datos</td>\n",
       "      <td>No</td>\n",
       "      <td>Dust in the wind</td>\n",
       "    </tr>\n",
       "    <tr>\n",
       "      <th>13</th>\n",
       "      <td>2023/06/27 7:43:29 p. m. GMT-6</td>\n",
       "      <td>Cd. Juárez</td>\n",
       "      <td>Entre 21 y 24</td>\n",
       "      <td>Sí</td>\n",
       "      <td>Sí</td>\n",
       "      <td>Básico</td>\n",
       "      <td>Flujos de trabajo, análisis de datos, análisis...</td>\n",
       "      <td>Sí</td>\n",
       "      <td>Manto estelar - Moenia</td>\n",
       "    </tr>\n",
       "    <tr>\n",
       "      <th>14</th>\n",
       "      <td>2023/06/27 7:43:34 p. m. GMT-6</td>\n",
       "      <td>Hidalgo</td>\n",
       "      <td>Entre 25 y 29</td>\n",
       "      <td>Sí</td>\n",
       "      <td>Sí</td>\n",
       "      <td>Básico</td>\n",
       "      <td>Deep learning</td>\n",
       "      <td>No</td>\n",
       "      <td>Todas</td>\n",
       "    </tr>\n",
       "    <tr>\n",
       "      <th>15</th>\n",
       "      <td>2023/06/27 7:43:50 p. m. GMT-6</td>\n",
       "      <td>Cd. Juarez, Chih.</td>\n",
       "      <td>Entre 21 y 24</td>\n",
       "      <td>Sí</td>\n",
       "      <td>Sí</td>\n",
       "      <td>Básico</td>\n",
       "      <td>Programación orientada a objetos (POO)</td>\n",
       "      <td>Sí</td>\n",
       "      <td>Skillet-Comatose y Whisper in the Dark</td>\n",
       "    </tr>\n",
       "    <tr>\n",
       "      <th>16</th>\n",
       "      <td>2023/06/27 7:44:01 p. m. GMT-6</td>\n",
       "      <td>Cd. Juarez Chihuahua</td>\n",
       "      <td>Más de 30</td>\n",
       "      <td>No</td>\n",
       "      <td>Sí</td>\n",
       "      <td>Básico</td>\n",
       "      <td>un poco de todo para irme familiarizandome a l...</td>\n",
       "      <td>Sí</td>\n",
       "      <td>el hada y el mago de reta blancha</td>\n",
       "    </tr>\n",
       "    <tr>\n",
       "      <th>17</th>\n",
       "      <td>2023/06/27 7:44:01 p. m. GMT-6</td>\n",
       "      <td>Ciudad Juarez Chihuahua Mexico</td>\n",
       "      <td>Entre 21 y 24</td>\n",
       "      <td>No</td>\n",
       "      <td>No</td>\n",
       "      <td>Básico</td>\n",
       "      <td>API y IA</td>\n",
       "      <td>Sí</td>\n",
       "      <td>https://youtu.be/dQw4w9WgXcQ y https://youtu.b...</td>\n",
       "    </tr>\n",
       "    <tr>\n",
       "      <th>18</th>\n",
       "      <td>2023/06/27 7:44:12 p. m. GMT-6</td>\n",
       "      <td>Ciudad Juarez</td>\n",
       "      <td>Más de 30</td>\n",
       "      <td>Sí</td>\n",
       "      <td>No</td>\n",
       "      <td>Básico</td>\n",
       "      <td>Web Scrapping y limpieza de conjuntos de datos</td>\n",
       "      <td>Sí</td>\n",
       "      <td>Hotel California</td>\n",
       "    </tr>\n",
       "    <tr>\n",
       "      <th>19</th>\n",
       "      <td>2023/06/27 7:44:14 p. m. GMT-6</td>\n",
       "      <td>Chihuahua, Chih.</td>\n",
       "      <td>Más de 30</td>\n",
       "      <td>No</td>\n",
       "      <td>Sí</td>\n",
       "      <td>Básico</td>\n",
       "      <td>análisis de datos</td>\n",
       "      <td>Sí</td>\n",
       "      <td>no tengo canción favorita, prácticamente no es...</td>\n",
       "    </tr>\n",
       "    <tr>\n",
       "      <th>20</th>\n",
       "      <td>2023/06/27 7:44:17 p. m. GMT-6</td>\n",
       "      <td>Ciudad Juarez</td>\n",
       "      <td>Entre 18 y 20</td>\n",
       "      <td>Sí</td>\n",
       "      <td>No</td>\n",
       "      <td>Básico</td>\n",
       "      <td>Analisis de datos y su uso para desarrollo web</td>\n",
       "      <td>No</td>\n",
       "      <td>Burn My Dread - Persona 3</td>\n",
       "    </tr>\n",
       "    <tr>\n",
       "      <th>21</th>\n",
       "      <td>2023/06/27 7:44:20 p. m. GMT-6</td>\n",
       "      <td>Cd Juárez Chihuahua, México.</td>\n",
       "      <td>Más de 30</td>\n",
       "      <td>No</td>\n",
       "      <td>Sí</td>\n",
       "      <td>Básico</td>\n",
       "      <td>Ciencia de Datos, y API`s y Todo lo de Python</td>\n",
       "      <td>Sí</td>\n",
       "      <td>....</td>\n",
       "    </tr>\n",
       "    <tr>\n",
       "      <th>22</th>\n",
       "      <td>2023/06/27 7:44:25 p. m. GMT-6</td>\n",
       "      <td>Ciudad Juárez</td>\n",
       "      <td>Más de 30</td>\n",
       "      <td>No</td>\n",
       "      <td>Sí</td>\n",
       "      <td>Básico</td>\n",
       "      <td>recolección, limpieza y visualización de datos</td>\n",
       "      <td>Sí</td>\n",
       "      <td>Todo cuenta</td>\n",
       "    </tr>\n",
       "    <tr>\n",
       "      <th>23</th>\n",
       "      <td>2023/06/27 7:44:30 p. m. GMT-6</td>\n",
       "      <td>Cd. Juárez</td>\n",
       "      <td>Entre 25 y 29</td>\n",
       "      <td>Sí</td>\n",
       "      <td>No</td>\n",
       "      <td>Básico</td>\n",
       "      <td>Ciencia de datos</td>\n",
       "      <td>Sí</td>\n",
       "      <td>Chosen - Maneskin</td>\n",
       "    </tr>\n",
       "    <tr>\n",
       "      <th>24</th>\n",
       "      <td>2023/06/27 7:44:31 p. m. GMT-6</td>\n",
       "      <td>Juarez</td>\n",
       "      <td>Entre 25 y 29</td>\n",
       "      <td>Sí</td>\n",
       "      <td>Sí</td>\n",
       "      <td>Básico</td>\n",
       "      <td>Como hacer una interfaz para poder hacer un pr...</td>\n",
       "      <td>Sí</td>\n",
       "      <td>God's Plan- Drake</td>\n",
       "    </tr>\n",
       "    <tr>\n",
       "      <th>25</th>\n",
       "      <td>2023/06/27 7:45:04 p. m. GMT-6</td>\n",
       "      <td>Cd. Juárez, Chihuahua</td>\n",
       "      <td>Entre 18 y 20</td>\n",
       "      <td>Sí</td>\n",
       "      <td>No</td>\n",
       "      <td>Nunca he utilizado Python</td>\n",
       "      <td>Programación para uso academico</td>\n",
       "      <td>No</td>\n",
       "      <td>A man without love - Engelbert Humperdinck</td>\n",
       "    </tr>\n",
       "    <tr>\n",
       "      <th>26</th>\n",
       "      <td>2023/06/27 7:45:37 p. m. GMT-6</td>\n",
       "      <td>Aguascalientes</td>\n",
       "      <td>Entre 21 y 24</td>\n",
       "      <td>Sí</td>\n",
       "      <td>No</td>\n",
       "      <td>Intermedio</td>\n",
       "      <td>un poco de inteligencia artificial</td>\n",
       "      <td>No</td>\n",
       "      <td>Love of my life</td>\n",
       "    </tr>\n",
       "    <tr>\n",
       "      <th>27</th>\n",
       "      <td>2023/06/27 7:45:45 p. m. GMT-6</td>\n",
       "      <td>Cd. Juarez</td>\n",
       "      <td>Entre 15 y 17</td>\n",
       "      <td>Sí</td>\n",
       "      <td>No</td>\n",
       "      <td>Básico</td>\n",
       "      <td>Bucles</td>\n",
       "      <td>Sí</td>\n",
       "      <td>Jorge Drexler - El Plan Maestro</td>\n",
       "    </tr>\n",
       "    <tr>\n",
       "      <th>28</th>\n",
       "      <td>2023/06/27 7:46:10 p. m. GMT-6</td>\n",
       "      <td>San Francisco de los Romo, Aguascalientes</td>\n",
       "      <td>Entre 18 y 20</td>\n",
       "      <td>Sí</td>\n",
       "      <td>No</td>\n",
       "      <td>Básico</td>\n",
       "      <td>Librerias con aplicaciones en el mundo de las ...</td>\n",
       "      <td>No</td>\n",
       "      <td>Inolvidable - Luis Miguel</td>\n",
       "    </tr>\n",
       "    <tr>\n",
       "      <th>29</th>\n",
       "      <td>2023/06/27 7:46:14 p. m. GMT-6</td>\n",
       "      <td>Chihuahua</td>\n",
       "      <td>Entre 18 y 20</td>\n",
       "      <td>Sí</td>\n",
       "      <td>Sí</td>\n",
       "      <td>Básico</td>\n",
       "      <td>desarrollo</td>\n",
       "      <td>No</td>\n",
       "      <td>Last Call</td>\n",
       "    </tr>\n",
       "    <tr>\n",
       "      <th>30</th>\n",
       "      <td>2023/06/27 7:46:28 p. m. GMT-6</td>\n",
       "      <td>Ciudad Juárez</td>\n",
       "      <td>Entre 21 y 24</td>\n",
       "      <td>Sí</td>\n",
       "      <td>No</td>\n",
       "      <td>Básico</td>\n",
       "      <td>Procesamiento de datos</td>\n",
       "      <td>Sí</td>\n",
       "      <td>Lacrimosa- Matt Kent, Amber Dawn</td>\n",
       "    </tr>\n",
       "    <tr>\n",
       "      <th>31</th>\n",
       "      <td>2023/06/27 7:46:32 p. m. GMT-6</td>\n",
       "      <td>Zacatecas</td>\n",
       "      <td>Entre 25 y 29</td>\n",
       "      <td>Sí</td>\n",
       "      <td>Sí</td>\n",
       "      <td>Básico</td>\n",
       "      <td>Apis</td>\n",
       "      <td>Sí</td>\n",
       "      <td>All the small things</td>\n",
       "    </tr>\n",
       "    <tr>\n",
       "      <th>32</th>\n",
       "      <td>2023/06/27 7:46:37 p. m. GMT-6</td>\n",
       "      <td>Ciudad Juarez</td>\n",
       "      <td>Entre 21 y 24</td>\n",
       "      <td>Sí</td>\n",
       "      <td>Sí</td>\n",
       "      <td>Básico</td>\n",
       "      <td>MachineLearning</td>\n",
       "      <td>No</td>\n",
       "      <td>Like I Love You - Justin Timberlake</td>\n",
       "    </tr>\n",
       "    <tr>\n",
       "      <th>33</th>\n",
       "      <td>2023/06/27 7:49:23 p. m. GMT-6</td>\n",
       "      <td>Ciudad Juárez</td>\n",
       "      <td>Entre 18 y 20</td>\n",
       "      <td>Sí</td>\n",
       "      <td>No</td>\n",
       "      <td>Básico</td>\n",
       "      <td>Ciencia de Datos y automatización</td>\n",
       "      <td>Sí</td>\n",
       "      <td>Cold Heart - PNAU REMIX Elton Jhon, Dua Lipa</td>\n",
       "    </tr>\n",
       "    <tr>\n",
       "      <th>34</th>\n",
       "      <td>2023/06/27 7:51:23 p. m. GMT-6</td>\n",
       "      <td>Ciudad Juarez</td>\n",
       "      <td>Entre 25 y 29</td>\n",
       "      <td>Sí</td>\n",
       "      <td>Sí</td>\n",
       "      <td>Intermedio</td>\n",
       "      <td>ciencia de datos, webscraping</td>\n",
       "      <td>Sí</td>\n",
       "      <td>Gorillaz - On Melancholy Hill</td>\n",
       "    </tr>\n",
       "    <tr>\n",
       "      <th>35</th>\n",
       "      <td>2023/06/27 7:55:00 p. m. GMT-6</td>\n",
       "      <td>Veracruz, estudio en Puebla</td>\n",
       "      <td>Entre 25 y 29</td>\n",
       "      <td>Sí</td>\n",
       "      <td>No</td>\n",
       "      <td>Básico</td>\n",
       "      <td>Lo relacionado con análisis de datos.</td>\n",
       "      <td>Sí</td>\n",
       "      <td>En este momento Los Años Maravillosos de Littl...</td>\n",
       "    </tr>\n",
       "    <tr>\n",
       "      <th>36</th>\n",
       "      <td>2023/06/27 8:05:42 p. m. GMT-6</td>\n",
       "      <td>CDMX</td>\n",
       "      <td>Entre 25 y 29</td>\n",
       "      <td>No</td>\n",
       "      <td>Sí</td>\n",
       "      <td>Básico</td>\n",
       "      <td>web scraping</td>\n",
       "      <td>No</td>\n",
       "      <td>Young Turks</td>\n",
       "    </tr>\n",
       "    <tr>\n",
       "      <th>37</th>\n",
       "      <td>2023/06/27 8:22:29 p. m. GMT-6</td>\n",
       "      <td>Estado de Mexico</td>\n",
       "      <td>Entre 21 y 24</td>\n",
       "      <td>Sí</td>\n",
       "      <td>Sí</td>\n",
       "      <td>Básico</td>\n",
       "      <td>librerias, bloques paquetes etc....</td>\n",
       "      <td>No</td>\n",
       "      <td>the weeknd- Out of time</td>\n",
       "    </tr>\n",
       "    <tr>\n",
       "      <th>38</th>\n",
       "      <td>2023/06/27 10:02:11 p. m. GMT-6</td>\n",
       "      <td>Ciudad Juarez, Chih</td>\n",
       "      <td>Entre 21 y 24</td>\n",
       "      <td>No</td>\n",
       "      <td>Sí</td>\n",
       "      <td>Básico</td>\n",
       "      <td>Analisis de datos</td>\n",
       "      <td>Sí</td>\n",
       "      <td>https://youtu.be/BGVUiMskx_U</td>\n",
       "    </tr>\n",
       "    <tr>\n",
       "      <th>39</th>\n",
       "      <td>2023/06/27 10:31:28 p. m. GMT-6</td>\n",
       "      <td>cd juarez</td>\n",
       "      <td>Entre 21 y 24</td>\n",
       "      <td>Sí</td>\n",
       "      <td>Sí</td>\n",
       "      <td>Básico</td>\n",
       "      <td>punteros</td>\n",
       "      <td>Sí</td>\n",
       "      <td>porter guiame quetzal</td>\n",
       "    </tr>\n",
       "    <tr>\n",
       "      <th>40</th>\n",
       "      <td>2023/06/28 10:12:04 p. m. GMT-6</td>\n",
       "      <td>Chihuahua</td>\n",
       "      <td>Entre 21 y 24</td>\n",
       "      <td>No</td>\n",
       "      <td>Sí</td>\n",
       "      <td>Básico</td>\n",
       "      <td>Machine Learning y Deep Learning</td>\n",
       "      <td>Sí</td>\n",
       "      <td>Runaway</td>\n",
       "    </tr>\n",
       "    <tr>\n",
       "      <th>41</th>\n",
       "      <td>2023/06/29 2:00:51 a. m. GMT-6</td>\n",
       "      <td>Vivo en Ciudad Juárez. Soy cubana</td>\n",
       "      <td>Más de 30</td>\n",
       "      <td>Sí</td>\n",
       "      <td>No</td>\n",
       "      <td>Intermedio</td>\n",
       "      <td>Cómo escribir un código de forma profesional, ...</td>\n",
       "      <td>No</td>\n",
       "      <td>Hay varias, pero últimamente escucho mucho \"Cu...</td>\n",
       "    </tr>\n",
       "    <tr>\n",
       "      <th>42</th>\n",
       "      <td>2023/07/03 1:55:24 p. m. GMT-6</td>\n",
       "      <td>Ciudad Juarez</td>\n",
       "      <td>Más de 30</td>\n",
       "      <td>No</td>\n",
       "      <td>Sí</td>\n",
       "      <td>Intermedio</td>\n",
       "      <td>Automatizacion</td>\n",
       "      <td>No</td>\n",
       "      <td>David Bowie - Heroes</td>\n",
       "    </tr>\n",
       "  </tbody>\n",
       "</table>\n",
       "</div>"
      ],
      "text/plain": [
       "                     Marca temporal  \\\n",
       "0    2023/06/27 7:42:12 p. m. GMT-6   \n",
       "1    2023/06/27 7:42:28 p. m. GMT-6   \n",
       "2    2023/06/27 7:42:44 p. m. GMT-6   \n",
       "3    2023/06/27 7:42:52 p. m. GMT-6   \n",
       "4    2023/06/27 7:42:56 p. m. GMT-6   \n",
       "5    2023/06/27 7:42:57 p. m. GMT-6   \n",
       "6    2023/06/27 7:42:57 p. m. GMT-6   \n",
       "7    2023/06/27 7:43:04 p. m. GMT-6   \n",
       "8    2023/06/27 7:43:10 p. m. GMT-6   \n",
       "9    2023/06/27 7:43:12 p. m. GMT-6   \n",
       "10   2023/06/27 7:43:12 p. m. GMT-6   \n",
       "11   2023/06/27 7:43:16 p. m. GMT-6   \n",
       "12   2023/06/27 7:43:16 p. m. GMT-6   \n",
       "13   2023/06/27 7:43:29 p. m. GMT-6   \n",
       "14   2023/06/27 7:43:34 p. m. GMT-6   \n",
       "15   2023/06/27 7:43:50 p. m. GMT-6   \n",
       "16   2023/06/27 7:44:01 p. m. GMT-6   \n",
       "17   2023/06/27 7:44:01 p. m. GMT-6   \n",
       "18   2023/06/27 7:44:12 p. m. GMT-6   \n",
       "19   2023/06/27 7:44:14 p. m. GMT-6   \n",
       "20   2023/06/27 7:44:17 p. m. GMT-6   \n",
       "21   2023/06/27 7:44:20 p. m. GMT-6   \n",
       "22   2023/06/27 7:44:25 p. m. GMT-6   \n",
       "23   2023/06/27 7:44:30 p. m. GMT-6   \n",
       "24   2023/06/27 7:44:31 p. m. GMT-6   \n",
       "25   2023/06/27 7:45:04 p. m. GMT-6   \n",
       "26   2023/06/27 7:45:37 p. m. GMT-6   \n",
       "27   2023/06/27 7:45:45 p. m. GMT-6   \n",
       "28   2023/06/27 7:46:10 p. m. GMT-6   \n",
       "29   2023/06/27 7:46:14 p. m. GMT-6   \n",
       "30   2023/06/27 7:46:28 p. m. GMT-6   \n",
       "31   2023/06/27 7:46:32 p. m. GMT-6   \n",
       "32   2023/06/27 7:46:37 p. m. GMT-6   \n",
       "33   2023/06/27 7:49:23 p. m. GMT-6   \n",
       "34   2023/06/27 7:51:23 p. m. GMT-6   \n",
       "35   2023/06/27 7:55:00 p. m. GMT-6   \n",
       "36   2023/06/27 8:05:42 p. m. GMT-6   \n",
       "37   2023/06/27 8:22:29 p. m. GMT-6   \n",
       "38  2023/06/27 10:02:11 p. m. GMT-6   \n",
       "39  2023/06/27 10:31:28 p. m. GMT-6   \n",
       "40  2023/06/28 10:12:04 p. m. GMT-6   \n",
       "41   2023/06/29 2:00:51 a. m. GMT-6   \n",
       "42   2023/07/03 1:55:24 p. m. GMT-6   \n",
       "\n",
       "                          1.- ¿De dónde eres? 2.- ¿Cuántos años tienes?  \\\n",
       "0                                  Cd. Juárez             Entre 21 y 24   \n",
       "1                        chihuahua, chihuahua             Entre 21 y 24   \n",
       "2                         Chihuahua Chihuahua             Entre 18 y 20   \n",
       "3                         Chihuahua Chihuahua             Entre 21 y 24   \n",
       "4                            Chihuahua, Chih.                 Más de 30   \n",
       "5                                      Puebla             Entre 21 y 24   \n",
       "6                             Cd. Juarez Chih                 Más de 30   \n",
       "7                               Ciudad Juarez             Entre 21 y 24   \n",
       "8                              Aguascalientes             Entre 18 y 20   \n",
       "9                            Cd Juarez, Chih.             Entre 21 y 24   \n",
       "10                                     Juárez             Entre 21 y 24   \n",
       "11                                 El Paso TX             Entre 18 y 20   \n",
       "12                       Cuauhtemoc Chihuahua                 Más de 30   \n",
       "13                                Cd. Juárez              Entre 21 y 24   \n",
       "14                                    Hidalgo             Entre 25 y 29   \n",
       "15                          Cd. Juarez, Chih.             Entre 21 y 24   \n",
       "16                       Cd. Juarez Chihuahua                 Más de 30   \n",
       "17             Ciudad Juarez Chihuahua Mexico             Entre 21 y 24   \n",
       "18                              Ciudad Juarez                 Más de 30   \n",
       "19                           Chihuahua, Chih.                 Más de 30   \n",
       "20                              Ciudad Juarez             Entre 18 y 20   \n",
       "21               Cd Juárez Chihuahua, México.                 Más de 30   \n",
       "22                              Ciudad Juárez                 Más de 30   \n",
       "23                                 Cd. Juárez             Entre 25 y 29   \n",
       "24                                     Juarez             Entre 25 y 29   \n",
       "25                     Cd. Juárez, Chihuahua              Entre 18 y 20   \n",
       "26                            Aguascalientes              Entre 21 y 24   \n",
       "27                                 Cd. Juarez             Entre 15 y 17   \n",
       "28  San Francisco de los Romo, Aguascalientes             Entre 18 y 20   \n",
       "29                                  Chihuahua             Entre 18 y 20   \n",
       "30                              Ciudad Juárez             Entre 21 y 24   \n",
       "31                                 Zacatecas              Entre 25 y 29   \n",
       "32                              Ciudad Juarez             Entre 21 y 24   \n",
       "33                              Ciudad Juárez             Entre 18 y 20   \n",
       "34                              Ciudad Juarez             Entre 25 y 29   \n",
       "35                Veracruz, estudio en Puebla             Entre 25 y 29   \n",
       "36                                       CDMX             Entre 25 y 29   \n",
       "37                           Estado de Mexico             Entre 21 y 24   \n",
       "38                        Ciudad Juarez, Chih             Entre 21 y 24   \n",
       "39                                  cd juarez             Entre 21 y 24   \n",
       "40                                  Chihuahua             Entre 21 y 24   \n",
       "41          Vivo en Ciudad Juárez. Soy cubana                 Más de 30   \n",
       "42                              Ciudad Juarez                 Más de 30   \n",
       "\n",
       "   3.- ¿Estudias? 4.- ¿Trabajas?  \\\n",
       "0              Sí             No   \n",
       "1              Sí             Sí   \n",
       "2              Sí             Sí   \n",
       "3              Sí             Sí   \n",
       "4              No             Sí   \n",
       "5              Sí             Sí   \n",
       "6              No             Sí   \n",
       "7              Sí             Sí   \n",
       "8              Sí             No   \n",
       "9              Sí             No   \n",
       "10             Sí             Sí   \n",
       "11             Sí             No   \n",
       "12             No             Sí   \n",
       "13             Sí             Sí   \n",
       "14             Sí             Sí   \n",
       "15             Sí             Sí   \n",
       "16             No             Sí   \n",
       "17             No             No   \n",
       "18             Sí             No   \n",
       "19             No             Sí   \n",
       "20             Sí             No   \n",
       "21             No             Sí   \n",
       "22             No             Sí   \n",
       "23             Sí             No   \n",
       "24             Sí             Sí   \n",
       "25             Sí             No   \n",
       "26             Sí             No   \n",
       "27             Sí             No   \n",
       "28             Sí             No   \n",
       "29             Sí             Sí   \n",
       "30             Sí             No   \n",
       "31             Sí             Sí   \n",
       "32             Sí             Sí   \n",
       "33             Sí             No   \n",
       "34             Sí             Sí   \n",
       "35             Sí             No   \n",
       "36             No             Sí   \n",
       "37             Sí             Sí   \n",
       "38             No             Sí   \n",
       "39             Sí             Sí   \n",
       "40             No             Sí   \n",
       "41             Sí             No   \n",
       "42             No             Sí   \n",
       "\n",
       "   5.- ¿Cuál es tu nivel de conocimiento en Python?  \\\n",
       "0                                            Básico   \n",
       "1                                            Básico   \n",
       "2                                            Básico   \n",
       "3                                            Básico   \n",
       "4                                            Básico   \n",
       "5                                            Básico   \n",
       "6                                        Intermedio   \n",
       "7                                            Básico   \n",
       "8                                            Básico   \n",
       "9                                            Básico   \n",
       "10                                           Básico   \n",
       "11                                           Básico   \n",
       "12                                       Intermedio   \n",
       "13                                           Básico   \n",
       "14                                           Básico   \n",
       "15                                           Básico   \n",
       "16                                           Básico   \n",
       "17                                           Básico   \n",
       "18                                           Básico   \n",
       "19                                           Básico   \n",
       "20                                           Básico   \n",
       "21                                           Básico   \n",
       "22                                           Básico   \n",
       "23                                           Básico   \n",
       "24                                           Básico   \n",
       "25                        Nunca he utilizado Python   \n",
       "26                                       Intermedio   \n",
       "27                                           Básico   \n",
       "28                                           Básico   \n",
       "29                                           Básico   \n",
       "30                                           Básico   \n",
       "31                                           Básico   \n",
       "32                                           Básico   \n",
       "33                                           Básico   \n",
       "34                                       Intermedio   \n",
       "35                                           Básico   \n",
       "36                                           Básico   \n",
       "37                                           Básico   \n",
       "38                                           Básico   \n",
       "39                                           Básico   \n",
       "40                                           Básico   \n",
       "41                                       Intermedio   \n",
       "42                                       Intermedio   \n",
       "\n",
       "   6.- ¿Qué tema relacionado con Python te gustaría aprender?  \\\n",
       "0                              Manejar bases de datos           \n",
       "1                                     machine lerning           \n",
       "2       Automatización y creación de apps/páginas web           \n",
       "3                                   Análisis de datos           \n",
       "4                               Conocer más librerias           \n",
       "5                                 APIS y data science           \n",
       "6                                   Analisis de Datos           \n",
       "7                                    Ciencia de datos           \n",
       "8   Me gustaria aprender un poco de todo, pero mas...           \n",
       "9   No tengo un tema en especifico, solo deseo rep...           \n",
       "10                                  Análisis de datos           \n",
       "11                                                POO           \n",
       "12                            Web y análisis de datos           \n",
       "13  Flujos de trabajo, análisis de datos, análisis...           \n",
       "14                                      Deep learning           \n",
       "15             Programación orientada a objetos (POO)           \n",
       "16  un poco de todo para irme familiarizandome a l...           \n",
       "17                                          API y IA            \n",
       "18     Web Scrapping y limpieza de conjuntos de datos           \n",
       "19                                  análisis de datos           \n",
       "20     Analisis de datos y su uso para desarrollo web           \n",
       "21      Ciencia de Datos, y API`s y Todo lo de Python           \n",
       "22     recolección, limpieza y visualización de datos           \n",
       "23                                   Ciencia de datos           \n",
       "24  Como hacer una interfaz para poder hacer un pr...           \n",
       "25                    Programación para uso academico           \n",
       "26                un poco de inteligencia artificial            \n",
       "27                                             Bucles           \n",
       "28  Librerias con aplicaciones en el mundo de las ...           \n",
       "29                                         desarrollo           \n",
       "30                             Procesamiento de datos           \n",
       "31                                               Apis           \n",
       "32                                    MachineLearning           \n",
       "33                  Ciencia de Datos y automatización           \n",
       "34                      ciencia de datos, webscraping           \n",
       "35              Lo relacionado con análisis de datos.           \n",
       "36                                       web scraping           \n",
       "37                librerias, bloques paquetes etc....           \n",
       "38                                  Analisis de datos           \n",
       "39                                           punteros           \n",
       "40                   Machine Learning y Deep Learning           \n",
       "41  Cómo escribir un código de forma profesional, ...           \n",
       "42                                     Automatizacion           \n",
       "\n",
       "   7.- ¿Has participado en algún curso anteriormente en el IA Center?  \\\n",
       "0                                                  No                   \n",
       "1                                                  Sí                   \n",
       "2                                                  No                   \n",
       "3                                                  Sí                   \n",
       "4                                                  Sí                   \n",
       "5                                                  No                   \n",
       "6                                                  Sí                   \n",
       "7                                                  Sí                   \n",
       "8                                                  No                   \n",
       "9                                                  Sí                   \n",
       "10                                                 No                   \n",
       "11                                                 No                   \n",
       "12                                                 No                   \n",
       "13                                                 Sí                   \n",
       "14                                                 No                   \n",
       "15                                                 Sí                   \n",
       "16                                                 Sí                   \n",
       "17                                                 Sí                   \n",
       "18                                                 Sí                   \n",
       "19                                                 Sí                   \n",
       "20                                                 No                   \n",
       "21                                                 Sí                   \n",
       "22                                                 Sí                   \n",
       "23                                                 Sí                   \n",
       "24                                                 Sí                   \n",
       "25                                                 No                   \n",
       "26                                                 No                   \n",
       "27                                                 Sí                   \n",
       "28                                                 No                   \n",
       "29                                                 No                   \n",
       "30                                                 Sí                   \n",
       "31                                                 Sí                   \n",
       "32                                                 No                   \n",
       "33                                                 Sí                   \n",
       "34                                                 Sí                   \n",
       "35                                                 Sí                   \n",
       "36                                                 No                   \n",
       "37                                                 No                   \n",
       "38                                                 Sí                   \n",
       "39                                                 Sí                   \n",
       "40                                                 Sí                   \n",
       "41                                                 No                   \n",
       "42                                                 No                   \n",
       "\n",
       "                    8.- ¿Cuál es tu canción favorita?  \n",
       "0                                            The Wolf  \n",
       "1                                     eternity, anyma  \n",
       "2                      Cornerstone- Arctic Monkeys :)  \n",
       "3                                     Sea Gets Hotter  \n",
       "4                          Love Me More, de Sam Smith  \n",
       "5                            Fireflight - Unbreakable  \n",
       "6                                Instrumental General  \n",
       "7                           La bruja de Marco Flores   \n",
       "8                                 Canela-Nanpa Basico  \n",
       "9   Depende del momento hy del día, ahora es Hielo...  \n",
       "10                                         No tengo:(  \n",
       "11                      The Words I Never Said / Mage  \n",
       "12                                   Dust in the wind  \n",
       "13                            Manto estelar - Moenia   \n",
       "14                                              Todas  \n",
       "15             Skillet-Comatose y Whisper in the Dark  \n",
       "16                  el hada y el mago de reta blancha  \n",
       "17  https://youtu.be/dQw4w9WgXcQ y https://youtu.b...  \n",
       "18                                   Hotel California  \n",
       "19  no tengo canción favorita, prácticamente no es...  \n",
       "20                          Burn My Dread - Persona 3  \n",
       "21                                               ....  \n",
       "22                                        Todo cuenta  \n",
       "23                                  Chosen - Maneskin  \n",
       "24                                  God's Plan- Drake  \n",
       "25         A man without love - Engelbert Humperdinck  \n",
       "26                                   Love of my life   \n",
       "27                    Jorge Drexler - El Plan Maestro  \n",
       "28                          Inolvidable - Luis Miguel  \n",
       "29                                          Last Call  \n",
       "30                   Lacrimosa- Matt Kent, Amber Dawn  \n",
       "31                               All the small things  \n",
       "32                Like I Love You - Justin Timberlake  \n",
       "33       Cold Heart - PNAU REMIX Elton Jhon, Dua Lipa  \n",
       "34                      Gorillaz - On Melancholy Hill  \n",
       "35  En este momento Los Años Maravillosos de Littl...  \n",
       "36                                        Young Turks  \n",
       "37                            the weeknd- Out of time  \n",
       "38                       https://youtu.be/BGVUiMskx_U  \n",
       "39                             porter guiame quetzal   \n",
       "40                                            Runaway  \n",
       "41  Hay varias, pero últimamente escucho mucho \"Cu...  \n",
       "42                              David Bowie - Heroes   "
      ]
     },
     "execution_count": 12,
     "metadata": {},
     "output_type": "execute_result"
    }
   ],
   "source": [
    "df =  pd.read_csv(\"../Python 3 Intermedio/Perfil de estudiante.csv\")\n",
    "\n",
    "df\n"
   ]
  },
  {
   "cell_type": "code",
   "execution_count": 14,
   "metadata": {},
   "outputs": [
    {
     "data": {
      "text/html": [
       "<div>\n",
       "<style scoped>\n",
       "    .dataframe tbody tr th:only-of-type {\n",
       "        vertical-align: middle;\n",
       "    }\n",
       "\n",
       "    .dataframe tbody tr th {\n",
       "        vertical-align: top;\n",
       "    }\n",
       "\n",
       "    .dataframe thead th {\n",
       "        text-align: right;\n",
       "    }\n",
       "</style>\n",
       "<table border=\"1\" class=\"dataframe\">\n",
       "  <thead>\n",
       "    <tr style=\"text-align: right;\">\n",
       "      <th></th>\n",
       "      <th>Marca temporal</th>\n",
       "      <th>1.- ¿De dónde eres?</th>\n",
       "      <th>2.- ¿Cuántos años tienes?</th>\n",
       "      <th>3.- ¿Estudias?</th>\n",
       "      <th>4.- ¿Trabajas?</th>\n",
       "      <th>5.- ¿Cuál es tu nivel de conocimiento en Python?</th>\n",
       "      <th>6.- ¿Qué tema relacionado con Python te gustaría aprender?</th>\n",
       "      <th>7.- ¿Has participado en algún curso anteriormente en el IA Center?</th>\n",
       "      <th>8.- ¿Cuál es tu canción favorita?</th>\n",
       "    </tr>\n",
       "  </thead>\n",
       "  <tbody>\n",
       "    <tr>\n",
       "      <th>0</th>\n",
       "      <td>2023/06/27 7:42:12 p. m. GMT-6</td>\n",
       "      <td>Cd. Juárez</td>\n",
       "      <td>Entre 21 y 24</td>\n",
       "      <td>Sí</td>\n",
       "      <td>No</td>\n",
       "      <td>Básico</td>\n",
       "      <td>Manejar bases de datos</td>\n",
       "      <td>No</td>\n",
       "      <td>The Wolf</td>\n",
       "    </tr>\n",
       "    <tr>\n",
       "      <th>1</th>\n",
       "      <td>2023/06/27 7:42:28 p. m. GMT-6</td>\n",
       "      <td>chihuahua, chihuahua</td>\n",
       "      <td>Entre 21 y 24</td>\n",
       "      <td>Sí</td>\n",
       "      <td>Sí</td>\n",
       "      <td>Básico</td>\n",
       "      <td>machine lerning</td>\n",
       "      <td>Sí</td>\n",
       "      <td>eternity, anyma</td>\n",
       "    </tr>\n",
       "    <tr>\n",
       "      <th>2</th>\n",
       "      <td>2023/06/27 7:42:44 p. m. GMT-6</td>\n",
       "      <td>Chihuahua Chihuahua</td>\n",
       "      <td>Entre 18 y 20</td>\n",
       "      <td>Sí</td>\n",
       "      <td>Sí</td>\n",
       "      <td>Básico</td>\n",
       "      <td>Automatización y creación de apps/páginas web</td>\n",
       "      <td>No</td>\n",
       "      <td>Cornerstone- Arctic Monkeys :)</td>\n",
       "    </tr>\n",
       "    <tr>\n",
       "      <th>3</th>\n",
       "      <td>2023/06/27 7:42:52 p. m. GMT-6</td>\n",
       "      <td>Chihuahua Chihuahua</td>\n",
       "      <td>Entre 21 y 24</td>\n",
       "      <td>Sí</td>\n",
       "      <td>Sí</td>\n",
       "      <td>Básico</td>\n",
       "      <td>Análisis de datos</td>\n",
       "      <td>Sí</td>\n",
       "      <td>Sea Gets Hotter</td>\n",
       "    </tr>\n",
       "    <tr>\n",
       "      <th>4</th>\n",
       "      <td>2023/06/27 7:42:56 p. m. GMT-6</td>\n",
       "      <td>Chihuahua, Chih.</td>\n",
       "      <td>Más de 30</td>\n",
       "      <td>No</td>\n",
       "      <td>Sí</td>\n",
       "      <td>Básico</td>\n",
       "      <td>Conocer más librerias</td>\n",
       "      <td>Sí</td>\n",
       "      <td>Love Me More, de Sam Smith</td>\n",
       "    </tr>\n",
       "  </tbody>\n",
       "</table>\n",
       "</div>"
      ],
      "text/plain": [
       "                   Marca temporal   1.- ¿De dónde eres?  \\\n",
       "0  2023/06/27 7:42:12 p. m. GMT-6            Cd. Juárez   \n",
       "1  2023/06/27 7:42:28 p. m. GMT-6  chihuahua, chihuahua   \n",
       "2  2023/06/27 7:42:44 p. m. GMT-6   Chihuahua Chihuahua   \n",
       "3  2023/06/27 7:42:52 p. m. GMT-6   Chihuahua Chihuahua   \n",
       "4  2023/06/27 7:42:56 p. m. GMT-6      Chihuahua, Chih.   \n",
       "\n",
       "  2.- ¿Cuántos años tienes? 3.- ¿Estudias? 4.- ¿Trabajas?  \\\n",
       "0             Entre 21 y 24             Sí             No   \n",
       "1             Entre 21 y 24             Sí             Sí   \n",
       "2             Entre 18 y 20             Sí             Sí   \n",
       "3             Entre 21 y 24             Sí             Sí   \n",
       "4                 Más de 30             No             Sí   \n",
       "\n",
       "  5.- ¿Cuál es tu nivel de conocimiento en Python?  \\\n",
       "0                                           Básico   \n",
       "1                                           Básico   \n",
       "2                                           Básico   \n",
       "3                                           Básico   \n",
       "4                                           Básico   \n",
       "\n",
       "  6.- ¿Qué tema relacionado con Python te gustaría aprender?  \\\n",
       "0                             Manejar bases de datos           \n",
       "1                                    machine lerning           \n",
       "2      Automatización y creación de apps/páginas web           \n",
       "3                                  Análisis de datos           \n",
       "4                              Conocer más librerias           \n",
       "\n",
       "  7.- ¿Has participado en algún curso anteriormente en el IA Center?  \\\n",
       "0                                                 No                   \n",
       "1                                                 Sí                   \n",
       "2                                                 No                   \n",
       "3                                                 Sí                   \n",
       "4                                                 Sí                   \n",
       "\n",
       "  8.- ¿Cuál es tu canción favorita?  \n",
       "0                          The Wolf  \n",
       "1                   eternity, anyma  \n",
       "2    Cornerstone- Arctic Monkeys :)  \n",
       "3                   Sea Gets Hotter  \n",
       "4        Love Me More, de Sam Smith  "
      ]
     },
     "execution_count": 14,
     "metadata": {},
     "output_type": "execute_result"
    }
   ],
   "source": [
    "df.head()"
   ]
  },
  {
   "cell_type": "code",
   "execution_count": 15,
   "metadata": {},
   "outputs": [
    {
     "data": {
      "text/html": [
       "<div>\n",
       "<style scoped>\n",
       "    .dataframe tbody tr th:only-of-type {\n",
       "        vertical-align: middle;\n",
       "    }\n",
       "\n",
       "    .dataframe tbody tr th {\n",
       "        vertical-align: top;\n",
       "    }\n",
       "\n",
       "    .dataframe thead th {\n",
       "        text-align: right;\n",
       "    }\n",
       "</style>\n",
       "<table border=\"1\" class=\"dataframe\">\n",
       "  <thead>\n",
       "    <tr style=\"text-align: right;\">\n",
       "      <th></th>\n",
       "      <th>Marca temporal</th>\n",
       "      <th>1.- ¿De dónde eres?</th>\n",
       "      <th>2.- ¿Cuántos años tienes?</th>\n",
       "      <th>3.- ¿Estudias?</th>\n",
       "      <th>4.- ¿Trabajas?</th>\n",
       "      <th>5.- ¿Cuál es tu nivel de conocimiento en Python?</th>\n",
       "      <th>6.- ¿Qué tema relacionado con Python te gustaría aprender?</th>\n",
       "      <th>7.- ¿Has participado en algún curso anteriormente en el IA Center?</th>\n",
       "      <th>8.- ¿Cuál es tu canción favorita?</th>\n",
       "    </tr>\n",
       "  </thead>\n",
       "  <tbody>\n",
       "    <tr>\n",
       "      <th>38</th>\n",
       "      <td>2023/06/27 10:02:11 p. m. GMT-6</td>\n",
       "      <td>Ciudad Juarez, Chih</td>\n",
       "      <td>Entre 21 y 24</td>\n",
       "      <td>No</td>\n",
       "      <td>Sí</td>\n",
       "      <td>Básico</td>\n",
       "      <td>Analisis de datos</td>\n",
       "      <td>Sí</td>\n",
       "      <td>https://youtu.be/BGVUiMskx_U</td>\n",
       "    </tr>\n",
       "    <tr>\n",
       "      <th>39</th>\n",
       "      <td>2023/06/27 10:31:28 p. m. GMT-6</td>\n",
       "      <td>cd juarez</td>\n",
       "      <td>Entre 21 y 24</td>\n",
       "      <td>Sí</td>\n",
       "      <td>Sí</td>\n",
       "      <td>Básico</td>\n",
       "      <td>punteros</td>\n",
       "      <td>Sí</td>\n",
       "      <td>porter guiame quetzal</td>\n",
       "    </tr>\n",
       "    <tr>\n",
       "      <th>40</th>\n",
       "      <td>2023/06/28 10:12:04 p. m. GMT-6</td>\n",
       "      <td>Chihuahua</td>\n",
       "      <td>Entre 21 y 24</td>\n",
       "      <td>No</td>\n",
       "      <td>Sí</td>\n",
       "      <td>Básico</td>\n",
       "      <td>Machine Learning y Deep Learning</td>\n",
       "      <td>Sí</td>\n",
       "      <td>Runaway</td>\n",
       "    </tr>\n",
       "    <tr>\n",
       "      <th>41</th>\n",
       "      <td>2023/06/29 2:00:51 a. m. GMT-6</td>\n",
       "      <td>Vivo en Ciudad Juárez. Soy cubana</td>\n",
       "      <td>Más de 30</td>\n",
       "      <td>Sí</td>\n",
       "      <td>No</td>\n",
       "      <td>Intermedio</td>\n",
       "      <td>Cómo escribir un código de forma profesional, ...</td>\n",
       "      <td>No</td>\n",
       "      <td>Hay varias, pero últimamente escucho mucho \"Cu...</td>\n",
       "    </tr>\n",
       "    <tr>\n",
       "      <th>42</th>\n",
       "      <td>2023/07/03 1:55:24 p. m. GMT-6</td>\n",
       "      <td>Ciudad Juarez</td>\n",
       "      <td>Más de 30</td>\n",
       "      <td>No</td>\n",
       "      <td>Sí</td>\n",
       "      <td>Intermedio</td>\n",
       "      <td>Automatizacion</td>\n",
       "      <td>No</td>\n",
       "      <td>David Bowie - Heroes</td>\n",
       "    </tr>\n",
       "  </tbody>\n",
       "</table>\n",
       "</div>"
      ],
      "text/plain": [
       "                     Marca temporal                1.- ¿De dónde eres?  \\\n",
       "38  2023/06/27 10:02:11 p. m. GMT-6                Ciudad Juarez, Chih   \n",
       "39  2023/06/27 10:31:28 p. m. GMT-6                          cd juarez   \n",
       "40  2023/06/28 10:12:04 p. m. GMT-6                          Chihuahua   \n",
       "41   2023/06/29 2:00:51 a. m. GMT-6  Vivo en Ciudad Juárez. Soy cubana   \n",
       "42   2023/07/03 1:55:24 p. m. GMT-6                      Ciudad Juarez   \n",
       "\n",
       "   2.- ¿Cuántos años tienes? 3.- ¿Estudias? 4.- ¿Trabajas?  \\\n",
       "38             Entre 21 y 24             No             Sí   \n",
       "39             Entre 21 y 24             Sí             Sí   \n",
       "40             Entre 21 y 24             No             Sí   \n",
       "41                 Más de 30             Sí             No   \n",
       "42                 Más de 30             No             Sí   \n",
       "\n",
       "   5.- ¿Cuál es tu nivel de conocimiento en Python?  \\\n",
       "38                                           Básico   \n",
       "39                                           Básico   \n",
       "40                                           Básico   \n",
       "41                                       Intermedio   \n",
       "42                                       Intermedio   \n",
       "\n",
       "   6.- ¿Qué tema relacionado con Python te gustaría aprender?  \\\n",
       "38                                  Analisis de datos           \n",
       "39                                           punteros           \n",
       "40                   Machine Learning y Deep Learning           \n",
       "41  Cómo escribir un código de forma profesional, ...           \n",
       "42                                     Automatizacion           \n",
       "\n",
       "   7.- ¿Has participado en algún curso anteriormente en el IA Center?  \\\n",
       "38                                                 Sí                   \n",
       "39                                                 Sí                   \n",
       "40                                                 Sí                   \n",
       "41                                                 No                   \n",
       "42                                                 No                   \n",
       "\n",
       "                    8.- ¿Cuál es tu canción favorita?  \n",
       "38                       https://youtu.be/BGVUiMskx_U  \n",
       "39                             porter guiame quetzal   \n",
       "40                                            Runaway  \n",
       "41  Hay varias, pero últimamente escucho mucho \"Cu...  \n",
       "42                              David Bowie - Heroes   "
      ]
     },
     "execution_count": 15,
     "metadata": {},
     "output_type": "execute_result"
    }
   ],
   "source": [
    "df.tail()"
   ]
  },
  {
   "cell_type": "code",
   "execution_count": 16,
   "metadata": {},
   "outputs": [
    {
     "name": "stdout",
     "output_type": "stream",
     "text": [
      "<class 'pandas.core.frame.DataFrame'>\n",
      "RangeIndex: 43 entries, 0 to 42\n",
      "Data columns (total 9 columns):\n",
      " #   Column                                                              Non-Null Count  Dtype \n",
      "---  ------                                                              --------------  ----- \n",
      " 0   Marca temporal                                                      43 non-null     object\n",
      " 1   1.- ¿De dónde eres?                                                 43 non-null     object\n",
      " 2   2.- ¿Cuántos años tienes?                                           43 non-null     object\n",
      " 3   3.- ¿Estudias?                                                      43 non-null     object\n",
      " 4   4.- ¿Trabajas?                                                      43 non-null     object\n",
      " 5   5.- ¿Cuál es tu nivel de conocimiento en Python?                    43 non-null     object\n",
      " 6   6.- ¿Qué tema relacionado con Python te gustaría aprender?          43 non-null     object\n",
      " 7   7.- ¿Has participado en algún curso anteriormente en el IA Center?  43 non-null     object\n",
      " 8   8.- ¿Cuál es tu canción favorita?                                   43 non-null     object\n",
      "dtypes: object(9)\n",
      "memory usage: 3.1+ KB\n"
     ]
    }
   ],
   "source": [
    "df.info()"
   ]
  },
  {
   "cell_type": "code",
   "execution_count": 18,
   "metadata": {},
   "outputs": [
    {
     "name": "stdout",
     "output_type": "stream",
     "text": [
      "                     Marca temporal                        1.- ¿De dónde eres? 2.- ¿Cuántos años tienes? 3.- ¿Estudias? 4.- ¿Trabajas? 5.- ¿Cuál es tu nivel de conocimiento en Python?                                           6.- ¿Qué tema relacionado con Python te gustaría aprender? 7.- ¿Has participado en algún curso anteriormente en el IA Center?                             8.- ¿Cuál es tu canción favorita?\n",
      "0    2023/06/27 7:42:12 p. m. GMT-6                                 Cd. Juárez             Entre 21 y 24             Sí             No                                           Básico                                                                               Manejar bases de datos                                                                 No                                                      The Wolf\n",
      "1    2023/06/27 7:42:28 p. m. GMT-6                       chihuahua, chihuahua             Entre 21 y 24             Sí             Sí                                           Básico                                                                                      machine lerning                                                                 Sí                                               eternity, anyma\n",
      "2    2023/06/27 7:42:44 p. m. GMT-6                        Chihuahua Chihuahua             Entre 18 y 20             Sí             Sí                                           Básico                                                        Automatización y creación de apps/páginas web                                                                 No                                Cornerstone- Arctic Monkeys :)\n",
      "3    2023/06/27 7:42:52 p. m. GMT-6                        Chihuahua Chihuahua             Entre 21 y 24             Sí             Sí                                           Básico                                                                                    Análisis de datos                                                                 Sí                                               Sea Gets Hotter\n",
      "4    2023/06/27 7:42:56 p. m. GMT-6                           Chihuahua, Chih.                 Más de 30             No             Sí                                           Básico                                                                                Conocer más librerias                                                                 Sí                                    Love Me More, de Sam Smith\n",
      "5    2023/06/27 7:42:57 p. m. GMT-6                                     Puebla             Entre 21 y 24             Sí             Sí                                           Básico                                                                                  APIS y data science                                                                 No                                      Fireflight - Unbreakable\n",
      "6    2023/06/27 7:42:57 p. m. GMT-6                            Cd. Juarez Chih                 Más de 30             No             Sí                                       Intermedio                                                                                    Analisis de Datos                                                                 Sí                                          Instrumental General\n",
      "7    2023/06/27 7:43:04 p. m. GMT-6                              Ciudad Juarez             Entre 21 y 24             Sí             Sí                                           Básico                                                                                     Ciencia de datos                                                                 Sí                                     La bruja de Marco Flores \n",
      "8    2023/06/27 7:43:10 p. m. GMT-6                             Aguascalientes             Entre 18 y 20             Sí             No                                           Básico  Me gustaria aprender un poco de todo, pero mas que nada me gustaria practicar mas los conocimientos                                                                 No                                           Canela-Nanpa Basico\n",
      "9    2023/06/27 7:43:12 p. m. GMT-6                           Cd Juarez, Chih.             Entre 21 y 24             Sí             No                                           Básico                                       No tengo un tema en especifico, solo deseo repasar y aprender                                                                  Sí          Depende del momento hy del día, ahora es Hielo - Zoé\n",
      "10   2023/06/27 7:43:12 p. m. GMT-6                                     Juárez             Entre 21 y 24             Sí             Sí                                           Básico                                                                                    Análisis de datos                                                                 No                                                    No tengo:(\n",
      "11   2023/06/27 7:43:16 p. m. GMT-6                                 El Paso TX             Entre 18 y 20             Sí             No                                           Básico                                                                                                  POO                                                                 No                                 The Words I Never Said / Mage\n",
      "12   2023/06/27 7:43:16 p. m. GMT-6                       Cuauhtemoc Chihuahua                 Más de 30             No             Sí                                       Intermedio                                                                              Web y análisis de datos                                                                 No                                              Dust in the wind\n",
      "13   2023/06/27 7:43:29 p. m. GMT-6                                Cd. Juárez              Entre 21 y 24             Sí             Sí                                           Básico                         Flujos de trabajo, análisis de datos, análisis estadístico y automatización                                                                  Sí                                       Manto estelar - Moenia \n",
      "14   2023/06/27 7:43:34 p. m. GMT-6                                    Hidalgo             Entre 25 y 29             Sí             Sí                                           Básico                                                                                        Deep learning                                                                 No                                                         Todas\n",
      "15   2023/06/27 7:43:50 p. m. GMT-6                          Cd. Juarez, Chih.             Entre 21 y 24             Sí             Sí                                           Básico                                                               Programación orientada a objetos (POO)                                                                 Sí                        Skillet-Comatose y Whisper in the Dark\n",
      "16   2023/06/27 7:44:01 p. m. GMT-6                       Cd. Juarez Chihuahua                 Más de 30             No             Sí                                           Básico                                        un poco de todo para irme familiarizandome a la prograamacion                                                                 Sí                             el hada y el mago de reta blancha\n",
      "17   2023/06/27 7:44:01 p. m. GMT-6             Ciudad Juarez Chihuahua Mexico             Entre 21 y 24             No             No                                           Básico                                                                                            API y IA                                                                  Sí   https://youtu.be/dQw4w9WgXcQ y https://youtu.be/yJDBmP9Mexk\n",
      "18   2023/06/27 7:44:12 p. m. GMT-6                              Ciudad Juarez                 Más de 30             Sí             No                                           Básico                                                       Web Scrapping y limpieza de conjuntos de datos                                                                 Sí                                              Hotel California\n",
      "19   2023/06/27 7:44:14 p. m. GMT-6                           Chihuahua, Chih.                 Más de 30             No             Sí                                           Básico                                                                                    análisis de datos                                                                 Sí   no tengo canción favorita, prácticamente no escucho música \n",
      "20   2023/06/27 7:44:17 p. m. GMT-6                              Ciudad Juarez             Entre 18 y 20             Sí             No                                           Básico                                                       Analisis de datos y su uso para desarrollo web                                                                 No                                     Burn My Dread - Persona 3\n",
      "21   2023/06/27 7:44:20 p. m. GMT-6               Cd Juárez Chihuahua, México.                 Más de 30             No             Sí                                           Básico                                                        Ciencia de Datos, y API`s y Todo lo de Python                                                                 Sí                                                          ....\n",
      "22   2023/06/27 7:44:25 p. m. GMT-6                              Ciudad Juárez                 Más de 30             No             Sí                                           Básico                                                       recolección, limpieza y visualización de datos                                                                 Sí                                                   Todo cuenta\n",
      "23   2023/06/27 7:44:30 p. m. GMT-6                                 Cd. Juárez             Entre 25 y 29             Sí             No                                           Básico                                                                                     Ciencia de datos                                                                 Sí                                             Chosen - Maneskin\n",
      "24   2023/06/27 7:44:31 p. m. GMT-6                                     Juarez             Entre 25 y 29             Sí             Sí                                           Básico         Como hacer una interfaz para poder hacer un programa funcional para terceros. Python con SQL                                                                 Sí                                             God's Plan- Drake\n",
      "25   2023/06/27 7:45:04 p. m. GMT-6                     Cd. Juárez, Chihuahua              Entre 18 y 20             Sí             No                        Nunca he utilizado Python                                                                      Programación para uso academico                                                                 No                    A man without love - Engelbert Humperdinck\n",
      "26   2023/06/27 7:45:37 p. m. GMT-6                            Aguascalientes              Entre 21 y 24             Sí             No                                       Intermedio                                                                  un poco de inteligencia artificial                                                                  No                                              Love of my life \n",
      "27   2023/06/27 7:45:45 p. m. GMT-6                                 Cd. Juarez             Entre 15 y 17             Sí             No                                           Básico                                                                                               Bucles                                                                 Sí                               Jorge Drexler - El Plan Maestro\n",
      "28   2023/06/27 7:46:10 p. m. GMT-6  San Francisco de los Romo, Aguascalientes             Entre 18 y 20             Sí             No                                           Básico                                           Librerias con aplicaciones en el mundo de las matemáticas.                                                                 No                                     Inolvidable - Luis Miguel\n",
      "29   2023/06/27 7:46:14 p. m. GMT-6                                  Chihuahua             Entre 18 y 20             Sí             Sí                                           Básico                                                                                           desarrollo                                                                 No                                                     Last Call\n",
      "30   2023/06/27 7:46:28 p. m. GMT-6                              Ciudad Juárez             Entre 21 y 24             Sí             No                                           Básico                                                                               Procesamiento de datos                                                                 Sí                              Lacrimosa- Matt Kent, Amber Dawn\n",
      "31   2023/06/27 7:46:32 p. m. GMT-6                                 Zacatecas              Entre 25 y 29             Sí             Sí                                           Básico                                                                                                 Apis                                                                 Sí                                          All the small things\n",
      "32   2023/06/27 7:46:37 p. m. GMT-6                              Ciudad Juarez             Entre 21 y 24             Sí             Sí                                           Básico                                                                                      MachineLearning                                                                 No                           Like I Love You - Justin Timberlake\n",
      "33   2023/06/27 7:49:23 p. m. GMT-6                              Ciudad Juárez             Entre 18 y 20             Sí             No                                           Básico                                                                    Ciencia de Datos y automatización                                                                 Sí                  Cold Heart - PNAU REMIX Elton Jhon, Dua Lipa\n",
      "34   2023/06/27 7:51:23 p. m. GMT-6                              Ciudad Juarez             Entre 25 y 29             Sí             Sí                                       Intermedio                                                                        ciencia de datos, webscraping                                                                 Sí                                 Gorillaz - On Melancholy Hill\n",
      "35   2023/06/27 7:55:00 p. m. GMT-6                Veracruz, estudio en Puebla             Entre 25 y 29             Sí             No                                           Básico                                                                Lo relacionado con análisis de datos.                                                                 Sí        En este momento Los Años Maravillosos de Little Jesus \n",
      "36   2023/06/27 8:05:42 p. m. GMT-6                                       CDMX             Entre 25 y 29             No             Sí                                           Básico                                                                                         web scraping                                                                 No                                                   Young Turks\n",
      "37   2023/06/27 8:22:29 p. m. GMT-6                           Estado de Mexico             Entre 21 y 24             Sí             Sí                                           Básico                                                                  librerias, bloques paquetes etc....                                                                 No                                       the weeknd- Out of time\n",
      "38  2023/06/27 10:02:11 p. m. GMT-6                        Ciudad Juarez, Chih             Entre 21 y 24             No             Sí                                           Básico                                                                                    Analisis de datos                                                                 Sí                                  https://youtu.be/BGVUiMskx_U\n",
      "39  2023/06/27 10:31:28 p. m. GMT-6                                  cd juarez             Entre 21 y 24             Sí             Sí                                           Básico                                                                                             punteros                                                                 Sí                                        porter guiame quetzal \n",
      "40  2023/06/28 10:12:04 p. m. GMT-6                                  Chihuahua             Entre 21 y 24             No             Sí                                           Básico                                                                     Machine Learning y Deep Learning                                                                 Sí                                                       Runaway\n",
      "41   2023/06/29 2:00:51 a. m. GMT-6          Vivo en Ciudad Juárez. Soy cubana                 Más de 30             Sí             No                                       Intermedio       Cómo escribir un código de forma profesional, utilizando las herramientas necesarias y óptimas                                                                 No  Hay varias, pero últimamente escucho mucho \"Cuba Isla Bella\"\n",
      "42   2023/07/03 1:55:24 p. m. GMT-6                              Ciudad Juarez                 Más de 30             No             Sí                                       Intermedio                                                                                       Automatizacion                                                                 No                                         David Bowie - Heroes \n"
     ]
    }
   ],
   "source": [
    "df =  pd.read_csv(\"../Python 3 Intermedio/Perfil de estudiante.csv\")\n",
    "\n",
    "print(df.to_string())"
   ]
  },
  {
   "cell_type": "code",
   "execution_count": 21,
   "metadata": {},
   "outputs": [
    {
     "name": "stdout",
     "output_type": "stream",
     "text": [
      "                                                 personas\n",
      "0      {'nombre': 'Juan', 'edad': 25, 'ciudad': 'Madrid'}\n",
      "1  {'nombre': 'María', 'edad': 30, 'ciudad': 'Barcelona'}\n",
      "2   {'nombre': 'Pedro', 'edad': 35, 'ciudad': 'Valencia'}\n"
     ]
    }
   ],
   "source": [
    "df =  pd.read_json(\"../Python 3 Intermedio/dataset.json\")\n",
    "\n",
    "print(df.to_string())"
   ]
  },
  {
   "cell_type": "markdown",
   "metadata": {},
   "source": [
    "# Limpieza de datos"
   ]
  },
  {
   "cell_type": "code",
   "execution_count": 23,
   "metadata": {},
   "outputs": [],
   "source": [
    "data = {\n",
    "    'Nombre': ['Juan', 'María', 'Pedro', 'Ana', 'Luis'],\n",
    "    'Edad': [25, 32, None, 42, 28],\n",
    "    'Fecha': ['31/01/2020', '31/01/2020', None, '31/01/2020', '01/31/2020'],\n",
    "    'Género': ['M', 'F', None, 'F', 'M'],\n",
    "    'Ciudad': ['Madrid', None, 'Madrid', 'Valencia', 'Barcelona'],\n",
    "    'Altura': [175, 163, 180, 158, 170],\n",
    "    'Peso': [70, None, 80, 60, 75],\n",
    "    'Ingresos': [50000, 60000, 40000, None, 55000]\n",
    "}"
   ]
  },
  {
   "cell_type": "code",
   "execution_count": 26,
   "metadata": {},
   "outputs": [
    {
     "name": "stdout",
     "output_type": "stream",
     "text": [
      "  Nombre  Edad       Fecha Género     Ciudad  Altura  Peso  Ingresos\n",
      "0   Juan  25.0  31/01/2020      M     Madrid     175  70.0   50000.0\n",
      "1  María  32.0  31/01/2020      F       None     163   NaN   60000.0\n",
      "2  Pedro   NaN        None   None     Madrid     180  80.0   40000.0\n",
      "3    Ana  42.0  31/01/2020      F   Valencia     158  60.0       NaN\n",
      "4   Luis  28.0  01/31/2020      M  Barcelona     170  75.0   55000.0\n"
     ]
    }
   ],
   "source": [
    "df = pd.DataFrame(data)\n",
    "\n",
    "print(df)"
   ]
  },
  {
   "cell_type": "markdown",
   "metadata": {},
   "source": [
    "# Limpiamos datos vacios"
   ]
  },
  {
   "cell_type": "code",
   "execution_count": 28,
   "metadata": {},
   "outputs": [
    {
     "name": "stdout",
     "output_type": "stream",
     "text": [
      "  Nombre  Edad       Fecha Género     Ciudad  Altura  Peso  Ingresos\n",
      "0   Juan  25.0  31/01/2020      M     Madrid     175  70.0   50000.0\n",
      "4   Luis  28.0  01/31/2020      M  Barcelona     170  75.0   55000.0\n"
     ]
    }
   ],
   "source": [
    "df_sin_vacios = df.dropna()\n",
    "\n",
    "print(df_sin_vacios.to_string())"
   ]
  },
  {
   "cell_type": "markdown",
   "metadata": {},
   "source": [
    "# Datos Completos"
   ]
  },
  {
   "cell_type": "code",
   "execution_count": 29,
   "metadata": {},
   "outputs": [
    {
     "name": "stdout",
     "output_type": "stream",
     "text": [
      "  Nombre  Edad       Fecha Género     Ciudad  Altura  Peso  Ingresos\n",
      "0   Juan  25.0  31/01/2020      M     Madrid     175  70.0   50000.0\n",
      "1  María  32.0  31/01/2020      F       None     163   NaN   60000.0\n",
      "2  Pedro   NaN        None   None     Madrid     180  80.0   40000.0\n",
      "3    Ana  42.0  31/01/2020      F   Valencia     158  60.0       NaN\n",
      "4   Luis  28.0  01/31/2020      M  Barcelona     170  75.0   55000.0\n"
     ]
    },
    {
     "ename": "",
     "evalue": "",
     "output_type": "error",
     "traceback": [
      "\u001b[1;31mThe Kernel crashed while executing code in the the current cell or a previous cell. Please review the code in the cell(s) to identify a possible cause of the failure. Click <a href='https://aka.ms/vscodeJupyterKernelCrash'>here</a> for more info. View Jupyter <a href='command:jupyter.viewOutput'>log</a> for further details."
     ]
    }
   ],
   "source": [
    "print(df)"
   ]
  },
  {
   "cell_type": "code",
   "execution_count": null,
   "metadata": {},
   "outputs": [],
   "source": []
  }
 ],
 "metadata": {
  "kernelspec": {
   "display_name": "Python 3",
   "language": "python",
   "name": "python3"
  },
  "language_info": {
   "codemirror_mode": {
    "name": "ipython",
    "version": 3
   },
   "file_extension": ".py",
   "mimetype": "text/x-python",
   "name": "python",
   "nbconvert_exporter": "python",
   "pygments_lexer": "ipython3",
   "version": "3.10.11"
  },
  "orig_nbformat": 4
 },
 "nbformat": 4,
 "nbformat_minor": 2
}
