{
 "cells": [
  {
   "attachments": {},
   "cell_type": "markdown",
   "metadata": {},
   "source": [
    "# NumPy"
   ]
  },
  {
   "cell_type": "code",
   "execution_count": 1,
   "metadata": {},
   "outputs": [],
   "source": [
    "import numpy as np"
   ]
  },
  {
   "attachments": {},
   "cell_type": "markdown",
   "metadata": {},
   "source": [
    "### Arreglos"
   ]
  },
  {
   "cell_type": "code",
   "execution_count": 2,
   "metadata": {},
   "outputs": [
    {
     "name": "stdout",
     "output_type": "stream",
     "text": [
      "[1 2 3]\n"
     ]
    }
   ],
   "source": [
    "arr = np.array([1,2,3])\n",
    "\n",
    "print(arr)"
   ]
  },
  {
   "cell_type": "code",
   "execution_count": 3,
   "metadata": {},
   "outputs": [
    {
     "name": "stdout",
     "output_type": "stream",
     "text": [
      "[[1 2 3]\n",
      " [4 5 6]]\n"
     ]
    }
   ],
   "source": [
    "arr = np.array(([1,2,3], [4,5,6]))\n",
    "\n",
    "print(arr)"
   ]
  },
  {
   "cell_type": "code",
   "execution_count": 4,
   "metadata": {},
   "outputs": [
    {
     "name": "stdout",
     "output_type": "stream",
     "text": [
      "[[1 2 3]\n",
      " [4 5 6]\n",
      " [7 8 9]]\n"
     ]
    }
   ],
   "source": [
    "arr = np.array(([1,2,3], [4,5,6], [7,8,9]))\n",
    "\n",
    "print(arr)"
   ]
  },
  {
   "cell_type": "code",
   "execution_count": 5,
   "metadata": {},
   "outputs": [
    {
     "name": "stdout",
     "output_type": "stream",
     "text": [
      "3\n",
      "[[[1 2 3 4 5 6]]]\n",
      "[[1 2 3 4 5 6]]\n",
      "[1 2 3 4 5 6]\n",
      "1\n"
     ]
    }
   ],
   "source": [
    "arr = np.array([1,2,3,4,5,6], ndmin=3)\n",
    "\n",
    "print(arr.ndim)\n",
    "\n",
    "print(arr)\n",
    "print(arr[0])\n",
    "print(arr[0][0])\n",
    "print(arr[0][0][0])"
   ]
  },
  {
   "cell_type": "code",
   "execution_count": 6,
   "metadata": {},
   "outputs": [
    {
     "name": "stdout",
     "output_type": "stream",
     "text": [
      "[[0. 0.]\n",
      " [0. 0.]]\n"
     ]
    }
   ],
   "source": [
    "arr = np.zeros((2,2))\n",
    "\n",
    "print(arr)"
   ]
  },
  {
   "cell_type": "code",
   "execution_count": 7,
   "metadata": {},
   "outputs": [
    {
     "name": "stdout",
     "output_type": "stream",
     "text": [
      "[[1. 1. 1.]\n",
      " [1. 1. 1.]\n",
      " [1. 1. 1.]]\n"
     ]
    }
   ],
   "source": [
    "arr = np.ones((3,3))\n",
    "\n",
    "print(arr)"
   ]
  },
  {
   "cell_type": "code",
   "execution_count": 8,
   "metadata": {},
   "outputs": [
    {
     "name": "stdout",
     "output_type": "stream",
     "text": [
      "[[0.28297492 0.38476376 0.74266131]\n",
      " [0.11030768 0.23158634 0.85637173]\n",
      " [0.35593364 0.32081284 0.70176997]]\n"
     ]
    }
   ],
   "source": [
    "arr = np.random.rand(3,3)\n",
    "\n",
    "print(arr)"
   ]
  },
  {
   "cell_type": "markdown",
   "metadata": {},
   "source": [
    "### Operaciones"
   ]
  },
  {
   "cell_type": "code",
   "execution_count": 9,
   "metadata": {},
   "outputs": [
    {
     "name": "stdout",
     "output_type": "stream",
     "text": [
      "[5 7 9]\n"
     ]
    }
   ],
   "source": [
    "arr1 = [1,2,3]\n",
    "\n",
    "arr2 = [4,5,6]\n",
    "\n",
    "arr3 = np.add(arr1, arr2)\n",
    "\n",
    "print(arr3)"
   ]
  },
  {
   "cell_type": "code",
   "execution_count": 10,
   "metadata": {},
   "outputs": [
    {
     "name": "stdout",
     "output_type": "stream",
     "text": [
      "[3 3 3]\n"
     ]
    }
   ],
   "source": [
    "arr2 = [1,2,3]\n",
    "\n",
    "arr1 = [4,5,6]\n",
    "\n",
    "arr3 = np.subtract(arr1, arr2)\n",
    "\n",
    "print(arr3)"
   ]
  },
  {
   "cell_type": "code",
   "execution_count": 11,
   "metadata": {},
   "outputs": [
    {
     "name": "stdout",
     "output_type": "stream",
     "text": [
      "[ 4 10 18]\n"
     ]
    }
   ],
   "source": [
    "arr1 = [1,2,3]\n",
    "\n",
    "arr2 = [4,5,6]\n",
    "\n",
    "arr3 = np.multiply(arr1, arr2)\n",
    "\n",
    "print(arr3)"
   ]
  },
  {
   "cell_type": "code",
   "execution_count": 12,
   "metadata": {},
   "outputs": [
    {
     "name": "stdout",
     "output_type": "stream",
     "text": [
      "[0.25 0.4  0.5 ]\n"
     ]
    }
   ],
   "source": [
    "arr1 = [1,2,3]\n",
    "\n",
    "arr2 = [4,5,6]\n",
    "\n",
    "arr3 = np.divide(arr1, arr2)\n",
    "\n",
    "print(arr3)"
   ]
  },
  {
   "cell_type": "markdown",
   "metadata": {},
   "source": [
    "### Agregación"
   ]
  },
  {
   "cell_type": "code",
   "execution_count": 13,
   "metadata": {},
   "outputs": [
    {
     "name": "stdout",
     "output_type": "stream",
     "text": [
      "4.333333333333333\n"
     ]
    }
   ],
   "source": [
    "arr = [1, 5, 7]\n",
    "\n",
    "media = np.mean(arr)\n",
    "\n",
    "print(media)    "
   ]
  },
  {
   "cell_type": "code",
   "execution_count": 14,
   "metadata": {},
   "outputs": [
    {
     "name": "stdout",
     "output_type": "stream",
     "text": [
      "5.0\n"
     ]
    }
   ],
   "source": [
    "\n",
    "arr = [1, 5, 7]\n",
    "\n",
    "mediana = np.median(arr)\n",
    "\n",
    "print(mediana)"
   ]
  },
  {
   "cell_type": "code",
   "execution_count": 15,
   "metadata": {},
   "outputs": [
    {
     "name": "stdout",
     "output_type": "stream",
     "text": [
      "7\n"
     ]
    }
   ],
   "source": [
    "arr = [1, 5, 7]\n",
    "\n",
    "maximo = np.max(arr)\n",
    "\n",
    "print(maximo)"
   ]
  },
  {
   "cell_type": "code",
   "execution_count": 16,
   "metadata": {},
   "outputs": [
    {
     "name": "stdout",
     "output_type": "stream",
     "text": [
      "1\n"
     ]
    }
   ],
   "source": [
    "arr = [1, 5, 7]\n",
    "\n",
    "minimo = np.min(arr)\n",
    "\n",
    "print(minimo)"
   ]
  },
  {
   "attachments": {},
   "cell_type": "markdown",
   "metadata": {},
   "source": [
    "### Indexación"
   ]
  },
  {
   "cell_type": "code",
   "execution_count": 17,
   "metadata": {},
   "outputs": [
    {
     "name": "stdout",
     "output_type": "stream",
     "text": [
      "1\n"
     ]
    }
   ],
   "source": [
    "arr = np.array([1,2,3,4,5,6])\n",
    "\n",
    "print(arr[0])"
   ]
  },
  {
   "cell_type": "code",
   "execution_count": 18,
   "metadata": {},
   "outputs": [
    {
     "name": "stdout",
     "output_type": "stream",
     "text": [
      "6\n"
     ]
    }
   ],
   "source": [
    "arr = np.array([1,2,3,4,5,6])\n",
    "\n",
    "print(arr[-1])"
   ]
  },
  {
   "cell_type": "code",
   "execution_count": 19,
   "metadata": {},
   "outputs": [
    {
     "name": "stdout",
     "output_type": "stream",
     "text": [
      "6\n"
     ]
    }
   ],
   "source": [
    "arr = np.array(([1,2,3], [4,5,6]))\n",
    "\n",
    "print(arr[1, 2])"
   ]
  },
  {
   "attachments": {},
   "cell_type": "markdown",
   "metadata": {},
   "source": [
    "### Slicing"
   ]
  },
  {
   "cell_type": "code",
   "execution_count": 20,
   "metadata": {},
   "outputs": [
    {
     "name": "stdout",
     "output_type": "stream",
     "text": [
      "[2 3 4]\n"
     ]
    }
   ],
   "source": [
    "arr = np.array([1,2,3,4,5,6])\n",
    "\n",
    "print(arr[1:4])"
   ]
  },
  {
   "cell_type": "code",
   "execution_count": 21,
   "metadata": {},
   "outputs": [
    {
     "name": "stdout",
     "output_type": "stream",
     "text": [
      "[2 4]\n"
     ]
    }
   ],
   "source": [
    "arr = np.array([1,2,3,4,5,6])\n",
    "\n",
    "print(arr[1:4:2])"
   ]
  },
  {
   "cell_type": "code",
   "execution_count": 22,
   "metadata": {},
   "outputs": [
    {
     "name": "stdout",
     "output_type": "stream",
     "text": [
      "[1 3 5]\n"
     ]
    }
   ],
   "source": [
    "arr = np.array([1,2,3,4,5,6])\n",
    "\n",
    "print(arr[::2])"
   ]
  },
  {
   "attachments": {},
   "cell_type": "markdown",
   "metadata": {},
   "source": [
    "### Tipos de datos"
   ]
  },
  {
   "cell_type": "code",
   "execution_count": 23,
   "metadata": {},
   "outputs": [
    {
     "name": "stdout",
     "output_type": "stream",
     "text": [
      "<U1\n"
     ]
    }
   ],
   "source": [
    "import numpy as np\n",
    "\n",
    "arr = np.array([\"b\", \"a\"])\n",
    "\n",
    "print(arr.dtype)"
   ]
  },
  {
   "cell_type": "code",
   "execution_count": 24,
   "metadata": {},
   "outputs": [
    {
     "name": "stdout",
     "output_type": "stream",
     "text": [
      "float64\n"
     ]
    }
   ],
   "source": [
    "import numpy as np\n",
    "\n",
    "arr = np.array([1.1, 2.5])\n",
    "\n",
    "print(arr.dtype)"
   ]
  },
  {
   "cell_type": "code",
   "execution_count": 25,
   "metadata": {},
   "outputs": [
    {
     "name": "stdout",
     "output_type": "stream",
     "text": [
      "[b'1' b'2' b'3']\n"
     ]
    }
   ],
   "source": [
    "arr = np.array([1, 2, 3], dtype='S')\n",
    "    # 'i' = integer (entero)\n",
    "    # 'b' = booleano\n",
    "    # 'f' = flotante\n",
    "    # 'M' = datetime\n",
    "    # 'O' = objeto\n",
    "    # 'S' = string (cadena)\n",
    "\n",
    "print(arr)"
   ]
  },
  {
   "cell_type": "code",
   "execution_count": 26,
   "metadata": {},
   "outputs": [
    {
     "name": "stdout",
     "output_type": "stream",
     "text": [
      "pre [1.1 2.1 3.1]\n",
      "post [1 2 3]\n"
     ]
    }
   ],
   "source": [
    "arr = np.array([1.1, 2.1, 3.1])\n",
    "\n",
    "print(\"pre\", arr)\n",
    "\n",
    "nuevo_arr = arr.astype('i')\n",
    "\n",
    "print(\"post\", nuevo_arr)"
   ]
  },
  {
   "attachments": {},
   "cell_type": "markdown",
   "metadata": {},
   "source": [
    "### Copy vs View"
   ]
  },
  {
   "cell_type": "code",
   "execution_count": 27,
   "metadata": {},
   "outputs": [
    {
     "name": "stdout",
     "output_type": "stream",
     "text": [
      "arr [1 2 3]\n",
      "x [1 2 3]\n",
      "y [1 2 3]\n",
      "arr [0 2 3]\n",
      "x [1 2 3]\n",
      "y [0 2 3]\n"
     ]
    }
   ],
   "source": [
    "arr = np.array([1,2,3])\n",
    "\n",
    "\n",
    "x = arr.copy()\n",
    "y = arr.view()\n",
    "\n",
    "print(\"arr\", arr)\n",
    "print(\"x\", x)\n",
    "print(\"y\", y)\n",
    "\n",
    "arr[0] = 0\n",
    "\n",
    "print(\"arr\", arr)\n",
    "print(\"x\", x)\n",
    "print(\"y\", y)"
   ]
  },
  {
   "cell_type": "code",
   "execution_count": 28,
   "metadata": {},
   "outputs": [
    {
     "name": "stdout",
     "output_type": "stream",
     "text": [
      "arr [1 2 4]\n",
      "x [1 2 4]\n"
     ]
    }
   ],
   "source": [
    "arr = np.array([1,2,4])\n",
    "\n",
    "print(\"arr\", arr)\n",
    "\n",
    "x = arr.view()\n",
    "\n",
    "print(\"x\", x)"
   ]
  },
  {
   "attachments": {},
   "cell_type": "markdown",
   "metadata": {},
   "source": [
    "### Concatenar"
   ]
  },
  {
   "cell_type": "code",
   "execution_count": 29,
   "metadata": {},
   "outputs": [
    {
     "name": "stdout",
     "output_type": "stream",
     "text": [
      "arr1 [1 2 3]\n",
      "arr2 [4 5 6]\n",
      "arr3 [1 2 3 4 5 6]\n"
     ]
    }
   ],
   "source": [
    "arr1 = np.array([1,2,3])\n",
    "\n",
    "print(\"arr1\", arr1)\n",
    "\n",
    "arr2 = np.array([4,5,6])\n",
    "\n",
    "print(\"arr2\", arr2)\n",
    "\n",
    "arr3 = np.concatenate((arr1, arr2))\n",
    "\n",
    "print(\"arr3\", arr3)"
   ]
  },
  {
   "attachments": {},
   "cell_type": "markdown",
   "metadata": {},
   "source": [
    "### Búsqueda"
   ]
  },
  {
   "cell_type": "code",
   "execution_count": 30,
   "metadata": {},
   "outputs": [
    {
     "name": "stdout",
     "output_type": "stream",
     "text": [
      "(array([3, 6], dtype=int64),)\n"
     ]
    }
   ],
   "source": [
    "arr = np.array([1, 2, 2, 4, 5, 5, 4])\n",
    "\n",
    "x = np.where(arr == 4)\n",
    "\n",
    "print(x)"
   ]
  },
  {
   "attachments": {},
   "cell_type": "markdown",
   "metadata": {},
   "source": [
    "### Ordenar"
   ]
  },
  {
   "cell_type": "code",
   "execution_count": 31,
   "metadata": {},
   "outputs": [
    {
     "name": "stdout",
     "output_type": "stream",
     "text": [
      "[1 2 3 4 5 6]\n"
     ]
    }
   ],
   "source": [
    "arr = np.array([2, 5, 6, 4, 1, 3])\n",
    "\n",
    "x = np.sort(arr)\n",
    "\n",
    "print(x)"
   ]
  },
  {
   "attachments": {},
   "cell_type": "markdown",
   "metadata": {},
   "source": [
    "# Pandas"
   ]
  },
  {
   "cell_type": "code",
   "execution_count": 32,
   "metadata": {},
   "outputs": [],
   "source": [
    "import pandas as pd"
   ]
  },
  {
   "attachments": {},
   "cell_type": "markdown",
   "metadata": {},
   "source": [
    "### Series"
   ]
  },
  {
   "cell_type": "code",
   "execution_count": 33,
   "metadata": {},
   "outputs": [
    {
     "name": "stdout",
     "output_type": "stream",
     "text": [
      "0    1\n",
      "1    2\n",
      "2    3\n",
      "dtype: int32\n",
      "1\n"
     ]
    }
   ],
   "source": [
    "a = np.array([1,2,3])\n",
    "\n",
    "srs = pd.Series(a)\n",
    "\n",
    "print(srs)\n",
    "print(srs[0])"
   ]
  },
  {
   "cell_type": "code",
   "execution_count": 34,
   "metadata": {},
   "outputs": [
    {
     "name": "stdout",
     "output_type": "stream",
     "text": [
      "x    1\n",
      "y    2\n",
      "z    3\n",
      "dtype: int32\n",
      "2\n"
     ]
    }
   ],
   "source": [
    "srs = pd.Series(a, index = [\"x\", \"y\", \"z\"])\n",
    "\n",
    "print(srs)\n",
    "print(srs[\"y\"])"
   ]
  },
  {
   "cell_type": "code",
   "execution_count": 35,
   "metadata": {},
   "outputs": [
    {
     "name": "stdout",
     "output_type": "stream",
     "text": [
      "lunes        440\n",
      "martes       620\n",
      "miercoles    700\n",
      "jueves       500\n",
      "viernes      150\n",
      "dtype: int64\n"
     ]
    }
   ],
   "source": [
    "pasos = {\n",
    "    \"lunes\" : 440,\n",
    "    \"martes\" : 620,\n",
    "    \"miercoles\" : 700,\n",
    "    \"jueves\" : 500,\n",
    "    \"viernes\" : 150\n",
    "}\n",
    "\n",
    "srs = pd.Series(pasos)\n",
    "\n",
    "print(srs)"
   ]
  },
  {
   "cell_type": "code",
   "execution_count": 36,
   "metadata": {},
   "outputs": [
    {
     "name": "stdout",
     "output_type": "stream",
     "text": [
      "martes    620\n",
      "jueves    500\n",
      "dtype: int64\n"
     ]
    }
   ],
   "source": [
    "srs = pd.Series(pasos, index = [\"martes\", \"jueves\"])\n",
    "\n",
    "print(srs)"
   ]
  },
  {
   "attachments": {},
   "cell_type": "markdown",
   "metadata": {},
   "source": [
    "### DataFrame"
   ]
  },
  {
   "cell_type": "code",
   "execution_count": 37,
   "metadata": {},
   "outputs": [
    {
     "name": "stdout",
     "output_type": "stream",
     "text": [
      "      operador  no. reloj\n",
      "0     John Doe        101\n",
      "1        Sr. X        202\n",
      "2  Lorem ipsum        303\n"
     ]
    }
   ],
   "source": [
    "mydataset = {\n",
    "  'operador': [\"John Doe\", \"Sr. X\", \"Lorem ipsum\"],\n",
    "  'no. reloj': [101, 202, 303]\n",
    "}\n",
    "\n",
    "df = pd.DataFrame(mydataset)\n",
    "\n",
    "print(df)"
   ]
  },
  {
   "cell_type": "code",
   "execution_count": 38,
   "metadata": {},
   "outputs": [
    {
     "data": {
      "text/plain": [
       "operador     John Doe\n",
       "no. reloj         101\n",
       "Name: 0, dtype: object"
      ]
     },
     "execution_count": 38,
     "metadata": {},
     "output_type": "execute_result"
    }
   ],
   "source": [
    "df.loc[0]"
   ]
  },
  {
   "cell_type": "code",
   "execution_count": 39,
   "metadata": {},
   "outputs": [
    {
     "data": {
      "text/plain": [
       "0    101\n",
       "1    202\n",
       "2    303\n",
       "Name: no. reloj, dtype: int64"
      ]
     },
     "execution_count": 39,
     "metadata": {},
     "output_type": "execute_result"
    }
   ],
   "source": [
    "df['no. reloj']"
   ]
  },
  {
   "cell_type": "code",
   "execution_count": 40,
   "metadata": {},
   "outputs": [
    {
     "data": {
      "text/html": [
       "<div>\n",
       "<style scoped>\n",
       "    .dataframe tbody tr th:only-of-type {\n",
       "        vertical-align: middle;\n",
       "    }\n",
       "\n",
       "    .dataframe tbody tr th {\n",
       "        vertical-align: top;\n",
       "    }\n",
       "\n",
       "    .dataframe thead th {\n",
       "        text-align: right;\n",
       "    }\n",
       "</style>\n",
       "<table border=\"1\" class=\"dataframe\">\n",
       "  <thead>\n",
       "    <tr style=\"text-align: right;\">\n",
       "      <th></th>\n",
       "      <th>operador</th>\n",
       "      <th>no. reloj</th>\n",
       "    </tr>\n",
       "  </thead>\n",
       "  <tbody>\n",
       "    <tr>\n",
       "      <th>1</th>\n",
       "      <td>Sr. X</td>\n",
       "      <td>202</td>\n",
       "    </tr>\n",
       "    <tr>\n",
       "      <th>2</th>\n",
       "      <td>Lorem ipsum</td>\n",
       "      <td>303</td>\n",
       "    </tr>\n",
       "  </tbody>\n",
       "</table>\n",
       "</div>"
      ],
      "text/plain": [
       "      operador  no. reloj\n",
       "1        Sr. X        202\n",
       "2  Lorem ipsum        303"
      ]
     },
     "execution_count": 40,
     "metadata": {},
     "output_type": "execute_result"
    }
   ],
   "source": [
    "df[df['no. reloj'] > 101]"
   ]
  },
  {
   "cell_type": "code",
   "execution_count": 41,
   "metadata": {},
   "outputs": [],
   "source": [
    "df['asistencia'] = [True, False, True]"
   ]
  },
  {
   "cell_type": "code",
   "execution_count": 42,
   "metadata": {},
   "outputs": [
    {
     "name": "stdout",
     "output_type": "stream",
     "text": [
      "      operador  no. reloj  asistencia\n",
      "0     John Doe        101        True\n",
      "1        Sr. X        202       False\n",
      "2  Lorem ipsum        303        True\n"
     ]
    }
   ],
   "source": [
    "print(df)"
   ]
  },
  {
   "cell_type": "code",
   "execution_count": 43,
   "metadata": {},
   "outputs": [
    {
     "name": "stdout",
     "output_type": "stream",
     "text": [
      "operador      John Doe\n",
      "no. reloj          101\n",
      "asistencia        True\n",
      "Name: 0, dtype: object\n"
     ]
    }
   ],
   "source": [
    "print(df.loc[0])"
   ]
  },
  {
   "cell_type": "code",
   "execution_count": 44,
   "metadata": {},
   "outputs": [
    {
     "name": "stdout",
     "output_type": "stream",
     "text": [
      "   operador  no. reloj  asistencia\n",
      "0  John Doe        101        True\n",
      "1     Sr. X        202       False\n"
     ]
    }
   ],
   "source": [
    "print(df.loc[[0, 1]])"
   ]
  },
  {
   "cell_type": "code",
   "execution_count": 45,
   "metadata": {},
   "outputs": [
    {
     "name": "stdout",
     "output_type": "stream",
     "text": [
      "        operador  no. reloj\n",
      "CEO     John Doe        101\n",
      "COO        Sr. X        202\n",
      "CFO  Lorem ipsum        303\n"
     ]
    }
   ],
   "source": [
    "df = pd.DataFrame(mydataset, index = [\"CEO\", \"COO\", \"CFO\"])\n",
    "\n",
    "print(df)"
   ]
  },
  {
   "cell_type": "code",
   "execution_count": 46,
   "metadata": {},
   "outputs": [
    {
     "name": "stdout",
     "output_type": "stream",
     "text": [
      "operador     John Doe\n",
      "no. reloj         101\n",
      "Name: CEO, dtype: object\n"
     ]
    }
   ],
   "source": [
    "print(df.loc[\"CEO\"])"
   ]
  },
  {
   "cell_type": "code",
   "execution_count": 47,
   "metadata": {},
   "outputs": [
    {
     "name": "stdout",
     "output_type": "stream",
     "text": [
      "     operador  no. reloj\n",
      "CEO  John Doe        101\n",
      "COO     Sr. X        202\n"
     ]
    }
   ],
   "source": [
    "print(df.loc[[\"CEO\", \"COO\"]])"
   ]
  },
  {
   "attachments": {},
   "cell_type": "markdown",
   "metadata": {},
   "source": [
    "### Vistas"
   ]
  },
  {
   "cell_type": "code",
   "execution_count": 55,
   "metadata": {},
   "outputs": [
    {
     "data": {
      "text/html": [
       "<div>\n",
       "<style scoped>\n",
       "    .dataframe tbody tr th:only-of-type {\n",
       "        vertical-align: middle;\n",
       "    }\n",
       "\n",
       "    .dataframe tbody tr th {\n",
       "        vertical-align: top;\n",
       "    }\n",
       "\n",
       "    .dataframe thead th {\n",
       "        text-align: right;\n",
       "    }\n",
       "</style>\n",
       "<table border=\"1\" class=\"dataframe\">\n",
       "  <thead>\n",
       "    <tr style=\"text-align: right;\">\n",
       "      <th></th>\n",
       "      <th>Marca temporal</th>\n",
       "      <th>1.- ¿De dónde eres?</th>\n",
       "      <th>2.- ¿Cuántos años tienes?</th>\n",
       "      <th>3.- ¿Estudias?</th>\n",
       "      <th>4.- ¿Trabajas?</th>\n",
       "      <th>5.- ¿Cuál es tu nivel de conocimiento en Python?</th>\n",
       "      <th>6.- ¿Qué tema relacionado con Python te gustaría aprender?</th>\n",
       "      <th>7.- ¿Has participado en algún curso anteriormente en el IA Center?</th>\n",
       "      <th>8.- ¿Cuál es tu canción favorita?</th>\n",
       "    </tr>\n",
       "  </thead>\n",
       "  <tbody>\n",
       "    <tr>\n",
       "      <th>0</th>\n",
       "      <td>2023/06/27 7:42:12 p. m. GMT-6</td>\n",
       "      <td>Cd. Juárez</td>\n",
       "      <td>Entre 21 y 24</td>\n",
       "      <td>Sí</td>\n",
       "      <td>No</td>\n",
       "      <td>Básico</td>\n",
       "      <td>Manejar bases de datos</td>\n",
       "      <td>No</td>\n",
       "      <td>The Wolf</td>\n",
       "    </tr>\n",
       "    <tr>\n",
       "      <th>1</th>\n",
       "      <td>2023/06/27 7:42:28 p. m. GMT-6</td>\n",
       "      <td>chihuahua, chihuahua</td>\n",
       "      <td>Entre 21 y 24</td>\n",
       "      <td>Sí</td>\n",
       "      <td>Sí</td>\n",
       "      <td>Básico</td>\n",
       "      <td>machine lerning</td>\n",
       "      <td>Sí</td>\n",
       "      <td>eternity, anyma</td>\n",
       "    </tr>\n",
       "    <tr>\n",
       "      <th>2</th>\n",
       "      <td>2023/06/27 7:42:44 p. m. GMT-6</td>\n",
       "      <td>Chihuahua Chihuahua</td>\n",
       "      <td>Entre 18 y 20</td>\n",
       "      <td>Sí</td>\n",
       "      <td>Sí</td>\n",
       "      <td>Básico</td>\n",
       "      <td>Automatización y creación de apps/páginas web</td>\n",
       "      <td>No</td>\n",
       "      <td>Cornerstone- Arctic Monkeys :)</td>\n",
       "    </tr>\n",
       "    <tr>\n",
       "      <th>3</th>\n",
       "      <td>2023/06/27 7:42:52 p. m. GMT-6</td>\n",
       "      <td>Chihuahua Chihuahua</td>\n",
       "      <td>Entre 21 y 24</td>\n",
       "      <td>Sí</td>\n",
       "      <td>Sí</td>\n",
       "      <td>Básico</td>\n",
       "      <td>Análisis de datos</td>\n",
       "      <td>Sí</td>\n",
       "      <td>Sea Gets Hotter</td>\n",
       "    </tr>\n",
       "    <tr>\n",
       "      <th>4</th>\n",
       "      <td>2023/06/27 7:42:56 p. m. GMT-6</td>\n",
       "      <td>Chihuahua, Chih.</td>\n",
       "      <td>Más de 30</td>\n",
       "      <td>No</td>\n",
       "      <td>Sí</td>\n",
       "      <td>Básico</td>\n",
       "      <td>Conocer más librerias</td>\n",
       "      <td>Sí</td>\n",
       "      <td>Love Me More, de Sam Smith</td>\n",
       "    </tr>\n",
       "    <tr>\n",
       "      <th>5</th>\n",
       "      <td>2023/06/27 7:42:57 p. m. GMT-6</td>\n",
       "      <td>Puebla</td>\n",
       "      <td>Entre 21 y 24</td>\n",
       "      <td>Sí</td>\n",
       "      <td>Sí</td>\n",
       "      <td>Básico</td>\n",
       "      <td>APIS y data science</td>\n",
       "      <td>No</td>\n",
       "      <td>Fireflight - Unbreakable</td>\n",
       "    </tr>\n",
       "    <tr>\n",
       "      <th>6</th>\n",
       "      <td>2023/06/27 7:42:57 p. m. GMT-6</td>\n",
       "      <td>Cd. Juarez Chih</td>\n",
       "      <td>Más de 30</td>\n",
       "      <td>No</td>\n",
       "      <td>Sí</td>\n",
       "      <td>Intermedio</td>\n",
       "      <td>Analisis de Datos</td>\n",
       "      <td>Sí</td>\n",
       "      <td>Instrumental General</td>\n",
       "    </tr>\n",
       "    <tr>\n",
       "      <th>7</th>\n",
       "      <td>2023/06/27 7:43:04 p. m. GMT-6</td>\n",
       "      <td>Ciudad Juarez</td>\n",
       "      <td>Entre 21 y 24</td>\n",
       "      <td>Sí</td>\n",
       "      <td>Sí</td>\n",
       "      <td>Básico</td>\n",
       "      <td>Ciencia de datos</td>\n",
       "      <td>Sí</td>\n",
       "      <td>La bruja de Marco Flores</td>\n",
       "    </tr>\n",
       "    <tr>\n",
       "      <th>8</th>\n",
       "      <td>2023/06/27 7:43:10 p. m. GMT-6</td>\n",
       "      <td>Aguascalientes</td>\n",
       "      <td>Entre 18 y 20</td>\n",
       "      <td>Sí</td>\n",
       "      <td>No</td>\n",
       "      <td>Básico</td>\n",
       "      <td>Me gustaria aprender un poco de todo, pero mas...</td>\n",
       "      <td>No</td>\n",
       "      <td>Canela-Nanpa Basico</td>\n",
       "    </tr>\n",
       "    <tr>\n",
       "      <th>9</th>\n",
       "      <td>2023/06/27 7:43:12 p. m. GMT-6</td>\n",
       "      <td>Cd Juarez, Chih.</td>\n",
       "      <td>Entre 21 y 24</td>\n",
       "      <td>Sí</td>\n",
       "      <td>No</td>\n",
       "      <td>Básico</td>\n",
       "      <td>No tengo un tema en especifico, solo deseo rep...</td>\n",
       "      <td>Sí</td>\n",
       "      <td>Depende del momento hy del día, ahora es Hielo...</td>\n",
       "    </tr>\n",
       "    <tr>\n",
       "      <th>10</th>\n",
       "      <td>2023/06/27 7:43:12 p. m. GMT-6</td>\n",
       "      <td>Juárez</td>\n",
       "      <td>Entre 21 y 24</td>\n",
       "      <td>Sí</td>\n",
       "      <td>Sí</td>\n",
       "      <td>Básico</td>\n",
       "      <td>Análisis de datos</td>\n",
       "      <td>No</td>\n",
       "      <td>No tengo:(</td>\n",
       "    </tr>\n",
       "    <tr>\n",
       "      <th>11</th>\n",
       "      <td>2023/06/27 7:43:16 p. m. GMT-6</td>\n",
       "      <td>El Paso TX</td>\n",
       "      <td>Entre 18 y 20</td>\n",
       "      <td>Sí</td>\n",
       "      <td>No</td>\n",
       "      <td>Básico</td>\n",
       "      <td>POO</td>\n",
       "      <td>No</td>\n",
       "      <td>The Words I Never Said / Mage</td>\n",
       "    </tr>\n",
       "    <tr>\n",
       "      <th>12</th>\n",
       "      <td>2023/06/27 7:43:16 p. m. GMT-6</td>\n",
       "      <td>Cuauhtemoc Chihuahua</td>\n",
       "      <td>Más de 30</td>\n",
       "      <td>No</td>\n",
       "      <td>Sí</td>\n",
       "      <td>Intermedio</td>\n",
       "      <td>Web y análisis de datos</td>\n",
       "      <td>No</td>\n",
       "      <td>Dust in the wind</td>\n",
       "    </tr>\n",
       "    <tr>\n",
       "      <th>13</th>\n",
       "      <td>2023/06/27 7:43:29 p. m. GMT-6</td>\n",
       "      <td>Cd. Juárez</td>\n",
       "      <td>Entre 21 y 24</td>\n",
       "      <td>Sí</td>\n",
       "      <td>Sí</td>\n",
       "      <td>Básico</td>\n",
       "      <td>Flujos de trabajo, análisis de datos, análisis...</td>\n",
       "      <td>Sí</td>\n",
       "      <td>Manto estelar - Moenia</td>\n",
       "    </tr>\n",
       "    <tr>\n",
       "      <th>14</th>\n",
       "      <td>2023/06/27 7:43:34 p. m. GMT-6</td>\n",
       "      <td>Hidalgo</td>\n",
       "      <td>Entre 25 y 29</td>\n",
       "      <td>Sí</td>\n",
       "      <td>Sí</td>\n",
       "      <td>Básico</td>\n",
       "      <td>Deep learning</td>\n",
       "      <td>No</td>\n",
       "      <td>Todas</td>\n",
       "    </tr>\n",
       "    <tr>\n",
       "      <th>15</th>\n",
       "      <td>2023/06/27 7:43:50 p. m. GMT-6</td>\n",
       "      <td>Cd. Juarez, Chih.</td>\n",
       "      <td>Entre 21 y 24</td>\n",
       "      <td>Sí</td>\n",
       "      <td>Sí</td>\n",
       "      <td>Básico</td>\n",
       "      <td>Programación orientada a objetos (POO)</td>\n",
       "      <td>Sí</td>\n",
       "      <td>Skillet-Comatose y Whisper in the Dark</td>\n",
       "    </tr>\n",
       "    <tr>\n",
       "      <th>16</th>\n",
       "      <td>2023/06/27 7:44:01 p. m. GMT-6</td>\n",
       "      <td>Cd. Juarez Chihuahua</td>\n",
       "      <td>Más de 30</td>\n",
       "      <td>No</td>\n",
       "      <td>Sí</td>\n",
       "      <td>Básico</td>\n",
       "      <td>un poco de todo para irme familiarizandome a l...</td>\n",
       "      <td>Sí</td>\n",
       "      <td>el hada y el mago de reta blancha</td>\n",
       "    </tr>\n",
       "    <tr>\n",
       "      <th>17</th>\n",
       "      <td>2023/06/27 7:44:01 p. m. GMT-6</td>\n",
       "      <td>Ciudad Juarez Chihuahua Mexico</td>\n",
       "      <td>Entre 21 y 24</td>\n",
       "      <td>No</td>\n",
       "      <td>No</td>\n",
       "      <td>Básico</td>\n",
       "      <td>API y IA</td>\n",
       "      <td>Sí</td>\n",
       "      <td>https://youtu.be/dQw4w9WgXcQ y https://youtu.b...</td>\n",
       "    </tr>\n",
       "    <tr>\n",
       "      <th>18</th>\n",
       "      <td>2023/06/27 7:44:12 p. m. GMT-6</td>\n",
       "      <td>Ciudad Juarez</td>\n",
       "      <td>Más de 30</td>\n",
       "      <td>Sí</td>\n",
       "      <td>No</td>\n",
       "      <td>Básico</td>\n",
       "      <td>Web Scrapping y limpieza de conjuntos de datos</td>\n",
       "      <td>Sí</td>\n",
       "      <td>Hotel California</td>\n",
       "    </tr>\n",
       "    <tr>\n",
       "      <th>19</th>\n",
       "      <td>2023/06/27 7:44:14 p. m. GMT-6</td>\n",
       "      <td>Chihuahua, Chih.</td>\n",
       "      <td>Más de 30</td>\n",
       "      <td>No</td>\n",
       "      <td>Sí</td>\n",
       "      <td>Básico</td>\n",
       "      <td>análisis de datos</td>\n",
       "      <td>Sí</td>\n",
       "      <td>no tengo canción favorita, prácticamente no es...</td>\n",
       "    </tr>\n",
       "    <tr>\n",
       "      <th>20</th>\n",
       "      <td>2023/06/27 7:44:17 p. m. GMT-6</td>\n",
       "      <td>Ciudad Juarez</td>\n",
       "      <td>Entre 18 y 20</td>\n",
       "      <td>Sí</td>\n",
       "      <td>No</td>\n",
       "      <td>Básico</td>\n",
       "      <td>Analisis de datos y su uso para desarrollo web</td>\n",
       "      <td>No</td>\n",
       "      <td>Burn My Dread - Persona 3</td>\n",
       "    </tr>\n",
       "    <tr>\n",
       "      <th>21</th>\n",
       "      <td>2023/06/27 7:44:20 p. m. GMT-6</td>\n",
       "      <td>Cd Juárez Chihuahua, México.</td>\n",
       "      <td>Más de 30</td>\n",
       "      <td>No</td>\n",
       "      <td>Sí</td>\n",
       "      <td>Básico</td>\n",
       "      <td>Ciencia de Datos, y API`s y Todo lo de Python</td>\n",
       "      <td>Sí</td>\n",
       "      <td>....</td>\n",
       "    </tr>\n",
       "    <tr>\n",
       "      <th>22</th>\n",
       "      <td>2023/06/27 7:44:25 p. m. GMT-6</td>\n",
       "      <td>Ciudad Juárez</td>\n",
       "      <td>Más de 30</td>\n",
       "      <td>No</td>\n",
       "      <td>Sí</td>\n",
       "      <td>Básico</td>\n",
       "      <td>recolección, limpieza y visualización de datos</td>\n",
       "      <td>Sí</td>\n",
       "      <td>Todo cuenta</td>\n",
       "    </tr>\n",
       "    <tr>\n",
       "      <th>23</th>\n",
       "      <td>2023/06/27 7:44:30 p. m. GMT-6</td>\n",
       "      <td>Cd. Juárez</td>\n",
       "      <td>Entre 25 y 29</td>\n",
       "      <td>Sí</td>\n",
       "      <td>No</td>\n",
       "      <td>Básico</td>\n",
       "      <td>Ciencia de datos</td>\n",
       "      <td>Sí</td>\n",
       "      <td>Chosen - Maneskin</td>\n",
       "    </tr>\n",
       "    <tr>\n",
       "      <th>24</th>\n",
       "      <td>2023/06/27 7:44:31 p. m. GMT-6</td>\n",
       "      <td>Juarez</td>\n",
       "      <td>Entre 25 y 29</td>\n",
       "      <td>Sí</td>\n",
       "      <td>Sí</td>\n",
       "      <td>Básico</td>\n",
       "      <td>Como hacer una interfaz para poder hacer un pr...</td>\n",
       "      <td>Sí</td>\n",
       "      <td>God's Plan- Drake</td>\n",
       "    </tr>\n",
       "    <tr>\n",
       "      <th>25</th>\n",
       "      <td>2023/06/27 7:45:04 p. m. GMT-6</td>\n",
       "      <td>Cd. Juárez, Chihuahua</td>\n",
       "      <td>Entre 18 y 20</td>\n",
       "      <td>Sí</td>\n",
       "      <td>No</td>\n",
       "      <td>Nunca he utilizado Python</td>\n",
       "      <td>Programación para uso academico</td>\n",
       "      <td>No</td>\n",
       "      <td>A man without love - Engelbert Humperdinck</td>\n",
       "    </tr>\n",
       "    <tr>\n",
       "      <th>26</th>\n",
       "      <td>2023/06/27 7:45:37 p. m. GMT-6</td>\n",
       "      <td>Aguascalientes</td>\n",
       "      <td>Entre 21 y 24</td>\n",
       "      <td>Sí</td>\n",
       "      <td>No</td>\n",
       "      <td>Intermedio</td>\n",
       "      <td>un poco de inteligencia artificial</td>\n",
       "      <td>No</td>\n",
       "      <td>Love of my life</td>\n",
       "    </tr>\n",
       "    <tr>\n",
       "      <th>27</th>\n",
       "      <td>2023/06/27 7:45:45 p. m. GMT-6</td>\n",
       "      <td>Cd. Juarez</td>\n",
       "      <td>Entre 15 y 17</td>\n",
       "      <td>Sí</td>\n",
       "      <td>No</td>\n",
       "      <td>Básico</td>\n",
       "      <td>Bucles</td>\n",
       "      <td>Sí</td>\n",
       "      <td>Jorge Drexler - El Plan Maestro</td>\n",
       "    </tr>\n",
       "    <tr>\n",
       "      <th>28</th>\n",
       "      <td>2023/06/27 7:46:10 p. m. GMT-6</td>\n",
       "      <td>San Francisco de los Romo, Aguascalientes</td>\n",
       "      <td>Entre 18 y 20</td>\n",
       "      <td>Sí</td>\n",
       "      <td>No</td>\n",
       "      <td>Básico</td>\n",
       "      <td>Librerias con aplicaciones en el mundo de las ...</td>\n",
       "      <td>No</td>\n",
       "      <td>Inolvidable - Luis Miguel</td>\n",
       "    </tr>\n",
       "    <tr>\n",
       "      <th>29</th>\n",
       "      <td>2023/06/27 7:46:14 p. m. GMT-6</td>\n",
       "      <td>Chihuahua</td>\n",
       "      <td>Entre 18 y 20</td>\n",
       "      <td>Sí</td>\n",
       "      <td>Sí</td>\n",
       "      <td>Básico</td>\n",
       "      <td>desarrollo</td>\n",
       "      <td>No</td>\n",
       "      <td>Last Call</td>\n",
       "    </tr>\n",
       "    <tr>\n",
       "      <th>30</th>\n",
       "      <td>2023/06/27 7:46:28 p. m. GMT-6</td>\n",
       "      <td>Ciudad Juárez</td>\n",
       "      <td>Entre 21 y 24</td>\n",
       "      <td>Sí</td>\n",
       "      <td>No</td>\n",
       "      <td>Básico</td>\n",
       "      <td>Procesamiento de datos</td>\n",
       "      <td>Sí</td>\n",
       "      <td>Lacrimosa- Matt Kent, Amber Dawn</td>\n",
       "    </tr>\n",
       "    <tr>\n",
       "      <th>31</th>\n",
       "      <td>2023/06/27 7:46:32 p. m. GMT-6</td>\n",
       "      <td>Zacatecas</td>\n",
       "      <td>Entre 25 y 29</td>\n",
       "      <td>Sí</td>\n",
       "      <td>Sí</td>\n",
       "      <td>Básico</td>\n",
       "      <td>Apis</td>\n",
       "      <td>Sí</td>\n",
       "      <td>All the small things</td>\n",
       "    </tr>\n",
       "    <tr>\n",
       "      <th>32</th>\n",
       "      <td>2023/06/27 7:46:37 p. m. GMT-6</td>\n",
       "      <td>Ciudad Juarez</td>\n",
       "      <td>Entre 21 y 24</td>\n",
       "      <td>Sí</td>\n",
       "      <td>Sí</td>\n",
       "      <td>Básico</td>\n",
       "      <td>MachineLearning</td>\n",
       "      <td>No</td>\n",
       "      <td>Like I Love You - Justin Timberlake</td>\n",
       "    </tr>\n",
       "    <tr>\n",
       "      <th>33</th>\n",
       "      <td>2023/06/27 7:49:23 p. m. GMT-6</td>\n",
       "      <td>Ciudad Juárez</td>\n",
       "      <td>Entre 18 y 20</td>\n",
       "      <td>Sí</td>\n",
       "      <td>No</td>\n",
       "      <td>Básico</td>\n",
       "      <td>Ciencia de Datos y automatización</td>\n",
       "      <td>Sí</td>\n",
       "      <td>Cold Heart - PNAU REMIX Elton Jhon, Dua Lipa</td>\n",
       "    </tr>\n",
       "    <tr>\n",
       "      <th>34</th>\n",
       "      <td>2023/06/27 7:51:23 p. m. GMT-6</td>\n",
       "      <td>Ciudad Juarez</td>\n",
       "      <td>Entre 25 y 29</td>\n",
       "      <td>Sí</td>\n",
       "      <td>Sí</td>\n",
       "      <td>Intermedio</td>\n",
       "      <td>ciencia de datos, webscraping</td>\n",
       "      <td>Sí</td>\n",
       "      <td>Gorillaz - On Melancholy Hill</td>\n",
       "    </tr>\n",
       "    <tr>\n",
       "      <th>35</th>\n",
       "      <td>2023/06/27 7:55:00 p. m. GMT-6</td>\n",
       "      <td>Veracruz, estudio en Puebla</td>\n",
       "      <td>Entre 25 y 29</td>\n",
       "      <td>Sí</td>\n",
       "      <td>No</td>\n",
       "      <td>Básico</td>\n",
       "      <td>Lo relacionado con análisis de datos.</td>\n",
       "      <td>Sí</td>\n",
       "      <td>En este momento Los Años Maravillosos de Littl...</td>\n",
       "    </tr>\n",
       "    <tr>\n",
       "      <th>36</th>\n",
       "      <td>2023/06/27 8:05:42 p. m. GMT-6</td>\n",
       "      <td>CDMX</td>\n",
       "      <td>Entre 25 y 29</td>\n",
       "      <td>No</td>\n",
       "      <td>Sí</td>\n",
       "      <td>Básico</td>\n",
       "      <td>web scraping</td>\n",
       "      <td>No</td>\n",
       "      <td>Young Turks</td>\n",
       "    </tr>\n",
       "    <tr>\n",
       "      <th>37</th>\n",
       "      <td>2023/06/27 8:22:29 p. m. GMT-6</td>\n",
       "      <td>Estado de Mexico</td>\n",
       "      <td>Entre 21 y 24</td>\n",
       "      <td>Sí</td>\n",
       "      <td>Sí</td>\n",
       "      <td>Básico</td>\n",
       "      <td>librerias, bloques paquetes etc....</td>\n",
       "      <td>No</td>\n",
       "      <td>the weeknd- Out of time</td>\n",
       "    </tr>\n",
       "    <tr>\n",
       "      <th>38</th>\n",
       "      <td>2023/06/27 10:02:11 p. m. GMT-6</td>\n",
       "      <td>Ciudad Juarez, Chih</td>\n",
       "      <td>Entre 21 y 24</td>\n",
       "      <td>No</td>\n",
       "      <td>Sí</td>\n",
       "      <td>Básico</td>\n",
       "      <td>Analisis de datos</td>\n",
       "      <td>Sí</td>\n",
       "      <td>https://youtu.be/BGVUiMskx_U</td>\n",
       "    </tr>\n",
       "    <tr>\n",
       "      <th>39</th>\n",
       "      <td>2023/06/27 10:31:28 p. m. GMT-6</td>\n",
       "      <td>cd juarez</td>\n",
       "      <td>Entre 21 y 24</td>\n",
       "      <td>Sí</td>\n",
       "      <td>Sí</td>\n",
       "      <td>Básico</td>\n",
       "      <td>punteros</td>\n",
       "      <td>Sí</td>\n",
       "      <td>porter guiame quetzal</td>\n",
       "    </tr>\n",
       "    <tr>\n",
       "      <th>40</th>\n",
       "      <td>2023/06/28 10:12:04 p. m. GMT-6</td>\n",
       "      <td>Chihuahua</td>\n",
       "      <td>Entre 21 y 24</td>\n",
       "      <td>No</td>\n",
       "      <td>Sí</td>\n",
       "      <td>Básico</td>\n",
       "      <td>Machine Learning y Deep Learning</td>\n",
       "      <td>Sí</td>\n",
       "      <td>Runaway</td>\n",
       "    </tr>\n",
       "    <tr>\n",
       "      <th>41</th>\n",
       "      <td>2023/06/29 2:00:51 a. m. GMT-6</td>\n",
       "      <td>Vivo en Ciudad Juárez. Soy cubana</td>\n",
       "      <td>Más de 30</td>\n",
       "      <td>Sí</td>\n",
       "      <td>No</td>\n",
       "      <td>Intermedio</td>\n",
       "      <td>Cómo escribir un código de forma profesional, ...</td>\n",
       "      <td>No</td>\n",
       "      <td>Hay varias, pero últimamente escucho mucho \"Cu...</td>\n",
       "    </tr>\n",
       "    <tr>\n",
       "      <th>42</th>\n",
       "      <td>2023/07/03 1:55:24 p. m. GMT-6</td>\n",
       "      <td>Ciudad Juarez</td>\n",
       "      <td>Más de 30</td>\n",
       "      <td>No</td>\n",
       "      <td>Sí</td>\n",
       "      <td>Intermedio</td>\n",
       "      <td>Automatizacion</td>\n",
       "      <td>No</td>\n",
       "      <td>David Bowie - Heroes</td>\n",
       "    </tr>\n",
       "  </tbody>\n",
       "</table>\n",
       "</div>"
      ],
      "text/plain": [
       "                     Marca temporal  \\\n",
       "0    2023/06/27 7:42:12 p. m. GMT-6   \n",
       "1    2023/06/27 7:42:28 p. m. GMT-6   \n",
       "2    2023/06/27 7:42:44 p. m. GMT-6   \n",
       "3    2023/06/27 7:42:52 p. m. GMT-6   \n",
       "4    2023/06/27 7:42:56 p. m. GMT-6   \n",
       "5    2023/06/27 7:42:57 p. m. GMT-6   \n",
       "6    2023/06/27 7:42:57 p. m. GMT-6   \n",
       "7    2023/06/27 7:43:04 p. m. GMT-6   \n",
       "8    2023/06/27 7:43:10 p. m. GMT-6   \n",
       "9    2023/06/27 7:43:12 p. m. GMT-6   \n",
       "10   2023/06/27 7:43:12 p. m. GMT-6   \n",
       "11   2023/06/27 7:43:16 p. m. GMT-6   \n",
       "12   2023/06/27 7:43:16 p. m. GMT-6   \n",
       "13   2023/06/27 7:43:29 p. m. GMT-6   \n",
       "14   2023/06/27 7:43:34 p. m. GMT-6   \n",
       "15   2023/06/27 7:43:50 p. m. GMT-6   \n",
       "16   2023/06/27 7:44:01 p. m. GMT-6   \n",
       "17   2023/06/27 7:44:01 p. m. GMT-6   \n",
       "18   2023/06/27 7:44:12 p. m. GMT-6   \n",
       "19   2023/06/27 7:44:14 p. m. GMT-6   \n",
       "20   2023/06/27 7:44:17 p. m. GMT-6   \n",
       "21   2023/06/27 7:44:20 p. m. GMT-6   \n",
       "22   2023/06/27 7:44:25 p. m. GMT-6   \n",
       "23   2023/06/27 7:44:30 p. m. GMT-6   \n",
       "24   2023/06/27 7:44:31 p. m. GMT-6   \n",
       "25   2023/06/27 7:45:04 p. m. GMT-6   \n",
       "26   2023/06/27 7:45:37 p. m. GMT-6   \n",
       "27   2023/06/27 7:45:45 p. m. GMT-6   \n",
       "28   2023/06/27 7:46:10 p. m. GMT-6   \n",
       "29   2023/06/27 7:46:14 p. m. GMT-6   \n",
       "30   2023/06/27 7:46:28 p. m. GMT-6   \n",
       "31   2023/06/27 7:46:32 p. m. GMT-6   \n",
       "32   2023/06/27 7:46:37 p. m. GMT-6   \n",
       "33   2023/06/27 7:49:23 p. m. GMT-6   \n",
       "34   2023/06/27 7:51:23 p. m. GMT-6   \n",
       "35   2023/06/27 7:55:00 p. m. GMT-6   \n",
       "36   2023/06/27 8:05:42 p. m. GMT-6   \n",
       "37   2023/06/27 8:22:29 p. m. GMT-6   \n",
       "38  2023/06/27 10:02:11 p. m. GMT-6   \n",
       "39  2023/06/27 10:31:28 p. m. GMT-6   \n",
       "40  2023/06/28 10:12:04 p. m. GMT-6   \n",
       "41   2023/06/29 2:00:51 a. m. GMT-6   \n",
       "42   2023/07/03 1:55:24 p. m. GMT-6   \n",
       "\n",
       "                          1.- ¿De dónde eres? 2.- ¿Cuántos años tienes?  \\\n",
       "0                                  Cd. Juárez             Entre 21 y 24   \n",
       "1                        chihuahua, chihuahua             Entre 21 y 24   \n",
       "2                         Chihuahua Chihuahua             Entre 18 y 20   \n",
       "3                         Chihuahua Chihuahua             Entre 21 y 24   \n",
       "4                            Chihuahua, Chih.                 Más de 30   \n",
       "5                                      Puebla             Entre 21 y 24   \n",
       "6                             Cd. Juarez Chih                 Más de 30   \n",
       "7                               Ciudad Juarez             Entre 21 y 24   \n",
       "8                              Aguascalientes             Entre 18 y 20   \n",
       "9                            Cd Juarez, Chih.             Entre 21 y 24   \n",
       "10                                     Juárez             Entre 21 y 24   \n",
       "11                                 El Paso TX             Entre 18 y 20   \n",
       "12                       Cuauhtemoc Chihuahua                 Más de 30   \n",
       "13                                Cd. Juárez              Entre 21 y 24   \n",
       "14                                    Hidalgo             Entre 25 y 29   \n",
       "15                          Cd. Juarez, Chih.             Entre 21 y 24   \n",
       "16                       Cd. Juarez Chihuahua                 Más de 30   \n",
       "17             Ciudad Juarez Chihuahua Mexico             Entre 21 y 24   \n",
       "18                              Ciudad Juarez                 Más de 30   \n",
       "19                           Chihuahua, Chih.                 Más de 30   \n",
       "20                              Ciudad Juarez             Entre 18 y 20   \n",
       "21               Cd Juárez Chihuahua, México.                 Más de 30   \n",
       "22                              Ciudad Juárez                 Más de 30   \n",
       "23                                 Cd. Juárez             Entre 25 y 29   \n",
       "24                                     Juarez             Entre 25 y 29   \n",
       "25                     Cd. Juárez, Chihuahua              Entre 18 y 20   \n",
       "26                            Aguascalientes              Entre 21 y 24   \n",
       "27                                 Cd. Juarez             Entre 15 y 17   \n",
       "28  San Francisco de los Romo, Aguascalientes             Entre 18 y 20   \n",
       "29                                  Chihuahua             Entre 18 y 20   \n",
       "30                              Ciudad Juárez             Entre 21 y 24   \n",
       "31                                 Zacatecas              Entre 25 y 29   \n",
       "32                              Ciudad Juarez             Entre 21 y 24   \n",
       "33                              Ciudad Juárez             Entre 18 y 20   \n",
       "34                              Ciudad Juarez             Entre 25 y 29   \n",
       "35                Veracruz, estudio en Puebla             Entre 25 y 29   \n",
       "36                                       CDMX             Entre 25 y 29   \n",
       "37                           Estado de Mexico             Entre 21 y 24   \n",
       "38                        Ciudad Juarez, Chih             Entre 21 y 24   \n",
       "39                                  cd juarez             Entre 21 y 24   \n",
       "40                                  Chihuahua             Entre 21 y 24   \n",
       "41          Vivo en Ciudad Juárez. Soy cubana                 Más de 30   \n",
       "42                              Ciudad Juarez                 Más de 30   \n",
       "\n",
       "   3.- ¿Estudias? 4.- ¿Trabajas?  \\\n",
       "0              Sí             No   \n",
       "1              Sí             Sí   \n",
       "2              Sí             Sí   \n",
       "3              Sí             Sí   \n",
       "4              No             Sí   \n",
       "5              Sí             Sí   \n",
       "6              No             Sí   \n",
       "7              Sí             Sí   \n",
       "8              Sí             No   \n",
       "9              Sí             No   \n",
       "10             Sí             Sí   \n",
       "11             Sí             No   \n",
       "12             No             Sí   \n",
       "13             Sí             Sí   \n",
       "14             Sí             Sí   \n",
       "15             Sí             Sí   \n",
       "16             No             Sí   \n",
       "17             No             No   \n",
       "18             Sí             No   \n",
       "19             No             Sí   \n",
       "20             Sí             No   \n",
       "21             No             Sí   \n",
       "22             No             Sí   \n",
       "23             Sí             No   \n",
       "24             Sí             Sí   \n",
       "25             Sí             No   \n",
       "26             Sí             No   \n",
       "27             Sí             No   \n",
       "28             Sí             No   \n",
       "29             Sí             Sí   \n",
       "30             Sí             No   \n",
       "31             Sí             Sí   \n",
       "32             Sí             Sí   \n",
       "33             Sí             No   \n",
       "34             Sí             Sí   \n",
       "35             Sí             No   \n",
       "36             No             Sí   \n",
       "37             Sí             Sí   \n",
       "38             No             Sí   \n",
       "39             Sí             Sí   \n",
       "40             No             Sí   \n",
       "41             Sí             No   \n",
       "42             No             Sí   \n",
       "\n",
       "   5.- ¿Cuál es tu nivel de conocimiento en Python?  \\\n",
       "0                                            Básico   \n",
       "1                                            Básico   \n",
       "2                                            Básico   \n",
       "3                                            Básico   \n",
       "4                                            Básico   \n",
       "5                                            Básico   \n",
       "6                                        Intermedio   \n",
       "7                                            Básico   \n",
       "8                                            Básico   \n",
       "9                                            Básico   \n",
       "10                                           Básico   \n",
       "11                                           Básico   \n",
       "12                                       Intermedio   \n",
       "13                                           Básico   \n",
       "14                                           Básico   \n",
       "15                                           Básico   \n",
       "16                                           Básico   \n",
       "17                                           Básico   \n",
       "18                                           Básico   \n",
       "19                                           Básico   \n",
       "20                                           Básico   \n",
       "21                                           Básico   \n",
       "22                                           Básico   \n",
       "23                                           Básico   \n",
       "24                                           Básico   \n",
       "25                        Nunca he utilizado Python   \n",
       "26                                       Intermedio   \n",
       "27                                           Básico   \n",
       "28                                           Básico   \n",
       "29                                           Básico   \n",
       "30                                           Básico   \n",
       "31                                           Básico   \n",
       "32                                           Básico   \n",
       "33                                           Básico   \n",
       "34                                       Intermedio   \n",
       "35                                           Básico   \n",
       "36                                           Básico   \n",
       "37                                           Básico   \n",
       "38                                           Básico   \n",
       "39                                           Básico   \n",
       "40                                           Básico   \n",
       "41                                       Intermedio   \n",
       "42                                       Intermedio   \n",
       "\n",
       "   6.- ¿Qué tema relacionado con Python te gustaría aprender?  \\\n",
       "0                              Manejar bases de datos           \n",
       "1                                     machine lerning           \n",
       "2       Automatización y creación de apps/páginas web           \n",
       "3                                   Análisis de datos           \n",
       "4                               Conocer más librerias           \n",
       "5                                 APIS y data science           \n",
       "6                                   Analisis de Datos           \n",
       "7                                    Ciencia de datos           \n",
       "8   Me gustaria aprender un poco de todo, pero mas...           \n",
       "9   No tengo un tema en especifico, solo deseo rep...           \n",
       "10                                  Análisis de datos           \n",
       "11                                                POO           \n",
       "12                            Web y análisis de datos           \n",
       "13  Flujos de trabajo, análisis de datos, análisis...           \n",
       "14                                      Deep learning           \n",
       "15             Programación orientada a objetos (POO)           \n",
       "16  un poco de todo para irme familiarizandome a l...           \n",
       "17                                          API y IA            \n",
       "18     Web Scrapping y limpieza de conjuntos de datos           \n",
       "19                                  análisis de datos           \n",
       "20     Analisis de datos y su uso para desarrollo web           \n",
       "21      Ciencia de Datos, y API`s y Todo lo de Python           \n",
       "22     recolección, limpieza y visualización de datos           \n",
       "23                                   Ciencia de datos           \n",
       "24  Como hacer una interfaz para poder hacer un pr...           \n",
       "25                    Programación para uso academico           \n",
       "26                un poco de inteligencia artificial            \n",
       "27                                             Bucles           \n",
       "28  Librerias con aplicaciones en el mundo de las ...           \n",
       "29                                         desarrollo           \n",
       "30                             Procesamiento de datos           \n",
       "31                                               Apis           \n",
       "32                                    MachineLearning           \n",
       "33                  Ciencia de Datos y automatización           \n",
       "34                      ciencia de datos, webscraping           \n",
       "35              Lo relacionado con análisis de datos.           \n",
       "36                                       web scraping           \n",
       "37                librerias, bloques paquetes etc....           \n",
       "38                                  Analisis de datos           \n",
       "39                                           punteros           \n",
       "40                   Machine Learning y Deep Learning           \n",
       "41  Cómo escribir un código de forma profesional, ...           \n",
       "42                                     Automatizacion           \n",
       "\n",
       "   7.- ¿Has participado en algún curso anteriormente en el IA Center?  \\\n",
       "0                                                  No                   \n",
       "1                                                  Sí                   \n",
       "2                                                  No                   \n",
       "3                                                  Sí                   \n",
       "4                                                  Sí                   \n",
       "5                                                  No                   \n",
       "6                                                  Sí                   \n",
       "7                                                  Sí                   \n",
       "8                                                  No                   \n",
       "9                                                  Sí                   \n",
       "10                                                 No                   \n",
       "11                                                 No                   \n",
       "12                                                 No                   \n",
       "13                                                 Sí                   \n",
       "14                                                 No                   \n",
       "15                                                 Sí                   \n",
       "16                                                 Sí                   \n",
       "17                                                 Sí                   \n",
       "18                                                 Sí                   \n",
       "19                                                 Sí                   \n",
       "20                                                 No                   \n",
       "21                                                 Sí                   \n",
       "22                                                 Sí                   \n",
       "23                                                 Sí                   \n",
       "24                                                 Sí                   \n",
       "25                                                 No                   \n",
       "26                                                 No                   \n",
       "27                                                 Sí                   \n",
       "28                                                 No                   \n",
       "29                                                 No                   \n",
       "30                                                 Sí                   \n",
       "31                                                 Sí                   \n",
       "32                                                 No                   \n",
       "33                                                 Sí                   \n",
       "34                                                 Sí                   \n",
       "35                                                 Sí                   \n",
       "36                                                 No                   \n",
       "37                                                 No                   \n",
       "38                                                 Sí                   \n",
       "39                                                 Sí                   \n",
       "40                                                 Sí                   \n",
       "41                                                 No                   \n",
       "42                                                 No                   \n",
       "\n",
       "                    8.- ¿Cuál es tu canción favorita?  \n",
       "0                                            The Wolf  \n",
       "1                                     eternity, anyma  \n",
       "2                      Cornerstone- Arctic Monkeys :)  \n",
       "3                                     Sea Gets Hotter  \n",
       "4                          Love Me More, de Sam Smith  \n",
       "5                            Fireflight - Unbreakable  \n",
       "6                                Instrumental General  \n",
       "7                           La bruja de Marco Flores   \n",
       "8                                 Canela-Nanpa Basico  \n",
       "9   Depende del momento hy del día, ahora es Hielo...  \n",
       "10                                         No tengo:(  \n",
       "11                      The Words I Never Said / Mage  \n",
       "12                                   Dust in the wind  \n",
       "13                            Manto estelar - Moenia   \n",
       "14                                              Todas  \n",
       "15             Skillet-Comatose y Whisper in the Dark  \n",
       "16                  el hada y el mago de reta blancha  \n",
       "17  https://youtu.be/dQw4w9WgXcQ y https://youtu.b...  \n",
       "18                                   Hotel California  \n",
       "19  no tengo canción favorita, prácticamente no es...  \n",
       "20                          Burn My Dread - Persona 3  \n",
       "21                                               ....  \n",
       "22                                        Todo cuenta  \n",
       "23                                  Chosen - Maneskin  \n",
       "24                                  God's Plan- Drake  \n",
       "25         A man without love - Engelbert Humperdinck  \n",
       "26                                   Love of my life   \n",
       "27                    Jorge Drexler - El Plan Maestro  \n",
       "28                          Inolvidable - Luis Miguel  \n",
       "29                                          Last Call  \n",
       "30                   Lacrimosa- Matt Kent, Amber Dawn  \n",
       "31                               All the small things  \n",
       "32                Like I Love You - Justin Timberlake  \n",
       "33       Cold Heart - PNAU REMIX Elton Jhon, Dua Lipa  \n",
       "34                      Gorillaz - On Melancholy Hill  \n",
       "35  En este momento Los Años Maravillosos de Littl...  \n",
       "36                                        Young Turks  \n",
       "37                            the weeknd- Out of time  \n",
       "38                       https://youtu.be/BGVUiMskx_U  \n",
       "39                             porter guiame quetzal   \n",
       "40                                            Runaway  \n",
       "41  Hay varias, pero últimamente escucho mucho \"Cu...  \n",
       "42                              David Bowie - Heroes   "
      ]
     },
     "execution_count": 55,
     "metadata": {},
     "output_type": "execute_result"
    }
   ],
   "source": [
    "# df = pd.read_csv(\"/Users/mapko/OneDrive/Desktop/Python 3 Intermedio/Perfil de estudiante.csv\")\n",
    "\n",
    "df = pd.read_csv(\"../Python 3 Intermedio/Perfil de estudiante.csv\")\n",
    "\n",
    "\n",
    "df"
   ]
  },
  {
   "cell_type": "code",
   "execution_count": null,
   "metadata": {},
   "outputs": [],
   "source": [
    "df.head()"
   ]
  },
  {
   "cell_type": "code",
   "execution_count": null,
   "metadata": {},
   "outputs": [],
   "source": [
    "df.tail()"
   ]
  },
  {
   "cell_type": "code",
   "execution_count": null,
   "metadata": {},
   "outputs": [],
   "source": [
    "df.info()"
   ]
  },
  {
   "attachments": {},
   "cell_type": "markdown",
   "metadata": {},
   "source": [
    "### CSV"
   ]
  },
  {
   "cell_type": "code",
   "execution_count": null,
   "metadata": {},
   "outputs": [],
   "source": [
    "\n",
    "\n",
    "\n",
    "df = pd.read_csv('Perfil de estudiante.csv')\n",
    "\n",
    "print(df.to_string())"
   ]
  },
  {
   "attachments": {},
   "cell_type": "markdown",
   "metadata": {},
   "source": [
    "### JSON"
   ]
  },
  {
   "cell_type": "code",
   "execution_count": null,
   "metadata": {},
   "outputs": [],
   "source": [
    "df = pd.read_json(\"dataset.json\")\n",
    "\n",
    "print(df.to_string())"
   ]
  },
  {
   "attachments": {},
   "cell_type": "markdown",
   "metadata": {},
   "source": [
    "### Limpieza de datos"
   ]
  },
  {
   "cell_type": "code",
   "execution_count": null,
   "metadata": {},
   "outputs": [],
   "source": [
    "data = {\n",
    "    'Nombre': ['Juan', 'María', 'Pedro', 'Ana', 'Luis'],\n",
    "    'Edad': [25, 32, None, 42, 28],\n",
    "    'Fecha': ['31/01/2020', '31/01/2020', None, '31/01/2020', '01/31/2020'],\n",
    "    'Género': ['M', 'F', None, 'F', 'M'],\n",
    "    'Ciudad': ['Madrid', None, 'Madrid', 'Valencia', 'Barcelona'],\n",
    "    'Altura': [175, 163, 180, 158, 170],\n",
    "    'Peso': [70, None, 80, 60, 75],\n",
    "    'Ingresos': [50000, 60000, 40000, None, 55000]\n",
    "}"
   ]
  },
  {
   "cell_type": "code",
   "execution_count": null,
   "metadata": {},
   "outputs": [],
   "source": [
    "df = pd.DataFrame(data)\n",
    "\n",
    "print(df.to_string())"
   ]
  },
  {
   "cell_type": "code",
   "execution_count": null,
   "metadata": {},
   "outputs": [],
   "source": [
    "mediana_edad = df['Edad'].median()\n",
    "\n",
    "print(mediana_edad)"
   ]
  },
  {
   "cell_type": "code",
   "execution_count": null,
   "metadata": {},
   "outputs": [],
   "source": [
    "df['Edad'].fillna(mediana_edad, inplace=True)\n",
    "\n",
    "print(df)"
   ]
  },
  {
   "cell_type": "code",
   "execution_count": null,
   "metadata": {},
   "outputs": [],
   "source": [
    "df.loc[4, \"Fecha\"] = \"31/01/2020\"\n",
    "\n",
    "print(df)"
   ]
  },
  {
   "cell_type": "code",
   "execution_count": null,
   "metadata": {},
   "outputs": [],
   "source": [
    "mod_fecha = df['Fecha'].mode()\n",
    "\n",
    "print(mod_fecha)"
   ]
  },
  {
   "cell_type": "code",
   "execution_count": null,
   "metadata": {},
   "outputs": [],
   "source": [
    "df['Fecha'].fillna(mod_fecha.to_string(), inplace=True)\n",
    "\n",
    "print(df)"
   ]
  },
  {
   "cell_type": "code",
   "execution_count": null,
   "metadata": {},
   "outputs": [],
   "source": [
    "df_sin_vacios = df.dropna()\n",
    "\n",
    "print(df_sin_vacios.to_string())"
   ]
  },
  {
   "cell_type": "code",
   "execution_count": null,
   "metadata": {},
   "outputs": [],
   "source": [
    "df.dropna(inplace= True)\n",
    "\n",
    "print(df.to_string())"
   ]
  },
  {
   "cell_type": "code",
   "execution_count": null,
   "metadata": {},
   "outputs": [],
   "source": [
    "print(df.to_string())"
   ]
  },
  {
   "cell_type": "code",
   "execution_count": null,
   "metadata": {},
   "outputs": [],
   "source": [
    "df_relleno = df.fillna(\"Sin registro\")\n",
    "\n",
    "print(df_relleno.to_string())"
   ]
  },
  {
   "cell_type": "code",
   "execution_count": null,
   "metadata": {},
   "outputs": [],
   "source": [
    "df_cero = df[\"Ingresos\"].fillna(0)\n",
    "\n",
    "print(df_cero)"
   ]
  },
  {
   "cell_type": "code",
   "execution_count": null,
   "metadata": {},
   "outputs": [],
   "source": [
    "media = df[\"Ingresos\"].mean()\n",
    "\n",
    "print(media)"
   ]
  },
  {
   "cell_type": "code",
   "execution_count": null,
   "metadata": {},
   "outputs": [],
   "source": [
    "df_media = df[\"Ingresos\"].fillna(media)\n",
    "\n",
    "print(df_media)"
   ]
  },
  {
   "cell_type": "code",
   "execution_count": null,
   "metadata": {},
   "outputs": [],
   "source": [
    "mediana = df[\"Ingresos\"].median()\n",
    "\n",
    "print(mediana)"
   ]
  },
  {
   "cell_type": "code",
   "execution_count": null,
   "metadata": {},
   "outputs": [],
   "source": [
    "df_mediana = df[\"Ingresos\"].fillna(mediana)\n",
    "\n",
    "print(df_mediana)"
   ]
  },
  {
   "cell_type": "code",
   "execution_count": null,
   "metadata": {},
   "outputs": [],
   "source": [
    "moda = df[\"Ingresos\"].mode()\n",
    "\n",
    "print(moda)"
   ]
  },
  {
   "cell_type": "code",
   "execution_count": null,
   "metadata": {},
   "outputs": [],
   "source": [
    "df_moda = df[\"Ingresos\"].fillna(moda)\n",
    "\n",
    "print(df_moda)"
   ]
  },
  {
   "cell_type": "code",
   "execution_count": null,
   "metadata": {},
   "outputs": [],
   "source": [
    "df.loc[1, \"Peso\"] = 70\n",
    "\n",
    "print(df)"
   ]
  },
  {
   "cell_type": "code",
   "execution_count": null,
   "metadata": {},
   "outputs": [],
   "source": [
    "data = {\n",
    "    'Nombre': ['Juan', 'María', 'Pedro', 'Ana', 'Luis', 'Luis'],\n",
    "    'Edad': [25, 32, None, 42, 28, 28],\n",
    "    'Fecha': ['31/01/2020', '31/01/2020', None, '31/01/2020', '01/31/2020', '01/31/2020'],\n",
    "    'Género': ['M', 'F', None, 'F', 'M', 'M'],\n",
    "    'Ciudad': ['Madrid', None, 'Madrid', 'Valencia', 'Barcelona','Barcelona'],\n",
    "    'Altura': [175, 163, 180, 158, 170, 170],\n",
    "    'Peso': [70, None, 80, 60, 75, 75],\n",
    "    'Ingresos': [50000, 60000, 40000, None, 55000, 55000]\n",
    "}"
   ]
  },
  {
   "cell_type": "code",
   "execution_count": null,
   "metadata": {},
   "outputs": [],
   "source": [
    "df = pd.DataFrame(data)\n",
    "\n",
    "df"
   ]
  },
  {
   "cell_type": "code",
   "execution_count": null,
   "metadata": {},
   "outputs": [],
   "source": [
    "df.duplicated()"
   ]
  },
  {
   "cell_type": "code",
   "execution_count": null,
   "metadata": {},
   "outputs": [],
   "source": [
    "df.drop_duplicates(inplace= True)\n",
    "\n",
    "df"
   ]
  },
  {
   "cell_type": "code",
   "execution_count": null,
   "metadata": {},
   "outputs": [],
   "source": [
    "data = {\n",
    "    'A': [1, 2, 3, 4, 5],\n",
    "    'B': [5, 4, 3, 2, 1],\n",
    "    'C': [2, 4, 6, 8, 10]\n",
    "}"
   ]
  },
  {
   "cell_type": "code",
   "execution_count": null,
   "metadata": {},
   "outputs": [],
   "source": [
    "df = pd.DataFrame(data)"
   ]
  },
  {
   "cell_type": "code",
   "execution_count": null,
   "metadata": {},
   "outputs": [],
   "source": [
    "df.corr()"
   ]
  },
  {
   "cell_type": "markdown",
   "metadata": {},
   "source": [
    "# Matplotlib"
   ]
  },
  {
   "cell_type": "code",
   "execution_count": null,
   "metadata": {},
   "outputs": [],
   "source": [
    "# pip install matplotlib"
   ]
  },
  {
   "cell_type": "code",
   "execution_count": null,
   "metadata": {},
   "outputs": [],
   "source": [
    "import matplotlib as plt"
   ]
  },
  {
   "cell_type": "code",
   "execution_count": null,
   "metadata": {},
   "outputs": [],
   "source": [
    "import matplotlib.pyplot as plt"
   ]
  },
  {
   "cell_type": "markdown",
   "metadata": {},
   "source": [
    "## Plot"
   ]
  },
  {
   "cell_type": "code",
   "execution_count": null,
   "metadata": {},
   "outputs": [],
   "source": [
    "import numpy as np\n",
    "\n",
    "puntos_x = np.array([0, 4, 8, 16])\n",
    "\n",
    "puntos_y = np.array([6, 12, 24, 48])\n",
    "\n",
    "plt.plot(puntos_x, puntos_y)\n",
    "\n",
    "plt.show()"
   ]
  },
  {
   "cell_type": "code",
   "execution_count": null,
   "metadata": {},
   "outputs": [],
   "source": [
    "x1 = np.array([0, 1, 2, 3])\n",
    "y1 = np.array([3, 8, 1, 10])\n",
    "x2 = np.array([0, 1, 2, 3])\n",
    "y2 = np.array([6, 2, 7, 11])\n",
    "\n",
    "plt.plot(x1, y1, x2, y2)\n",
    "plt.show()"
   ]
  },
  {
   "cell_type": "code",
   "execution_count": null,
   "metadata": {},
   "outputs": [],
   "source": [
    "y1 = np.array([3, 8, 1, 10])\n",
    "y2 = np.array([6, 2, 7, 11])\n",
    "\n",
    "plt.plot(y1)\n",
    "plt.plot(y2)\n",
    "\n",
    "plt.show()"
   ]
  },
  {
   "cell_type": "markdown",
   "metadata": {},
   "source": [
    "## Formato"
   ]
  },
  {
   "cell_type": "code",
   "execution_count": null,
   "metadata": {},
   "outputs": [],
   "source": [
    "puntos_y = np.array([6, 12, 24, 48])\n",
    "\n",
    "plt.plot(puntos_y, 'o')\n",
    "\n",
    "plt.show()"
   ]
  },
  {
   "cell_type": "code",
   "execution_count": null,
   "metadata": {},
   "outputs": [],
   "source": [
    "plt.plot(puntos_x, puntos_y, 'x')\n",
    "\n",
    "plt.show()\n",
    "\n",
    "# Marcador\n",
    "\n",
    "# 'o'\n",
    "# '*'\n",
    "# '.'\n",
    "# ','\n",
    "# 'x'\n",
    "# 'X'\n",
    "# '+'\t\n",
    "# 'P'\t\n",
    "# 's'\n",
    "# 'D'\n",
    "# 'd'\t\n",
    "# 'p'\t\n",
    "# 'H'\n",
    "# 'h'\n",
    "# 'v'\n",
    "# '^'\n",
    "# '<'\t\n",
    "# '>'\t\n",
    "# '1'\t\n",
    "# '2'\n",
    "# '3'\t\n",
    "# '4'\t\n",
    "# '|'\n",
    "# '_'"
   ]
  },
  {
   "cell_type": "code",
   "execution_count": null,
   "metadata": {},
   "outputs": [],
   "source": [
    "plt.plot(puntos_x, puntos_y, '-.')\n",
    "\n",
    "plt.show()\n",
    "\n",
    "\n",
    "# Línea\n",
    "\n",
    "# '-'\n",
    "# ':'\n",
    "# '--'\t\t\n",
    "# '-.'"
   ]
  },
  {
   "cell_type": "code",
   "execution_count": null,
   "metadata": {},
   "outputs": [],
   "source": [
    "plt.plot(puntos_x, puntos_y, 'g')\n",
    "\n",
    "plt.show()\n",
    "\n",
    "# Color\n",
    "\n",
    "# 'r'\n",
    "# 'g'\n",
    "# 'b'\n",
    "# 'c'\n",
    "# 'm'\n",
    "# 'y'\n",
    "# 'k'\n",
    "# 'w'"
   ]
  },
  {
   "cell_type": "code",
   "execution_count": null,
   "metadata": {},
   "outputs": [],
   "source": [
    "plt.plot(puntos_x, puntos_y, '*-.r')\n",
    "\n",
    "plt.show()"
   ]
  },
  {
   "cell_type": "code",
   "execution_count": null,
   "metadata": {},
   "outputs": [],
   "source": [
    "plt.plot(puntos_x, puntos_y, 'o--k', ms=16, mec= 'r', linewidth= '16')\n",
    "\n",
    "plt.show()"
   ]
  },
  {
   "cell_type": "markdown",
   "metadata": {},
   "source": [
    "## Descripción"
   ]
  },
  {
   "cell_type": "code",
   "execution_count": null,
   "metadata": {},
   "outputs": [],
   "source": [
    "x = np.array([80, 85, 90, 95, 100, 105, 110, 115, 120, 125])\n",
    "y = np.array([240, 250, 260, 270, 280, 290, 300, 310, 320, 330])\n",
    "\n",
    "plt.plot(x, y)\n",
    "\n",
    "plt.title(\"Estadísticas Deportivas\")\n",
    "\n",
    "plt.xlabel(\"Pulso Promedio\")\n",
    "\n",
    "plt.ylabel(\"Quema de Calorías\")\n",
    "\n",
    "plt.show()"
   ]
  },
  {
   "cell_type": "code",
   "execution_count": null,
   "metadata": {},
   "outputs": [],
   "source": [
    "plt.plot(x, y)\n",
    "\n",
    "font1 = {'family':'serif','color':'blue','size':20}\n",
    "font2 = {'family':'serif','color':'darkred','size':15}\n",
    "\n",
    "plt.title(\"Estadísticas Deportivas\", fontdict=font1)\n",
    "\n",
    "plt.xlabel(\"Pulso Promedio\", fontdict=font2)\n",
    "\n",
    "plt.ylabel(\"Quema de Calorías\", fontdict=font2)\n",
    "\n",
    "plt.show()"
   ]
  },
  {
   "cell_type": "code",
   "execution_count": null,
   "metadata": {},
   "outputs": [],
   "source": [
    "plt.title(\"Estadísticas Deportivas\", loc=\"center\")\n",
    "plt.xlabel(\"Pulso Promedio\")\n",
    "plt.ylabel(\"Quema de Calorías\")\n",
    "\n",
    "plt.plot(x, y)\n",
    "plt.show()"
   ]
  },
  {
   "cell_type": "markdown",
   "metadata": {},
   "source": [
    "## Grid"
   ]
  },
  {
   "cell_type": "code",
   "execution_count": null,
   "metadata": {},
   "outputs": [],
   "source": [
    "x = np.array([80, 85, 90, 95, 100, 105, 110, 115, 120, 125])\n",
    "y = np.array([240, 250, 260, 270, 280, 290, 300, 310, 320, 330])\n",
    "\n",
    "plt.title(\"Estadísticas Deportivas\")\n",
    "plt.xlabel(\"Pulso Promedio\")\n",
    "plt.ylabel(\"Quema de Calorías\")\n",
    "\n",
    "plt.plot(x, y)\n",
    "\n",
    "plt.grid()\n",
    "\n",
    "plt.show()"
   ]
  },
  {
   "cell_type": "code",
   "execution_count": null,
   "metadata": {},
   "outputs": [],
   "source": [
    "x = np.array([80, 85, 90, 95, 100, 105, 110, 115, 120, 125])\n",
    "y = np.array([240, 250, 260, 270, 280, 290, 300, 310, 320, 330])\n",
    "\n",
    "plt.title(\"Estadísticas Deportivas\")\n",
    "plt.xlabel(\"Pulso Promedio\")\n",
    "plt.ylabel(\"Quema de Calorías\")\n",
    "\n",
    "plt.plot(x, y)\n",
    "\n",
    "plt.grid(axis= 'x', linestyle= '--', linewidth= 1)\n",
    "\n",
    "plt.show()"
   ]
  },
  {
   "cell_type": "markdown",
   "metadata": {},
   "source": [
    "## Multiples gráficos"
   ]
  },
  {
   "cell_type": "code",
   "execution_count": null,
   "metadata": {},
   "outputs": [],
   "source": [
    "#plot 1:\n",
    "x = np.array([0, 1, 2, 3])\n",
    "y = np.array([3, 8, 1, 10])\n",
    "\n",
    "plt.subplot(1, 2, 2)\n",
    "plt.plot(x,y)\n",
    "\n",
    "#plot 2:\n",
    "x = np.array([0, 1, 2, 3])\n",
    "y = np.array([10, 20, 30, 40])\n",
    "\n",
    "plt.subplot(1, 2, 1)\n",
    "plt.plot(x,y)\n",
    "\n",
    "plt.show()"
   ]
  },
  {
   "cell_type": "code",
   "execution_count": null,
   "metadata": {},
   "outputs": [],
   "source": [
    "#plot 1:\n",
    "x = np.array([0, 1, 2, 3])\n",
    "y = np.array([3, 8, 1, 10])\n",
    "\n",
    "plt.subplot(2, 1, 2)\n",
    "plt.plot(x,y)\n",
    "\n",
    "#plot 2:\n",
    "x = np.array([0, 1, 2, 3])\n",
    "y = np.array([10, 20, 30, 40])\n",
    "\n",
    "plt.subplot(2, 1, 1)\n",
    "plt.plot(x,y)\n",
    "\n",
    "plt.show()"
   ]
  },
  {
   "cell_type": "code",
   "execution_count": null,
   "metadata": {},
   "outputs": [],
   "source": [
    "x = np.array([0, 1, 2, 3])\n",
    "y = np.array([3, 8, 1, 10])\n",
    "\n",
    "plt.subplot(2, 3, 1)\n",
    "plt.plot(x,y)\n",
    "\n",
    "x = np.array([0, 1, 2, 3])\n",
    "y = np.array([10, 20, 30, 40])\n",
    "\n",
    "plt.subplot(2, 3, 2)\n",
    "plt.plot(x,y)\n",
    "\n",
    "x = np.array([0, 1, 2, 3])\n",
    "y = np.array([3, 8, 1, 10])\n",
    "\n",
    "plt.subplot(2, 3, 3)\n",
    "plt.plot(x,y)\n",
    "\n",
    "x = np.array([0, 1, 2, 3])\n",
    "y = np.array([10, 20, 30, 40])\n",
    "\n",
    "plt.subplot(2, 3, 4)\n",
    "plt.plot(x,y)\n",
    "\n",
    "x = np.array([0, 1, 2, 3])\n",
    "y = np.array([3, 8, 1, 10])\n",
    "\n",
    "plt.subplot(2, 3, 5)\n",
    "plt.plot(x,y)\n",
    "\n",
    "x = np.array([0, 1, 2, 3])\n",
    "y = np.array([10, 20, 30, 40])\n",
    "\n",
    "plt.subplot(2, 3, 6)\n",
    "plt.plot(x,y)\n",
    "\n",
    "plt.show()"
   ]
  },
  {
   "cell_type": "code",
   "execution_count": null,
   "metadata": {},
   "outputs": [],
   "source": [
    "#plot 1:\n",
    "x = np.array([0, 1, 2, 3])\n",
    "y = np.array([3, 8, 1, 10])\n",
    "\n",
    "plt.subplot(1, 2, 1)\n",
    "plt.plot(x,y)\n",
    "plt.title(\"VENTAS\")\n",
    "\n",
    "#plot 2:\n",
    "x = np.array([0, 1, 2, 3])\n",
    "y = np.array([10, 20, 30, 40])\n",
    "\n",
    "plt.subplot(1, 2, 2)\n",
    "plt.plot(x,y)\n",
    "plt.title(\"INGRESOS\")\n",
    "\n",
    "plt.show()"
   ]
  },
  {
   "cell_type": "code",
   "execution_count": null,
   "metadata": {},
   "outputs": [],
   "source": [
    "#plot 1:\n",
    "x = np.array([0, 1, 2, 3])\n",
    "y = np.array([3, 8, 1, 10])\n",
    "\n",
    "plt.subplot(1, 2, 1)\n",
    "plt.plot(x,y)\n",
    "plt.title(\"VENTAS\")\n",
    "\n",
    "#plot 2:\n",
    "x = np.array([0, 1, 2, 3])\n",
    "y = np.array([10, 20, 30, 40])\n",
    "\n",
    "plt.subplot(1, 2, 2)\n",
    "plt.plot(x,y)\n",
    "plt.title(\"INGRESOS\")\n",
    "\n",
    "plt.suptitle(\"2023\")\n",
    "plt.savefig('ejemplo.png')\n",
    "plt.savefig('ejemplo.pdf')\n",
    "plt.savefig('ejemplo.svg')\n",
    "plt.show()"
   ]
  },
  {
   "cell_type": "markdown",
   "metadata": {},
   "source": [
    "## Scatter"
   ]
  },
  {
   "cell_type": "code",
   "execution_count": null,
   "metadata": {},
   "outputs": [],
   "source": [
    "x = np.array([5,7,8,7,2,17,2,9,4,11,12,9,6])\n",
    "y = np.array([99,86,87,88,111,86,103,87,94,78,77,85,86])\n",
    "\n",
    "plt.scatter(x, y)\n",
    "\n",
    "plt.show()"
   ]
  },
  {
   "cell_type": "code",
   "execution_count": null,
   "metadata": {},
   "outputs": [],
   "source": [
    "#day one, the age and speed of 13 cars:\n",
    "x = np.array([5,7,8,7,2,17,2,9,4,11,12,9,6])\n",
    "y = np.array([99,86,87,88,111,86,103,87,94,78,77,85,86])\n",
    "plt.scatter(x, y)\n",
    "\n",
    "#day two, the age and speed of 15 cars:\n",
    "x = np.array([2,2,8,1,15,8,12,9,7,3,11,4,7,14,12])\n",
    "y = np.array([100,105,84,105,90,99,90,95,94,100,79,112,91,80,85])\n",
    "plt.scatter(x, y)\n",
    "\n",
    "plt.show()"
   ]
  },
  {
   "cell_type": "code",
   "execution_count": null,
   "metadata": {},
   "outputs": [],
   "source": [
    "x = np.array([5,7,8,7,2,17,2,9,4,11,12,9,6])\n",
    "y = np.array([99,86,87,88,111,86,103,87,94,78,77,85,86])\n",
    "\n",
    "plt.scatter(x, y, color = 'r')\n",
    "\n",
    "x = np.array([2,2,8,1,15,8,12,9,7,3,11,4,7,14,12])\n",
    "y = np.array([100,105,84,105,90,99,90,95,94,100,79,112,91,80,85])\n",
    "\n",
    "plt.scatter(x, y, color = '#88c999')\n",
    "\n",
    "plt.show()"
   ]
  },
  {
   "cell_type": "code",
   "execution_count": null,
   "metadata": {},
   "outputs": [],
   "source": [
    "x = np.array([5,7,8,7,2,17,2,9,4,11,12,9,6])\n",
    "\n",
    "y = np.array([99,86,87,88,111,86,103,87,94,78,77,85,86])\n",
    "\n",
    "colors = np.array([\"red\",\"green\",\"blue\",\"yellow\",\"pink\",\"black\",\"orange\",\"purple\",\"beige\",\"brown\",\"gray\",\"cyan\",\"magenta\"])\n",
    "\n",
    "plt.scatter(x, y, c=colors)\n",
    "\n",
    "plt.show()"
   ]
  },
  {
   "cell_type": "code",
   "execution_count": null,
   "metadata": {},
   "outputs": [],
   "source": [
    "x = np.array([5,7,8,7,2,17,2,9,4,11,12,9,6])\n",
    "\n",
    "y = np.array([99,86,87,88,111,86,103,87,94,78,77,85,86])\n",
    "\n",
    "sizes = np.array([20,50,100,200,500,1000,60,90,10,300,600,800,75])\n",
    "\n",
    "plt.scatter(x, y, s=sizes)\n",
    "\n",
    "plt.show()"
   ]
  },
  {
   "cell_type": "code",
   "execution_count": null,
   "metadata": {},
   "outputs": [],
   "source": [
    "x = np.array([5,7,8,7,2,17,2,9,4,11,12,9,6])\n",
    "\n",
    "y = np.array([99,86,87,88,111,86,103,87,94,78,77,85,86])\n",
    "\n",
    "sizes = np.array([20,50,100,200,500,1000,60,90,10,300,600,800,75])\n",
    "\n",
    "plt.scatter(x, y, s=sizes, alpha=0.9)\n",
    "\n",
    "plt.show()"
   ]
  },
  {
   "cell_type": "code",
   "execution_count": null,
   "metadata": {},
   "outputs": [],
   "source": [
    "x = np.random.randint(100, size=(100))\n",
    "\n",
    "y = np.random.randint(100, size=(100))\n",
    "\n",
    "colors = np.random.randint(100, size=(100))\n",
    "\n",
    "sizes = 10 * np.random.randint(100, size=(100))\n",
    "\n",
    "plt.scatter(x, y, c=colors, s=sizes, alpha=0.5, cmap='twilight')\n",
    "\n",
    "plt.colorbar()\n",
    "\n",
    "plt.show()"
   ]
  },
  {
   "cell_type": "code",
   "execution_count": null,
   "metadata": {},
   "outputs": [],
   "source": [
    "x = np.array([5,7,8,7,2,17,2,9,4,11,12,9,6])\n",
    "\n",
    "y = np.array([99,86,87,88,111,86,103,87,94,78,77,85,86])\n",
    "\n",
    "colors = np.array([0, 10, 20, 30, 40, 45, 50, 55, 60, 70, 80, 90, 100])\n",
    "\n",
    "plt.scatter(x, y, c=colors, cmap='viridis')\n",
    "\n",
    "plt.colorbar()\n",
    "\n",
    "plt.show()"
   ]
  },
  {
   "cell_type": "markdown",
   "metadata": {},
   "source": [
    "## Barra"
   ]
  },
  {
   "cell_type": "code",
   "execution_count": null,
   "metadata": {},
   "outputs": [],
   "source": [
    "x = np.array([\"A\", \"B\", \"C\", \"D\"])\n",
    "\n",
    "y = np.array([3, 8, 1, 10])\n",
    "\n",
    "plt.bar(x,y)\n",
    "\n",
    "plt.show()"
   ]
  },
  {
   "cell_type": "code",
   "execution_count": null,
   "metadata": {},
   "outputs": [],
   "source": [
    "x = np.array([\"A\", \"B\", \"C\", \"D\"])\n",
    "y = np.array([3, 8, 1, 10])\n",
    "\n",
    "plt.bar(x, y, color= \"blue\")\n",
    "\n",
    "plt.show()"
   ]
  },
  {
   "cell_type": "code",
   "execution_count": null,
   "metadata": {},
   "outputs": [],
   "source": [
    "x = np.array([\"A\", \"B\", \"C\", \"D\"])\n",
    "y = np.array([3, 8, 1, 10])\n",
    "\n",
    "plt.bar(x, y, width = 0.1)\n",
    "plt.show()"
   ]
  },
  {
   "cell_type": "code",
   "execution_count": null,
   "metadata": {},
   "outputs": [],
   "source": [
    "x = np.array([\"A\", \"B\", \"C\", \"D\"])\n",
    "\n",
    "y = np.array([3, 8, 1, 10])\n",
    "\n",
    "plt.barh(x, y)\n",
    "\n",
    "plt.show()"
   ]
  },
  {
   "cell_type": "code",
   "execution_count": null,
   "metadata": {},
   "outputs": [],
   "source": [
    "x = np.array([\"A\", \"B\", \"C\", \"D\"])\n",
    "y = np.array([3, 8, 1, 10])\n",
    "\n",
    "plt.barh(x, y, height = 0.1)\n",
    "plt.show()"
   ]
  },
  {
   "cell_type": "markdown",
   "metadata": {},
   "source": [
    "## Histograma"
   ]
  },
  {
   "cell_type": "code",
   "execution_count": null,
   "metadata": {},
   "outputs": [],
   "source": [
    "x = np.random.normal(170, 10, 250)\n",
    "\n",
    "plt.hist(x)\n",
    "\n",
    "plt.show()"
   ]
  },
  {
   "cell_type": "markdown",
   "metadata": {},
   "source": [
    "## Pastel"
   ]
  },
  {
   "cell_type": "code",
   "execution_count": null,
   "metadata": {},
   "outputs": [],
   "source": [
    "y = np.array([35, 25, 25, 15])\n",
    "\n",
    "plt.pie(y)\n",
    "\n",
    "plt.show()"
   ]
  },
  {
   "cell_type": "code",
   "execution_count": null,
   "metadata": {},
   "outputs": [],
   "source": [
    "y = np.array([35, 25, 25, 15])\n",
    "\n",
    "mylabels = [\"Manzanas\", \"Bananas\", \"Cerezas\", \"Naranjas\"]\n",
    "\n",
    "plt.pie(y, labels = mylabels)\n",
    "\n",
    "plt.show()"
   ]
  },
  {
   "cell_type": "code",
   "execution_count": null,
   "metadata": {},
   "outputs": [],
   "source": [
    "y = np.array([35, 25, 25, 15])\n",
    "\n",
    "mylabels = [\"Manzanas\", \"Bananas\", \"Cerezas\", \"Naranjas\"]\n",
    "\n",
    "mycolors = [\"green\", \"yellow\", \"red\", \"orange\"]\n",
    "\n",
    "plt.pie(y, labels = mylabels, colors = mycolors)\n",
    "\n",
    "plt.show()"
   ]
  },
  {
   "cell_type": "code",
   "execution_count": null,
   "metadata": {},
   "outputs": [],
   "source": [
    "y = np.array([35, 25, 25, 15])\n",
    "\n",
    "mylabels = [\"Manzanas\", \"Bananas\", \"Cerezas\", \"Naranjas\"]\n",
    "\n",
    "mycolors = [\"green\", \"yellow\", \"red\", \"orange\"]\n",
    "\n",
    "myexplode = [0.2, 0, 0, 0]\n",
    "\n",
    "plt.pie(y, labels = mylabels, colors = mycolors, explode = myexplode)\n",
    "\n",
    "plt.show()"
   ]
  },
  {
   "cell_type": "code",
   "execution_count": null,
   "metadata": {},
   "outputs": [],
   "source": [
    "y = np.array([35, 25, 25, 15])\n",
    "\n",
    "mylabels = [\"Manzanas\", \"Bananas\", \"Cerezas\", \"Naranjas\"]\n",
    "\n",
    "mycolors = [\"green\", \"yellow\", \"red\", \"orange\"]\n",
    "\n",
    "plt.pie(y, labels = mylabels, colors = mycolors)\n",
    "\n",
    "plt.legend(title=\"Leyenda\")\n",
    "\n",
    "plt.show()"
   ]
  },
  {
   "cell_type": "markdown",
   "metadata": {},
   "source": [
    "## Salary Data"
   ]
  },
  {
   "cell_type": "code",
   "execution_count": null,
   "metadata": {},
   "outputs": [],
   "source": [
    "df = pd.read_csv(\"../dataset/Salary_Data.csv\")\n",
    "\n",
    "print(df.to_string())"
   ]
  },
  {
   "cell_type": "code",
   "execution_count": null,
   "metadata": {},
   "outputs": [],
   "source": [
    "df.info()"
   ]
  },
  {
   "cell_type": "code",
   "execution_count": null,
   "metadata": {},
   "outputs": [],
   "source": [
    "df"
   ]
  },
  {
   "cell_type": "code",
   "execution_count": null,
   "metadata": {},
   "outputs": [],
   "source": [
    "valor_max = df['Age'].max()\n",
    "\n",
    "print(valor_max)"
   ]
  },
  {
   "cell_type": "code",
   "execution_count": null,
   "metadata": {},
   "outputs": [],
   "source": [
    "df[df['Age'] == 62.0]"
   ]
  }
 ],
 "metadata": {
  "kernelspec": {
   "display_name": "Python 3",
   "language": "python",
   "name": "python3"
  },
  "language_info": {
   "codemirror_mode": {
    "name": "ipython",
    "version": 3
   },
   "file_extension": ".py",
   "mimetype": "text/x-python",
   "name": "python",
   "nbconvert_exporter": "python",
   "pygments_lexer": "ipython3",
   "version": "3.10.11"
  },
  "orig_nbformat": 4
 },
 "nbformat": 4,
 "nbformat_minor": 2
}
