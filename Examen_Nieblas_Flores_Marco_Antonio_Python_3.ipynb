{
  "cells": [
    {
      "cell_type": "markdown",
      "metadata": {
        "id": "R14GdExa4Wlz"
      },
      "source": [
        "# Examen diagnóstico de Python 3\n"
      ]
    },
    {
      "cell_type": "markdown",
      "metadata": {
        "id": "hLvf12xIfQB5"
      },
      "source": [
        "**Instrucciones**\n",
        "\n",
        "1. Lee detenidamente cada ejercicio.\n",
        "2. Escribe tu respuesta en el bloque de código correspondiente.\n",
        "3. Guarda y cambia el nombre del archivo por tu nombre completo.\n",
        "4. Sube el archivo en el grupo de Teams."
      ]
    },
    {
      "cell_type": "code",
      "execution_count": 12,
      "metadata": {},
      "outputs": [],
      "source": [
        "import numpy as np"
      ]
    },
    {
      "cell_type": "markdown",
      "metadata": {
        "id": "CPNEqohx6FuC"
      },
      "source": [
        "1.- Escribe un programa que **solicite** al usuario su **nombre** y **edad**, y luego **imprime** un mensaje que diga:\n",
        "\n",
        "`Hola, [nombre], tienes [edad] años.`\n"
      ]
    },
    {
      "cell_type": "code",
      "execution_count": 13,
      "metadata": {
        "colab": {
          "base_uri": "https://localhost:8080/"
        },
        "id": "IvUqj2jUbxwe",
        "outputId": "2a02f782-973a-4721-abf2-f0b4191b942a"
      },
      "outputs": [
        {
          "name": "stdout",
          "output_type": "stream",
          "text": [
            "Hola, Tony, tienes 18 años. \n"
          ]
        }
      ],
      "source": [
        "# Escribe aquí tu respuesta\n",
        "nombre = input('Introduzca su nombre: ')\n",
        "edad = input('Introduzca su edad: ')\n",
        "print('Hola, ' + nombre + ', tienes ' + edad +' años. ' )"
      ]
    },
    {
      "cell_type": "markdown",
      "metadata": {
        "id": "VtBl9PEF6wah"
      },
      "source": [
        "2.- Escribe un programa que **solicite** al usuario un **número** y **determina** si es positivo, negativo o cero."
      ]
    },
    {
      "cell_type": "code",
      "execution_count": 16,
      "metadata": {
        "colab": {
          "base_uri": "https://localhost:8080/"
        },
        "id": "4LcktBL07RKR",
        "outputId": "4864f764-fc4b-46cb-8ce4-d67e7a22669b"
      },
      "outputs": [
        {
          "name": "stdout",
          "output_type": "stream",
          "text": [
            "Este número ingresado es negativo\n"
          ]
        }
      ],
      "source": [
        "# Escribe aquí tu respuesta\n",
        "num=int(input('Introduzca un número cualquiera: '))\n",
        "\n",
        "if num > 0:\n",
        "    print('Este número ingresado es positivo')\n",
        "elif num < 0:\n",
        "    print('Este número ingresado es negativo')\n",
        "else:\n",
        "    print('Este número ingresado es 0 cero')"
      ]
    },
    {
      "cell_type": "markdown",
      "metadata": {
        "id": "8IcTfitT7ZUZ"
      },
      "source": [
        "3.- Escribe un programa que **muestre** en orden **descendente** los **números** del 100 al 1 utilizando un **bucle `for`**\\ "
      ]
    },
    {
      "cell_type": "code",
      "execution_count": 17,
      "metadata": {
        "colab": {
          "base_uri": "https://localhost:8080/"
        },
        "id": "QVUjacAZjZpH",
        "outputId": "7fe6a682-b30b-4f5f-a9bd-30585e2f6378"
      },
      "outputs": [
        {
          "name": "stdout",
          "output_type": "stream",
          "text": [
            "100, 99, 98, 97, 96, 95, 94, 93, 92, 91, 90, 89, 88, 87, 86, 85, 84, 83, 82, 81, 80, 79, 78, 77, 76, 75, 74, 73, 72, 71, 70, 69, 68, 67, 66, 65, 64, 63, 62, 61, 60, 59, 58, 57, 56, 55, 54, 53, 52, 51, 50, 49, 48, 47, 46, 45, 44, 43, 42, 41, 40, 39, 38, 37, 36, 35, 34, 33, 32, 31, 30, 29, 28, 27, 26, 25, 24, 23, 22, 21, 20, 19, 18, 17, 16, 15, 14, 13, 12, 11, 10, 9, 8, 7, 6, 5, 4, 3, 2, 1, "
          ]
        }
      ],
      "source": [
        "for i in range(100, 0,-1):\n",
        "    print(i, end=\", \");"
      ]
    },
    {
      "cell_type": "markdown",
      "metadata": {
        "id": "Eiy3aUz59ZlB"
      },
      "source": [
        "4.- Escribe una **función** que tome un **número** como **parámetro** y **devuelva** `True` si es primo y `False` si no lo es.\n",
        "\n",
        "*Los números primos son aquellos números enteros mayores que 1 que solo son divisibles por 1 y por sí mismos, es decir, no tienen ningún divisor aparte de esos dos. En otras palabras, son números que no se pueden factorizar en números más pequeños distintos de 1 y ellos mismos.*"
      ]
    },
    {
      "cell_type": "code",
      "execution_count": 20,
      "metadata": {
        "colab": {
          "base_uri": "https://localhost:8080/"
        },
        "id": "V8amZugK9H74",
        "outputId": "3591a004-cae8-4543-b48e-d1afa185e5bb"
      },
      "outputs": [
        {
          "name": "stdout",
          "output_type": "stream",
          "text": [
            "9  es un numero  False\n"
          ]
        }
      ],
      "source": [
        "# Escribe aquí tu respuesta\n",
        "def es_primo(number):\n",
        "\n",
        "    if number < 2:\n",
        "        return False\n",
        "\n",
        "    for i in range(2,number):\n",
        "        if number % i == 0:\n",
        "            return False\n",
        "    return True\n",
        "\n",
        "# Escribe aquí tu respuesta\n",
        "a=int(input('Introduzca un número cualquiera: '))\n",
        "\n",
        "print(a, ' es un numero ' , es_primo(a))"
      ]
    },
    {
      "cell_type": "markdown",
      "metadata": {
        "id": "CSoEWDtf_HD4"
      },
      "source": [
        "5.- Escribe un programa que **busque** la **posición** de un **elemento** dado en una **lista** y **muestre** su **índice**. Si el elemento no está presente, **muestra** un **mensaje** indicando que no se encontró."
      ]
    },
    {
      "cell_type": "code",
      "execution_count": 21,
      "metadata": {
        "colab": {
          "base_uri": "https://localhost:8080/"
        },
        "id": "sgdXYReV_GTz",
        "outputId": "b751708b-f1f6-44a6-9f27-110ff95a5ee0"
      },
      "outputs": [
        {
          "name": "stdout",
          "output_type": "stream",
          "text": [
            "Elemento encontrado en el índice 4\n"
          ]
        }
      ],
      "source": [
        "# Escribe aquí tu respuesta\n",
        "miLista = [1, 2, 3, 4, 5, 6, 7, 8, 9, 10]\n",
        "Encontrar = 5\n",
        "Encontrado = False\n",
        "\n",
        "for i in range(len(miLista)):\n",
        "    Encontrado = miLista[i] == Encontrar\n",
        "    if Encontrado:\n",
        "        break\n",
        "\n",
        "if Encontrado:\n",
        "    print(\"Elemento encontrado en el índice\", i)\n",
        "else:\n",
        "    print(\"El elemento está ausente\")"
      ]
    },
    {
      "cell_type": "markdown",
      "metadata": {
        "id": "J8ObdGFkAwkI"
      },
      "source": [
        "6.- Escribe una **función** que tome una **cadena** como **parámetro** y **devuelva** `True` si es palindromo y `False` si no lo es.\n",
        "\n",
        "*Un palíndromo es una palabra, frase, número o cualquier otra secuencia de caracteres que se lee de la misma manera de izquierda a derecha y de derecha a izquierda. Es decir, es una secuencia que se mantiene igual sin importar si se lee de adelante hacia atrás o viceversa.*\n",
        "\n",
        "---> **Reconocer**\n",
        "\n",
        "---> **Aárea**\n",
        "\n",
        "---> **Ana**\n",
        "\n",
        "---> **Ojo Rojo**\n",
        "\n",
        "---> **Rayar**\n",
        "\n",
        "---> **Acurrucar**\n",
        "\n",
        "---> **Rayar**\n",
        "\n",
        "---> **Arenera**\n",
        "\n",
        "---> **Rapar**\n",
        "\n",
        "---> **La ruta nos aportó otro paso natural**"
      ]
    },
    {
      "cell_type": "code",
      "execution_count": 4,
      "metadata": {
        "id": "fRtI_YuCA9N0"
      },
      "outputs": [
        {
          "name": "stdout",
          "output_type": "stream",
          "text": [
            "Vamos a introducir una palabra o frase para saber si es PALINDROMO...\n",
            "La frase o palabra proporcionada es PALINDOMA...\n"
          ]
        }
      ],
      "source": [
        "# Escribe aquí tu respuesta\n",
        "\n",
        "# Vamos a generar la función para saber si es la palabra o frase palíndromo?\n",
        "# Por ejemplo en una frase por ejemplo :\n",
        "# la ruta nos aportó otro paso natural == debe leerse : larutanosaportóotropasonatural, sin espacios\n",
        "def esPalindromo(fraseopalabra):\n",
        "    fraseopalabra = fraseopalabra.lower()          #La frase o palabra la convertimos en minusculas.\n",
        "    fraseopalabra = fraseopalabra.replace(\" \",\"\")  #La frase o palabra le quitamos los espacio.\n",
        "    fraseopalabra = fraseopalabra.replace(\"á\",\"a\") #La frase o palabra que tenga voales con acento las reemplazamos si acento.\n",
        "    fraseopalabra = fraseopalabra.replace(\"é\",\"e\") #La frase o palabra que tenga voales con acento las reemplazamos si acento.\n",
        "    fraseopalabra = fraseopalabra.replace(\"í\",\"i\") #La frase o palabra que tenga voales con acento las reemplazamos si acento.    \n",
        "    fraseopalabra = fraseopalabra.replace(\"ó\",\"o\") #La frase o palabra que tenga voales con acento las reemplazamos si acento. \n",
        "    fraseopalabra = fraseopalabra.replace(\"ú\",\"u\") #La frase o palabra que tenga voales con acento las reemplazamos si acento.  \n",
        "\n",
        "    # larutanosaportootropasonatural          Nuestra frase hecha palabra mide desde 1 a n\n",
        "    # 0123456789...................n\n",
        "    # n = largo de la frase o palabra - 1.    Y el largo de la palabra es el largo - 1\n",
        "\n",
        "    # oso = 3 caracteres el largo de esta palabra es 3 - 1 \n",
        "    # 012\n",
        "\n",
        "    a = 0                                 # Vamos crear una variable llamada (a) y será el indice 0, o primero indice\n",
        "    b = len(fraseopalabra) - 1            # Vamos crear una variable llamada (b) y será el último indice.\n",
        "\n",
        "\n",
        "    # Vamos a utilizar un ciclo for o bucle para verificar las letras que sean iguales desde (a) hacia (b) o de (b) hacia (a)\n",
        "    # Vamos a utilizar un iterador o contador (i) que va desde el primer indice (a) hasta lo largo de la frase o palabra con len(fraseopalabra).\n",
        "    for i in range(0, len(fraseopalabra)):\n",
        "        if fraseopalabra[a] == fraseopalabra[b]:   # Vamos a comprobar si la letra en el indice (a) es igual que en el indice (b)\n",
        "            a += 1                                 # Comprobado el indice incrementamos para pasarnos al siguiente indice (0,1,2,3,..). Si son iguales sigue el ciclo.\n",
        "            b -= 1                                 # Comprobado el indice decrementamos para pasarnos al siguiente indice (n-1...). Si son iguales sigue el ciclo.\n",
        "        else:                                      # Si alguna es diferente entonces retornamos FALSE indicando que la palabra o frase no es PALINDROMA.\n",
        "            return False                           # De lo contrario Retornamos TRUE\n",
        "    return True\n",
        "\n",
        "# Ahora vamos a verificar la Frase o Palabra llamando la funcion creada.\n",
        "print(\"Vamos a introducir una palabra o frase para saber si es PALINDROMO...\")\n",
        "fraseopalabra = input(\"Ingrese una palabra o frase\")\n",
        "# Ahora la desplegamos en pantalla\n",
        "\n",
        "if esPalindromo(fraseopalabra):\n",
        "    print(\"La frase o palabra proporcionada es PALINDOMA...\")\n",
        "else:\n",
        "    print(\"La frase o palabra proporcionada NO ES PALINDOMA...\")\n",
        "\n",
        "\n"
      ]
    },
    {
      "cell_type": "markdown",
      "metadata": {
        "id": "fSHSnXsEBdaZ"
      },
      "source": [
        "7.- Escribe un programa que **lea** un **archivo**, **muestre** su **contenido** y **cuente** cuantas **palabras** tiene."
      ]
    },
    {
      "cell_type": "code",
      "execution_count": null,
      "metadata": {
        "id": "tIaTsNPiCK28"
      },
      "outputs": [],
      "source": [
        "# Escribe aquí tu respuesta"
      ]
    },
    {
      "cell_type": "markdown",
      "metadata": {
        "id": "ujx5VYQ-VV9O"
      },
      "source": [
        "8.- Escribe un programa que **solicite** al usuario **ingresar** un **número** entero positivo y luego **muestre** en pantalla los primeros `n` **números** de la secuencia de **Fibonacci**, donde `n` es el número **ingresado** por el usuario.\n",
        "\n",
        "*La secuencia de números de Fibonacci es una sucesión infinita de números en la que cada número es la suma de los dos anteriores.*"
      ]
    },
    {
      "cell_type": "code",
      "execution_count": null,
      "metadata": {
        "id": "o_M8W1PFW-pm"
      },
      "outputs": [],
      "source": [
        "# Escribe aquí tu respuesta"
      ]
    },
    {
      "cell_type": "markdown",
      "metadata": {
        "id": "cfrRDkuLY68N"
      },
      "source": [
        "**EXTRA**\n",
        "\n",
        "**Modifica el primer ejercicio y agregar un bloque `try-expect` para verificar si la edad ingresada es correcta. En caso de error, se muestra un mensaje y se pide nuevamente la edad al usuario. El ciclo continúa hasta que se ingrese la edad correctamente.**"
      ]
    },
    {
      "cell_type": "code",
      "execution_count": null,
      "metadata": {
        "id": "uksLVAb8ZBBf"
      },
      "outputs": [],
      "source": [
        "# Escribe aquí tu respuesta"
      ]
    }
  ],
  "metadata": {
    "colab": {
      "provenance": []
    },
    "kernelspec": {
      "display_name": "Python 3",
      "name": "python3"
    },
    "language_info": {
      "codemirror_mode": {
        "name": "ipython",
        "version": 3
      },
      "file_extension": ".py",
      "mimetype": "text/x-python",
      "name": "python",
      "nbconvert_exporter": "python",
      "pygments_lexer": "ipython3",
      "version": "3.11.0"
    }
  },
  "nbformat": 4,
  "nbformat_minor": 0
}
